{
 "cells": [
  {
   "cell_type": "code",
   "execution_count": 1,
   "id": "8a459394",
   "metadata": {
    "collapsed": false,
    "jupyter": {
     "outputs_hidden": false
    },
    "tags": []
   },
   "outputs": [],
   "source": [
    "import numpy as np\n",
    "import torch\n",
    "from torch import nn"
   ]
  },
  {
   "cell_type": "code",
   "execution_count": 2,
   "id": "8d13c1a0-4a27-4032-8986-7585bfae3fb3",
   "metadata": {},
   "outputs": [
    {
     "data": {
      "text/plain": [
       "tensor([[[0.7707, 0.8056, 0.9130],\n",
       "         [0.1504, 0.3744, 0.5611],\n",
       "         [0.8523, 0.4776, 0.9606],\n",
       "         [0.6742, 0.4519, 0.4155],\n",
       "         [0.6135, 0.3816, 0.9419],\n",
       "         [0.3674, 0.7456, 0.8774]]])"
      ]
     },
     "execution_count": 2,
     "metadata": {},
     "output_type": "execute_result"
    }
   ],
   "source": [
    "# total batch number\n",
    "n_batches = 1\n",
    "\n",
    "# Six tokens per batch\n",
    "n_tokens = 6\n",
    "\n",
    "# Three features per token\n",
    "n_features = 3\n",
    "\n",
    "# Generate a random batch\n",
    "rand_batch = torch.rand((n_batches, n_tokens, n_features))\n",
    "rand_batch"
   ]
  },
  {
   "cell_type": "code",
   "execution_count": 3,
   "id": "5a67ffbe-2ee7-488a-99f5-e69ec358959d",
   "metadata": {},
   "outputs": [
    {
     "data": {
      "text/plain": [
       "RNN(3, 4, num_layers=2, batch_first=True)"
      ]
     },
     "execution_count": 3,
     "metadata": {},
     "output_type": "execute_result"
    }
   ],
   "source": [
    "d_hid = 4\n",
    "n_layers = 2\n",
    "rnn = nn.RNN(input_size=n_features, hidden_size=d_hid, num_layers=n_layers, bidirectional=False, batch_first=True)\n",
    "rnn"
   ]
  },
  {
   "cell_type": "code",
   "execution_count": 4,
   "id": "5b87d37c-29b1-4b3e-a860-439cc1112f62",
   "metadata": {},
   "outputs": [
    {
     "name": "stdout",
     "output_type": "stream",
     "text": [
      "out shape: torch.Size([1, 6, 4])\n",
      "h_n shape: torch.Size([1, 4])\n",
      "c_n shape: torch.Size([1, 4])\n"
     ]
    }
   ],
   "source": [
    "# Pass our random batch through our model\n",
    "out, (h_n, c_n) = rnn(rand_batch)\n",
    "print('out shape:', out.shape)\n",
    "print('h_n shape:', h_n.shape)\n",
    "print('c_n shape:', c_n.shape)"
   ]
  }
 ],
 "metadata": {
  "kernelspec": {
   "display_name": "Python 3 (ipykernel)",
   "language": "python",
   "name": "python3"
  },
  "language_info": {
   "codemirror_mode": {
    "name": "ipython",
    "version": 3
   },
   "file_extension": ".py",
   "mimetype": "text/x-python",
   "name": "python",
   "nbconvert_exporter": "python",
   "pygments_lexer": "ipython3",
   "version": "3.9.16"
  }
 },
 "nbformat": 4,
 "nbformat_minor": 5
}
