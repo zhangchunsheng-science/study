{
 "cells": [
  {
   "cell_type": "code",
   "execution_count": 1,
   "id": "3816511a-f93c-45b2-a7b6-2098a4bff742",
   "metadata": {
    "tags": []
   },
   "outputs": [
    {
     "name": "stderr",
     "output_type": "stream",
     "text": [
      "2023-04-29 18:31:02.635675: I tensorflow/core/platform/cpu_feature_guard.cc:182] This TensorFlow binary is optimized to use available CPU instructions in performance-critical operations.\n",
      "To enable the following instructions: SSE4.1 SSE4.2, in other operations, rebuild TensorFlow with the appropriate compiler flags.\n"
     ]
    }
   ],
   "source": [
    "import re\n",
    "\n",
    "import gensim\n",
    "import keras\n",
    "from keras import layers\n",
    "from keras import regularizers\n",
    "from keras.callbacks import ModelCheckpoint\n",
    "from keras.models import Sequential\n",
    "from keras.preprocessing.text import Tokenizer\n",
    "from keras.utils import pad_sequences\n",
    "import matplotlib.pyplot as plt\n",
    "from nltk.tokenize.treebank import TreebankWordDetokenizer\n",
    "import numpy as np\n",
    "import pandas as pd\n",
    "import seaborn as sns\n",
    "from sklearn.metrics import confusion_matrix\n",
    "from sklearn.model_selection import train_test_split"
   ]
  },
  {
   "cell_type": "code",
   "execution_count": 4,
   "id": "8c5575dd-fb9c-4c55-9d23-8be979952523",
   "metadata": {
    "tags": []
   },
   "outputs": [
    {
     "data": {
      "text/html": [
       "<div>\n",
       "<style scoped>\n",
       "    .dataframe tbody tr th:only-of-type {\n",
       "        vertical-align: middle;\n",
       "    }\n",
       "\n",
       "    .dataframe tbody tr th {\n",
       "        vertical-align: top;\n",
       "    }\n",
       "\n",
       "    .dataframe thead th {\n",
       "        text-align: right;\n",
       "    }\n",
       "</style>\n",
       "<table border=\"1\" class=\"dataframe\">\n",
       "  <thead>\n",
       "    <tr style=\"text-align: right;\">\n",
       "      <th></th>\n",
       "      <th>textID</th>\n",
       "      <th>text</th>\n",
       "      <th>selected_text</th>\n",
       "      <th>sentiment</th>\n",
       "    </tr>\n",
       "  </thead>\n",
       "  <tbody>\n",
       "    <tr>\n",
       "      <th>0</th>\n",
       "      <td>cb774db0d1</td>\n",
       "      <td>I`d have responded, if I were going</td>\n",
       "      <td>I`d have responded, if I were going</td>\n",
       "      <td>neutral</td>\n",
       "    </tr>\n",
       "    <tr>\n",
       "      <th>1</th>\n",
       "      <td>549e992a42</td>\n",
       "      <td>Sooo SAD I will miss you here in San Diego!!!</td>\n",
       "      <td>Sooo SAD</td>\n",
       "      <td>negative</td>\n",
       "    </tr>\n",
       "    <tr>\n",
       "      <th>2</th>\n",
       "      <td>088c60f138</td>\n",
       "      <td>my boss is bullying me...</td>\n",
       "      <td>bullying me</td>\n",
       "      <td>negative</td>\n",
       "    </tr>\n",
       "    <tr>\n",
       "      <th>3</th>\n",
       "      <td>9642c003ef</td>\n",
       "      <td>what interview! leave me alone</td>\n",
       "      <td>leave me alone</td>\n",
       "      <td>negative</td>\n",
       "    </tr>\n",
       "    <tr>\n",
       "      <th>4</th>\n",
       "      <td>358bd9e861</td>\n",
       "      <td>Sons of ****, why couldn`t they put them on t...</td>\n",
       "      <td>Sons of ****,</td>\n",
       "      <td>negative</td>\n",
       "    </tr>\n",
       "    <tr>\n",
       "      <th>5</th>\n",
       "      <td>28b57f3990</td>\n",
       "      <td>http://www.dothebouncy.com/smf - some shameles...</td>\n",
       "      <td>http://www.dothebouncy.com/smf - some shameles...</td>\n",
       "      <td>neutral</td>\n",
       "    </tr>\n",
       "    <tr>\n",
       "      <th>6</th>\n",
       "      <td>6e0c6d75b1</td>\n",
       "      <td>2am feedings for the baby are fun when he is a...</td>\n",
       "      <td>fun</td>\n",
       "      <td>positive</td>\n",
       "    </tr>\n",
       "    <tr>\n",
       "      <th>7</th>\n",
       "      <td>50e14c0bb8</td>\n",
       "      <td>Soooo high</td>\n",
       "      <td>Soooo high</td>\n",
       "      <td>neutral</td>\n",
       "    </tr>\n",
       "    <tr>\n",
       "      <th>8</th>\n",
       "      <td>e050245fbd</td>\n",
       "      <td>Both of you</td>\n",
       "      <td>Both of you</td>\n",
       "      <td>neutral</td>\n",
       "    </tr>\n",
       "    <tr>\n",
       "      <th>9</th>\n",
       "      <td>fc2cbefa9d</td>\n",
       "      <td>Journey!? Wow... u just became cooler.  hehe....</td>\n",
       "      <td>Wow... u just became cooler.</td>\n",
       "      <td>positive</td>\n",
       "    </tr>\n",
       "    <tr>\n",
       "      <th>10</th>\n",
       "      <td>2339a9b08b</td>\n",
       "      <td>as much as i love to be hopeful, i reckon the...</td>\n",
       "      <td>as much as i love to be hopeful, i reckon the ...</td>\n",
       "      <td>neutral</td>\n",
       "    </tr>\n",
       "    <tr>\n",
       "      <th>11</th>\n",
       "      <td>16fab9f95b</td>\n",
       "      <td>I really really like the song Love Story by Ta...</td>\n",
       "      <td>like</td>\n",
       "      <td>positive</td>\n",
       "    </tr>\n",
       "    <tr>\n",
       "      <th>12</th>\n",
       "      <td>74a76f6e0a</td>\n",
       "      <td>My Sharpie is running DANGERously low on ink</td>\n",
       "      <td>DANGERously</td>\n",
       "      <td>negative</td>\n",
       "    </tr>\n",
       "    <tr>\n",
       "      <th>13</th>\n",
       "      <td>04dd1d2e34</td>\n",
       "      <td>i want to go to music tonight but i lost my vo...</td>\n",
       "      <td>lost</td>\n",
       "      <td>negative</td>\n",
       "    </tr>\n",
       "    <tr>\n",
       "      <th>14</th>\n",
       "      <td>bbe3cbf620</td>\n",
       "      <td>test test from the LG enV2</td>\n",
       "      <td>test test from the LG enV2</td>\n",
       "      <td>neutral</td>\n",
       "    </tr>\n",
       "  </tbody>\n",
       "</table>\n",
       "</div>"
      ],
      "text/plain": [
       "        textID                                               text   \n",
       "0   cb774db0d1                I`d have responded, if I were going  \\\n",
       "1   549e992a42      Sooo SAD I will miss you here in San Diego!!!   \n",
       "2   088c60f138                          my boss is bullying me...   \n",
       "3   9642c003ef                     what interview! leave me alone   \n",
       "4   358bd9e861   Sons of ****, why couldn`t they put them on t...   \n",
       "5   28b57f3990  http://www.dothebouncy.com/smf - some shameles...   \n",
       "6   6e0c6d75b1  2am feedings for the baby are fun when he is a...   \n",
       "7   50e14c0bb8                                         Soooo high   \n",
       "8   e050245fbd                                        Both of you   \n",
       "9   fc2cbefa9d   Journey!? Wow... u just became cooler.  hehe....   \n",
       "10  2339a9b08b   as much as i love to be hopeful, i reckon the...   \n",
       "11  16fab9f95b  I really really like the song Love Story by Ta...   \n",
       "12  74a76f6e0a       My Sharpie is running DANGERously low on ink   \n",
       "13  04dd1d2e34  i want to go to music tonight but i lost my vo...   \n",
       "14  bbe3cbf620                         test test from the LG enV2   \n",
       "\n",
       "                                        selected_text sentiment  \n",
       "0                 I`d have responded, if I were going   neutral  \n",
       "1                                            Sooo SAD  negative  \n",
       "2                                         bullying me  negative  \n",
       "3                                      leave me alone  negative  \n",
       "4                                       Sons of ****,  negative  \n",
       "5   http://www.dothebouncy.com/smf - some shameles...   neutral  \n",
       "6                                                 fun  positive  \n",
       "7                                          Soooo high   neutral  \n",
       "8                                         Both of you   neutral  \n",
       "9                        Wow... u just became cooler.  positive  \n",
       "10  as much as i love to be hopeful, i reckon the ...   neutral  \n",
       "11                                               like  positive  \n",
       "12                                        DANGERously  negative  \n",
       "13                                               lost  negative  \n",
       "14                         test test from the LG enV2   neutral  "
      ]
     },
     "execution_count": 4,
     "metadata": {},
     "output_type": "execute_result"
    }
   ],
   "source": [
    "train = pd.read_csv('./kaggle/input/tweet-sentiment-extraction/train.csv')\n",
    "train.head(15)"
   ]
  },
  {
   "cell_type": "code",
   "execution_count": 5,
   "id": "88f94ea5-165d-408e-9fb6-ae9e234032f6",
   "metadata": {
    "tags": []
   },
   "outputs": [
    {
     "data": {
      "text/plain": [
       "27481"
      ]
     },
     "execution_count": 5,
     "metadata": {},
     "output_type": "execute_result"
    }
   ],
   "source": [
    "len(train)"
   ]
  },
  {
   "cell_type": "code",
   "execution_count": 6,
   "id": "ab4d3749-fa87-4e07-97a3-fece965e6721",
   "metadata": {
    "tags": []
   },
   "outputs": [
    {
     "data": {
      "text/plain": [
       "array(['neutral', 'negative', 'positive'], dtype=object)"
      ]
     },
     "execution_count": 6,
     "metadata": {},
     "output_type": "execute_result"
    }
   ],
   "source": [
    "train['sentiment'].unique()"
   ]
  },
  {
   "cell_type": "code",
   "execution_count": 7,
   "id": "758de209-04e1-440f-8a73-24cdc9438aa0",
   "metadata": {
    "tags": []
   },
   "outputs": [
    {
     "data": {
      "text/html": [
       "<div>\n",
       "<style scoped>\n",
       "    .dataframe tbody tr th:only-of-type {\n",
       "        vertical-align: middle;\n",
       "    }\n",
       "\n",
       "    .dataframe tbody tr th {\n",
       "        vertical-align: top;\n",
       "    }\n",
       "\n",
       "    .dataframe thead th {\n",
       "        text-align: right;\n",
       "    }\n",
       "</style>\n",
       "<table border=\"1\" class=\"dataframe\">\n",
       "  <thead>\n",
       "    <tr style=\"text-align: right;\">\n",
       "      <th></th>\n",
       "      <th>textID</th>\n",
       "      <th>text</th>\n",
       "      <th>selected_text</th>\n",
       "    </tr>\n",
       "    <tr>\n",
       "      <th>sentiment</th>\n",
       "      <th></th>\n",
       "      <th></th>\n",
       "      <th></th>\n",
       "    </tr>\n",
       "  </thead>\n",
       "  <tbody>\n",
       "    <tr>\n",
       "      <th>negative</th>\n",
       "      <td>7781</td>\n",
       "      <td>7781</td>\n",
       "      <td>5861</td>\n",
       "    </tr>\n",
       "    <tr>\n",
       "      <th>neutral</th>\n",
       "      <td>11118</td>\n",
       "      <td>11117</td>\n",
       "      <td>11111</td>\n",
       "    </tr>\n",
       "    <tr>\n",
       "      <th>positive</th>\n",
       "      <td>8582</td>\n",
       "      <td>8582</td>\n",
       "      <td>5537</td>\n",
       "    </tr>\n",
       "  </tbody>\n",
       "</table>\n",
       "</div>"
      ],
      "text/plain": [
       "           textID   text  selected_text\n",
       "sentiment                              \n",
       "negative     7781   7781           5861\n",
       "neutral     11118  11117          11111\n",
       "positive     8582   8582           5537"
      ]
     },
     "execution_count": 7,
     "metadata": {},
     "output_type": "execute_result"
    }
   ],
   "source": [
    "train.groupby('sentiment').nunique()"
   ]
  },
  {
   "cell_type": "code",
   "execution_count": 8,
   "id": "f2a20094-b9ce-4c9d-9b2a-e0d910d5a5c9",
   "metadata": {
    "tags": []
   },
   "outputs": [
    {
     "data": {
      "text/html": [
       "<div>\n",
       "<style scoped>\n",
       "    .dataframe tbody tr th:only-of-type {\n",
       "        vertical-align: middle;\n",
       "    }\n",
       "\n",
       "    .dataframe tbody tr th {\n",
       "        vertical-align: top;\n",
       "    }\n",
       "\n",
       "    .dataframe thead th {\n",
       "        text-align: right;\n",
       "    }\n",
       "</style>\n",
       "<table border=\"1\" class=\"dataframe\">\n",
       "  <thead>\n",
       "    <tr style=\"text-align: right;\">\n",
       "      <th></th>\n",
       "      <th>selected_text</th>\n",
       "      <th>sentiment</th>\n",
       "    </tr>\n",
       "  </thead>\n",
       "  <tbody>\n",
       "    <tr>\n",
       "      <th>0</th>\n",
       "      <td>I`d have responded, if I were going</td>\n",
       "      <td>neutral</td>\n",
       "    </tr>\n",
       "    <tr>\n",
       "      <th>1</th>\n",
       "      <td>Sooo SAD</td>\n",
       "      <td>negative</td>\n",
       "    </tr>\n",
       "    <tr>\n",
       "      <th>2</th>\n",
       "      <td>bullying me</td>\n",
       "      <td>negative</td>\n",
       "    </tr>\n",
       "    <tr>\n",
       "      <th>3</th>\n",
       "      <td>leave me alone</td>\n",
       "      <td>negative</td>\n",
       "    </tr>\n",
       "    <tr>\n",
       "      <th>4</th>\n",
       "      <td>Sons of ****,</td>\n",
       "      <td>negative</td>\n",
       "    </tr>\n",
       "  </tbody>\n",
       "</table>\n",
       "</div>"
      ],
      "text/plain": [
       "                         selected_text sentiment\n",
       "0  I`d have responded, if I were going   neutral\n",
       "1                             Sooo SAD  negative\n",
       "2                          bullying me  negative\n",
       "3                       leave me alone  negative\n",
       "4                        Sons of ****,  negative"
      ]
     },
     "execution_count": 8,
     "metadata": {},
     "output_type": "execute_result"
    }
   ],
   "source": [
    "train = train[['selected_text','sentiment']]\n",
    "train.head()"
   ]
  },
  {
   "cell_type": "code",
   "execution_count": 9,
   "id": "24f94a5d-a800-4e87-b8b5-74ca696396b5",
   "metadata": {
    "tags": []
   },
   "outputs": [
    {
     "data": {
      "text/plain": [
       "1"
      ]
     },
     "execution_count": 9,
     "metadata": {},
     "output_type": "execute_result"
    }
   ],
   "source": [
    "train[\"selected_text\"].isnull().sum()"
   ]
  },
  {
   "cell_type": "code",
   "execution_count": 10,
   "id": "83bf1c82-f629-4893-ad4f-e367568a25f6",
   "metadata": {
    "tags": []
   },
   "outputs": [],
   "source": [
    "train[\"selected_text\"].fillna(\"No content\", inplace = True)"
   ]
  },
  {
   "cell_type": "code",
   "execution_count": 11,
   "id": "41c82b42-9128-4f46-b08d-59325ac50385",
   "metadata": {
    "tags": []
   },
   "outputs": [],
   "source": [
    "def depure_data(data):\n",
    "    \n",
    "    # Removing URLs with a regular expression\n",
    "    url_pattern = re.compile(r'https?://\\S+|www\\.\\S+')\n",
    "    data = url_pattern.sub(r'', data)\n",
    "\n",
    "    # Remove Emails\n",
    "    data = re.sub('\\S*@\\S*\\s?', '', data)\n",
    "\n",
    "    # Remove new line characters\n",
    "    data = re.sub('\\s+', ' ', data)\n",
    "\n",
    "    # Remove distracting single quotes\n",
    "    data = re.sub(\"\\'\", \"\", data)\n",
    "        \n",
    "    return data"
   ]
  },
  {
   "cell_type": "code",
   "execution_count": 12,
   "id": "7f3ec572-02ef-448a-99f5-78a1bad1d1ef",
   "metadata": {
    "tags": []
   },
   "outputs": [
    {
     "data": {
      "text/plain": [
       "['I`d have responded, if I were going',\n",
       " 'Sooo SAD',\n",
       " 'bullying me',\n",
       " 'leave me alone',\n",
       " 'Sons of ****,']"
      ]
     },
     "execution_count": 12,
     "metadata": {},
     "output_type": "execute_result"
    }
   ],
   "source": [
    "temp = []\n",
    "# Splitting pd.Series to list\n",
    "data_to_list = train['selected_text'].values.tolist()\n",
    "for i in range(len(data_to_list)):\n",
    "    temp.append(depure_data(data_to_list[i]))\n",
    "list(temp[:5])"
   ]
  },
  {
   "cell_type": "code",
   "execution_count": 13,
   "id": "23b4bb46-c53e-43a9-b366-e42ec00ca2ec",
   "metadata": {
    "tags": []
   },
   "outputs": [
    {
     "name": "stdout",
     "output_type": "stream",
     "text": [
      "[['have', 'responded', 'if', 'were', 'going'], ['sooo', 'sad'], ['bullying', 'me'], ['leave', 'me', 'alone'], ['sons', 'of'], ['some', 'shameless', 'plugging', 'for', 'the', 'best', 'rangers', 'forum', 'on', 'earth'], ['fun'], ['soooo', 'high'], ['both', 'of', 'you'], ['wow', 'just', 'became', 'cooler']]\n"
     ]
    }
   ],
   "source": [
    "def sent_to_words(sentences):\n",
    "    for sentence in sentences:\n",
    "        yield(gensim.utils.simple_preprocess(str(sentence), deacc=True))  # deacc=True removes punctuations\n",
    "        \n",
    "\n",
    "data_words = list(sent_to_words(temp))\n",
    "\n",
    "print(data_words[:10])"
   ]
  },
  {
   "cell_type": "code",
   "execution_count": 14,
   "id": "03203d77-9a85-4efe-a23b-d65599906810",
   "metadata": {
    "tags": []
   },
   "outputs": [
    {
     "data": {
      "text/plain": [
       "27481"
      ]
     },
     "execution_count": 14,
     "metadata": {},
     "output_type": "execute_result"
    }
   ],
   "source": [
    "len(data_words)"
   ]
  },
  {
   "cell_type": "code",
   "execution_count": 15,
   "id": "316844cb-3fd2-4d03-84a9-c62ddd021744",
   "metadata": {
    "tags": []
   },
   "outputs": [],
   "source": [
    "def detokenize(text):\n",
    "    return TreebankWordDetokenizer().detokenize(text)"
   ]
  },
  {
   "cell_type": "code",
   "execution_count": 16,
   "id": "2698977a-d929-47dc-8376-1241266ce093",
   "metadata": {
    "tags": []
   },
   "outputs": [
    {
     "name": "stdout",
     "output_type": "stream",
     "text": [
      "['have responded if were going', 'sooo sad', 'bullying me', 'leave me alone', 'sons of']\n"
     ]
    }
   ],
   "source": [
    "data = []\n",
    "for i in range(len(data_words)):\n",
    "    data.append(detokenize(data_words[i]))\n",
    "print(data[:5])"
   ]
  },
  {
   "cell_type": "code",
   "execution_count": 17,
   "id": "cdc8f0f3-8fd1-4318-a08a-de655f17ed90",
   "metadata": {
    "tags": []
   },
   "outputs": [],
   "source": [
    "data = np.array(data)"
   ]
  },
  {
   "cell_type": "code",
   "execution_count": 19,
   "id": "fae82866-99f8-4155-b39f-933f5c73899b",
   "metadata": {
    "tags": []
   },
   "outputs": [],
   "source": [
    "labels = np.array(train['sentiment'])\n",
    "y = []\n",
    "for i in range(len(labels)):\n",
    "    if labels[i] == 'neutral':\n",
    "        y.append(0)\n",
    "    if labels[i] == 'negative':\n",
    "        y.append(1)\n",
    "    if labels[i] == 'positive':\n",
    "        y.append(2)\n",
    "y = np.array(y)\n",
    "labels = keras.utils.to_categorical(y, 3, dtype=\"float32\")\n",
    "del y"
   ]
  },
  {
   "cell_type": "code",
   "execution_count": 20,
   "id": "a5298439-54ee-4bfc-9820-2869269fa245",
   "metadata": {
    "tags": []
   },
   "outputs": [
    {
     "data": {
      "text/plain": [
       "27481"
      ]
     },
     "execution_count": 20,
     "metadata": {},
     "output_type": "execute_result"
    }
   ],
   "source": [
    "len(labels)"
   ]
  },
  {
   "cell_type": "code",
   "execution_count": 21,
   "id": "52666bfb-f482-4122-a3d2-97da41f41434",
   "metadata": {
    "tags": []
   },
   "outputs": [
    {
     "name": "stdout",
     "output_type": "stream",
     "text": [
      "[[   0    0    0 ...   68  146   41]\n",
      " [   0    0    0 ...    0  397   65]\n",
      " [   0    0    0 ...    0    0   11]\n",
      " ...\n",
      " [   0    0    0 ...  372   10    3]\n",
      " [   0    0    0 ...   24  542    4]\n",
      " [   0    0    0 ... 2424  199  657]]\n"
     ]
    }
   ],
   "source": [
    "max_words = 5000\n",
    "max_len = 200\n",
    "tokenizer = Tokenizer(num_words=max_words)\n",
    "tokenizer.fit_on_texts(data)\n",
    "sequences = tokenizer.texts_to_sequences(data)\n",
    "tweets = pad_sequences(sequences, maxlen=max_len)\n",
    "print(tweets)"
   ]
  },
  {
   "cell_type": "code",
   "execution_count": 22,
   "id": "e77c93f5-425b-4fff-a172-4e2daaca357d",
   "metadata": {
    "tags": []
   },
   "outputs": [
    {
     "name": "stdout",
     "output_type": "stream",
     "text": [
      "[[1. 0. 0.]\n",
      " [0. 1. 0.]\n",
      " [0. 1. 0.]\n",
      " ...\n",
      " [0. 0. 1.]\n",
      " [0. 0. 1.]\n",
      " [1. 0. 0.]]\n"
     ]
    }
   ],
   "source": [
    "print(labels)"
   ]
  },
  {
   "cell_type": "code",
   "execution_count": 23,
   "id": "51d8a33f-f82e-4c57-8fc8-7b7293800bf8",
   "metadata": {
    "tags": []
   },
   "outputs": [
    {
     "name": "stdout",
     "output_type": "stream",
     "text": [
      "20610 6871 20610 6871\n"
     ]
    }
   ],
   "source": [
    "X_train, X_test, y_train, y_test = train_test_split(tweets, labels, random_state=0)\n",
    "print(len(X_train), len(X_test), len(y_train), len(y_test))"
   ]
  },
  {
   "cell_type": "code",
   "execution_count": 24,
   "id": "3e2f070c-1a67-4f07-a39e-bab15349c1b2",
   "metadata": {
    "tags": []
   },
   "outputs": [
    {
     "name": "stdout",
     "output_type": "stream",
     "text": [
      "WARNING:tensorflow:`period` argument is deprecated. Please use `save_freq` to specify the frequency in number of batches seen.\n",
      "Epoch 1/5\n",
      "643/645 [============================>.] - ETA: 0s - loss: 0.7343 - accuracy: 0.6970\n",
      "Epoch 1: val_accuracy improved from -inf to 0.76263, saving model to best_model0.hdf5\n",
      "645/645 [==============================] - 12s 19ms/step - loss: 0.7340 - accuracy: 0.6972 - val_loss: 0.5732 - val_accuracy: 0.7626\n",
      "Epoch 2/5\n",
      "645/645 [==============================] - ETA: 0s - loss: 0.5085 - accuracy: 0.8074\n",
      "Epoch 2: val_accuracy improved from 0.76263 to 0.81182, saving model to best_model0.hdf5\n",
      "645/645 [==============================] - 12s 18ms/step - loss: 0.5085 - accuracy: 0.8074 - val_loss: 0.5010 - val_accuracy: 0.8118\n",
      "Epoch 3/5\n",
      "644/645 [============================>.] - ETA: 0s - loss: 0.4563 - accuracy: 0.8303\n",
      "Epoch 3: val_accuracy did not improve from 0.81182\n",
      "645/645 [==============================] - 12s 18ms/step - loss: 0.4562 - accuracy: 0.8303 - val_loss: 0.4945 - val_accuracy: 0.8095\n",
      "Epoch 4/5\n",
      "644/645 [============================>.] - ETA: 0s - loss: 0.4312 - accuracy: 0.8434\n",
      "Epoch 4: val_accuracy improved from 0.81182 to 0.81822, saving model to best_model0.hdf5\n",
      "645/645 [==============================] - 12s 19ms/step - loss: 0.4312 - accuracy: 0.8434 - val_loss: 0.4782 - val_accuracy: 0.8182\n",
      "Epoch 5/5\n",
      "645/645 [==============================] - ETA: 0s - loss: 0.4154 - accuracy: 0.8512\n",
      "Epoch 5: val_accuracy did not improve from 0.81822\n",
      "645/645 [==============================] - 12s 19ms/step - loss: 0.4154 - accuracy: 0.8512 - val_loss: 0.4797 - val_accuracy: 0.8179\n"
     ]
    }
   ],
   "source": [
    "model0 = Sequential()\n",
    "model0.add(layers.Embedding(max_words, 15))\n",
    "model0.add(layers.SimpleRNN(15))\n",
    "model0.add(layers.Dense(3, activation='softmax'))\n",
    "model0.compile(optimizer='rmsprop', loss='categorical_crossentropy', metrics=['accuracy'])\n",
    "checkpoint0 = ModelCheckpoint(\"best_model0.hdf5\", monitor='val_accuracy', verbose=1, save_best_only=True, mode='auto', period=1, save_weights_only=False)\n",
    "history0 = model0.fit(X_train, y_train, epochs=5, validation_data=(X_test, y_test), callbacks=[checkpoint0])"
   ]
  },
  {
   "cell_type": "code",
   "execution_count": 25,
   "id": "cf8c935a-a9f4-4eaa-a74c-2b720d606c57",
   "metadata": {
    "tags": []
   },
   "outputs": [
    {
     "name": "stdout",
     "output_type": "stream",
     "text": [
      "WARNING:tensorflow:`period` argument is deprecated. Please use `save_freq` to specify the frequency in number of batches seen.\n",
      "Epoch 1/70\n"
     ]
    },
    {
     "name": "stderr",
     "output_type": "stream",
     "text": [
      "2023-04-29 18:35:37.306948: I tensorflow/core/common_runtime/executor.cc:1197] [/device:CPU:0] (DEBUG INFO) Executor start aborting (this does not indicate an error and you can ignore this message): INVALID_ARGUMENT: You must feed a value for placeholder tensor 'gradients/split_2_grad/concat/split_2/split_dim' with dtype int32\n",
      "\t [[{{node gradients/split_2_grad/concat/split_2/split_dim}}]]\n",
      "2023-04-29 18:35:37.307668: I tensorflow/core/common_runtime/executor.cc:1197] [/device:CPU:0] (DEBUG INFO) Executor start aborting (this does not indicate an error and you can ignore this message): INVALID_ARGUMENT: You must feed a value for placeholder tensor 'gradients/split_grad/concat/split/split_dim' with dtype int32\n",
      "\t [[{{node gradients/split_grad/concat/split/split_dim}}]]\n",
      "2023-04-29 18:35:37.308405: I tensorflow/core/common_runtime/executor.cc:1197] [/device:CPU:0] (DEBUG INFO) Executor start aborting (this does not indicate an error and you can ignore this message): INVALID_ARGUMENT: You must feed a value for placeholder tensor 'gradients/split_1_grad/concat/split_1/split_dim' with dtype int32\n",
      "\t [[{{node gradients/split_1_grad/concat/split_1/split_dim}}]]\n",
      "2023-04-29 18:35:37.479489: I tensorflow/core/common_runtime/executor.cc:1197] [/device:CPU:0] (DEBUG INFO) Executor start aborting (this does not indicate an error and you can ignore this message): INVALID_ARGUMENT: You must feed a value for placeholder tensor 'gradients/split_2_grad/concat/split_2/split_dim' with dtype int32\n",
      "\t [[{{node gradients/split_2_grad/concat/split_2/split_dim}}]]\n",
      "2023-04-29 18:35:37.480426: I tensorflow/core/common_runtime/executor.cc:1197] [/device:CPU:0] (DEBUG INFO) Executor start aborting (this does not indicate an error and you can ignore this message): INVALID_ARGUMENT: You must feed a value for placeholder tensor 'gradients/split_grad/concat/split/split_dim' with dtype int32\n",
      "\t [[{{node gradients/split_grad/concat/split/split_dim}}]]\n",
      "2023-04-29 18:35:37.481171: I tensorflow/core/common_runtime/executor.cc:1197] [/device:CPU:0] (DEBUG INFO) Executor start aborting (this does not indicate an error and you can ignore this message): INVALID_ARGUMENT: You must feed a value for placeholder tensor 'gradients/split_1_grad/concat/split_1/split_dim' with dtype int32\n",
      "\t [[{{node gradients/split_1_grad/concat/split_1/split_dim}}]]\n",
      "2023-04-29 18:35:37.820254: I tensorflow/core/common_runtime/executor.cc:1197] [/device:CPU:0] (DEBUG INFO) Executor start aborting (this does not indicate an error and you can ignore this message): INVALID_ARGUMENT: You must feed a value for placeholder tensor 'gradients/split_2_grad/concat/split_2/split_dim' with dtype int32\n",
      "\t [[{{node gradients/split_2_grad/concat/split_2/split_dim}}]]\n",
      "2023-04-29 18:35:37.821338: I tensorflow/core/common_runtime/executor.cc:1197] [/device:CPU:0] (DEBUG INFO) Executor start aborting (this does not indicate an error and you can ignore this message): INVALID_ARGUMENT: You must feed a value for placeholder tensor 'gradients/split_grad/concat/split/split_dim' with dtype int32\n",
      "\t [[{{node gradients/split_grad/concat/split/split_dim}}]]\n",
      "2023-04-29 18:35:37.822068: I tensorflow/core/common_runtime/executor.cc:1197] [/device:CPU:0] (DEBUG INFO) Executor start aborting (this does not indicate an error and you can ignore this message): INVALID_ARGUMENT: You must feed a value for placeholder tensor 'gradients/split_1_grad/concat/split_1/split_dim' with dtype int32\n",
      "\t [[{{node gradients/split_1_grad/concat/split_1/split_dim}}]]\n"
     ]
    },
    {
     "name": "stdout",
     "output_type": "stream",
     "text": [
      "645/645 [==============================] - ETA: 0s - loss: 0.8204 - accuracy: 0.6488"
     ]
    },
    {
     "name": "stderr",
     "output_type": "stream",
     "text": [
      "2023-04-29 18:36:00.691968: I tensorflow/core/common_runtime/executor.cc:1197] [/device:CPU:0] (DEBUG INFO) Executor start aborting (this does not indicate an error and you can ignore this message): INVALID_ARGUMENT: You must feed a value for placeholder tensor 'gradients/split_2_grad/concat/split_2/split_dim' with dtype int32\n",
      "\t [[{{node gradients/split_2_grad/concat/split_2/split_dim}}]]\n",
      "2023-04-29 18:36:00.692707: I tensorflow/core/common_runtime/executor.cc:1197] [/device:CPU:0] (DEBUG INFO) Executor start aborting (this does not indicate an error and you can ignore this message): INVALID_ARGUMENT: You must feed a value for placeholder tensor 'gradients/split_grad/concat/split/split_dim' with dtype int32\n",
      "\t [[{{node gradients/split_grad/concat/split/split_dim}}]]\n",
      "2023-04-29 18:36:00.693614: I tensorflow/core/common_runtime/executor.cc:1197] [/device:CPU:0] (DEBUG INFO) Executor start aborting (this does not indicate an error and you can ignore this message): INVALID_ARGUMENT: You must feed a value for placeholder tensor 'gradients/split_1_grad/concat/split_1/split_dim' with dtype int32\n",
      "\t [[{{node gradients/split_1_grad/concat/split_1/split_dim}}]]\n"
     ]
    },
    {
     "name": "stdout",
     "output_type": "stream",
     "text": [
      "\n",
      "Epoch 1: val_accuracy improved from -inf to 0.75317, saving model to best_model1.hdf5\n",
      "645/645 [==============================] - 25s 37ms/step - loss: 0.8204 - accuracy: 0.6488 - val_loss: 0.6554 - val_accuracy: 0.7532\n",
      "Epoch 2/70\n",
      "645/645 [==============================] - ETA: 0s - loss: 0.5852 - accuracy: 0.7702\n",
      "Epoch 2: val_accuracy improved from 0.75317 to 0.75724, saving model to best_model1.hdf5\n",
      "645/645 [==============================] - 24s 37ms/step - loss: 0.5852 - accuracy: 0.7702 - val_loss: 0.5715 - val_accuracy: 0.7572\n",
      "Epoch 3/70\n",
      "645/645 [==============================] - ETA: 0s - loss: 0.5093 - accuracy: 0.7991\n",
      "Epoch 3: val_accuracy improved from 0.75724 to 0.80047, saving model to best_model1.hdf5\n",
      "645/645 [==============================] - 24s 36ms/step - loss: 0.5093 - accuracy: 0.7991 - val_loss: 0.5038 - val_accuracy: 0.8005\n",
      "Epoch 4/70\n",
      "644/645 [============================>.] - ETA: 0s - loss: 0.4721 - accuracy: 0.8166\n",
      "Epoch 4: val_accuracy improved from 0.80047 to 0.81022, saving model to best_model1.hdf5\n",
      "645/645 [==============================] - 24s 37ms/step - loss: 0.4720 - accuracy: 0.8166 - val_loss: 0.4838 - val_accuracy: 0.8102\n",
      "Epoch 5/70\n",
      "644/645 [============================>.] - ETA: 0s - loss: 0.4543 - accuracy: 0.8272\n",
      "Epoch 5: val_accuracy improved from 0.81022 to 0.81575, saving model to best_model1.hdf5\n",
      "645/645 [==============================] - 24s 37ms/step - loss: 0.4543 - accuracy: 0.8272 - val_loss: 0.4735 - val_accuracy: 0.8157\n",
      "Epoch 6/70\n",
      "645/645 [==============================] - ETA: 0s - loss: 0.4378 - accuracy: 0.8351\n",
      "Epoch 6: val_accuracy improved from 0.81575 to 0.82040, saving model to best_model1.hdf5\n",
      "645/645 [==============================] - 24s 37ms/step - loss: 0.4378 - accuracy: 0.8351 - val_loss: 0.4657 - val_accuracy: 0.8204\n",
      "Epoch 7/70\n",
      "644/645 [============================>.] - ETA: 0s - loss: 0.4234 - accuracy: 0.8392\n",
      "Epoch 7: val_accuracy improved from 0.82040 to 0.82346, saving model to best_model1.hdf5\n",
      "645/645 [==============================] - 24s 37ms/step - loss: 0.4233 - accuracy: 0.8393 - val_loss: 0.4556 - val_accuracy: 0.8235\n",
      "Epoch 8/70\n",
      "645/645 [==============================] - ETA: 0s - loss: 0.4151 - accuracy: 0.8435\n",
      "Epoch 8: val_accuracy improved from 0.82346 to 0.82579, saving model to best_model1.hdf5\n",
      "645/645 [==============================] - 24s 37ms/step - loss: 0.4151 - accuracy: 0.8435 - val_loss: 0.4564 - val_accuracy: 0.8258\n",
      "Epoch 9/70\n",
      "645/645 [==============================] - ETA: 0s - loss: 0.4051 - accuracy: 0.8466\n",
      "Epoch 9: val_accuracy improved from 0.82579 to 0.82855, saving model to best_model1.hdf5\n",
      "645/645 [==============================] - 23s 36ms/step - loss: 0.4051 - accuracy: 0.8466 - val_loss: 0.4476 - val_accuracy: 0.8286\n",
      "Epoch 10/70\n",
      "645/645 [==============================] - ETA: 0s - loss: 0.3979 - accuracy: 0.8504\n",
      "Epoch 10: val_accuracy improved from 0.82855 to 0.82899, saving model to best_model1.hdf5\n",
      "645/645 [==============================] - 24s 36ms/step - loss: 0.3979 - accuracy: 0.8504 - val_loss: 0.4458 - val_accuracy: 0.8290\n",
      "Epoch 11/70\n",
      "645/645 [==============================] - ETA: 0s - loss: 0.3908 - accuracy: 0.8524\n",
      "Epoch 11: val_accuracy improved from 0.82899 to 0.83132, saving model to best_model1.hdf5\n",
      "645/645 [==============================] - 24s 37ms/step - loss: 0.3908 - accuracy: 0.8524 - val_loss: 0.4459 - val_accuracy: 0.8313\n",
      "Epoch 12/70\n",
      "645/645 [==============================] - ETA: 0s - loss: 0.3882 - accuracy: 0.8544\n",
      "Epoch 12: val_accuracy did not improve from 0.83132\n",
      "645/645 [==============================] - 24s 37ms/step - loss: 0.3882 - accuracy: 0.8544 - val_loss: 0.4438 - val_accuracy: 0.8182\n",
      "Epoch 13/70\n",
      "645/645 [==============================] - ETA: 0s - loss: 0.3803 - accuracy: 0.8565\n",
      "Epoch 13: val_accuracy did not improve from 0.83132\n",
      "645/645 [==============================] - 24s 37ms/step - loss: 0.3803 - accuracy: 0.8565 - val_loss: 0.4369 - val_accuracy: 0.8304\n",
      "Epoch 14/70\n",
      "645/645 [==============================] - ETA: 0s - loss: 0.3772 - accuracy: 0.8589\n",
      "Epoch 14: val_accuracy did not improve from 0.83132\n",
      "645/645 [==============================] - 24s 37ms/step - loss: 0.3772 - accuracy: 0.8589 - val_loss: 0.4361 - val_accuracy: 0.8304\n",
      "Epoch 15/70\n",
      "645/645 [==============================] - ETA: 0s - loss: 0.3686 - accuracy: 0.8613\n",
      "Epoch 15: val_accuracy improved from 0.83132 to 0.83263, saving model to best_model1.hdf5\n",
      "645/645 [==============================] - 24s 36ms/step - loss: 0.3686 - accuracy: 0.8613 - val_loss: 0.4412 - val_accuracy: 0.8326\n",
      "Epoch 16/70\n",
      "645/645 [==============================] - ETA: 0s - loss: 0.3649 - accuracy: 0.8631\n",
      "Epoch 16: val_accuracy improved from 0.83263 to 0.83438, saving model to best_model1.hdf5\n",
      "645/645 [==============================] - 24s 37ms/step - loss: 0.3649 - accuracy: 0.8631 - val_loss: 0.4354 - val_accuracy: 0.8344\n",
      "Epoch 17/70\n",
      "645/645 [==============================] - ETA: 0s - loss: 0.3687 - accuracy: 0.8628\n",
      "Epoch 17: val_accuracy did not improve from 0.83438\n",
      "645/645 [==============================] - 24s 36ms/step - loss: 0.3687 - accuracy: 0.8628 - val_loss: 0.4364 - val_accuracy: 0.8316\n",
      "Epoch 18/70\n",
      "645/645 [==============================] - ETA: 0s - loss: 0.3617 - accuracy: 0.8657\n",
      "Epoch 18: val_accuracy improved from 0.83438 to 0.83452, saving model to best_model1.hdf5\n",
      "645/645 [==============================] - 23s 36ms/step - loss: 0.3617 - accuracy: 0.8657 - val_loss: 0.4382 - val_accuracy: 0.8345\n",
      "Epoch 19/70\n",
      "645/645 [==============================] - ETA: 0s - loss: 0.3557 - accuracy: 0.8674\n",
      "Epoch 19: val_accuracy did not improve from 0.83452\n",
      "645/645 [==============================] - 23s 36ms/step - loss: 0.3557 - accuracy: 0.8674 - val_loss: 0.4431 - val_accuracy: 0.8261\n",
      "Epoch 20/70\n",
      "645/645 [==============================] - ETA: 0s - loss: 0.3537 - accuracy: 0.8672\n",
      "Epoch 20: val_accuracy improved from 0.83452 to 0.83496, saving model to best_model1.hdf5\n",
      "645/645 [==============================] - 23s 36ms/step - loss: 0.3537 - accuracy: 0.8672 - val_loss: 0.4389 - val_accuracy: 0.8350\n",
      "Epoch 21/70\n",
      "645/645 [==============================] - ETA: 0s - loss: 0.3513 - accuracy: 0.8686\n",
      "Epoch 21: val_accuracy improved from 0.83496 to 0.83583, saving model to best_model1.hdf5\n",
      "645/645 [==============================] - 23s 36ms/step - loss: 0.3513 - accuracy: 0.8686 - val_loss: 0.4349 - val_accuracy: 0.8358\n",
      "Epoch 22/70\n",
      "644/645 [============================>.] - ETA: 0s - loss: 0.3487 - accuracy: 0.8730\n",
      "Epoch 22: val_accuracy did not improve from 0.83583\n",
      "645/645 [==============================] - 89s 138ms/step - loss: 0.3486 - accuracy: 0.8730 - val_loss: 0.4368 - val_accuracy: 0.8271\n",
      "Epoch 23/70\n",
      "645/645 [==============================] - ETA: 0s - loss: 0.3474 - accuracy: 0.8688\n",
      "Epoch 23: val_accuracy improved from 0.83583 to 0.83758, saving model to best_model1.hdf5\n",
      "645/645 [==============================] - 23s 36ms/step - loss: 0.3474 - accuracy: 0.8688 - val_loss: 0.4310 - val_accuracy: 0.8376\n",
      "Epoch 24/70\n",
      "645/645 [==============================] - ETA: 0s - loss: 0.3463 - accuracy: 0.8727\n",
      "Epoch 24: val_accuracy did not improve from 0.83758\n",
      "645/645 [==============================] - 23s 36ms/step - loss: 0.3463 - accuracy: 0.8727 - val_loss: 0.4325 - val_accuracy: 0.8332\n",
      "Epoch 25/70\n",
      "645/645 [==============================] - ETA: 0s - loss: 0.3470 - accuracy: 0.8715\n",
      "Epoch 25: val_accuracy did not improve from 0.83758\n",
      "645/645 [==============================] - 23s 36ms/step - loss: 0.3470 - accuracy: 0.8715 - val_loss: 0.4316 - val_accuracy: 0.8370\n",
      "Epoch 26/70\n",
      "645/645 [==============================] - ETA: 0s - loss: 0.3415 - accuracy: 0.8736\n",
      "Epoch 26: val_accuracy did not improve from 0.83758\n",
      "645/645 [==============================] - 23s 36ms/step - loss: 0.3415 - accuracy: 0.8736 - val_loss: 0.4285 - val_accuracy: 0.8376\n",
      "Epoch 27/70\n",
      "645/645 [==============================] - ETA: 0s - loss: 0.3394 - accuracy: 0.8729\n",
      "Epoch 27: val_accuracy improved from 0.83758 to 0.83932, saving model to best_model1.hdf5\n",
      "645/645 [==============================] - 24s 37ms/step - loss: 0.3394 - accuracy: 0.8729 - val_loss: 0.4322 - val_accuracy: 0.8393\n",
      "Epoch 28/70\n",
      "645/645 [==============================] - ETA: 0s - loss: 0.3365 - accuracy: 0.8759\n",
      "Epoch 28: val_accuracy did not improve from 0.83932\n",
      "645/645 [==============================] - 24s 37ms/step - loss: 0.3365 - accuracy: 0.8759 - val_loss: 0.4341 - val_accuracy: 0.8364\n",
      "Epoch 29/70\n",
      "645/645 [==============================] - ETA: 0s - loss: 0.3348 - accuracy: 0.8743\n",
      "Epoch 29: val_accuracy did not improve from 0.83932\n",
      "645/645 [==============================] - 24s 37ms/step - loss: 0.3348 - accuracy: 0.8743 - val_loss: 0.4333 - val_accuracy: 0.8393\n",
      "Epoch 30/70\n",
      "645/645 [==============================] - ETA: 0s - loss: 0.3343 - accuracy: 0.8759\n",
      "Epoch 30: val_accuracy improved from 0.83932 to 0.84020, saving model to best_model1.hdf5\n",
      "645/645 [==============================] - 24s 37ms/step - loss: 0.3343 - accuracy: 0.8759 - val_loss: 0.4307 - val_accuracy: 0.8402\n",
      "Epoch 31/70\n",
      "645/645 [==============================] - ETA: 0s - loss: 0.3307 - accuracy: 0.8771\n",
      "Epoch 31: val_accuracy did not improve from 0.84020\n",
      "645/645 [==============================] - 24s 37ms/step - loss: 0.3307 - accuracy: 0.8771 - val_loss: 0.4254 - val_accuracy: 0.8402\n",
      "Epoch 32/70\n",
      "645/645 [==============================] - ETA: 0s - loss: 0.3310 - accuracy: 0.8773\n",
      "Epoch 32: val_accuracy did not improve from 0.84020\n",
      "645/645 [==============================] - 24s 37ms/step - loss: 0.3310 - accuracy: 0.8773 - val_loss: 0.4339 - val_accuracy: 0.8401\n",
      "Epoch 33/70\n",
      "645/645 [==============================] - ETA: 0s - loss: 0.3267 - accuracy: 0.8801\n",
      "Epoch 33: val_accuracy improved from 0.84020 to 0.84049, saving model to best_model1.hdf5\n",
      "645/645 [==============================] - 24s 37ms/step - loss: 0.3267 - accuracy: 0.8801 - val_loss: 0.4342 - val_accuracy: 0.8405\n",
      "Epoch 34/70\n",
      "645/645 [==============================] - ETA: 0s - loss: 0.3283 - accuracy: 0.8791\n",
      "Epoch 34: val_accuracy improved from 0.84049 to 0.84209, saving model to best_model1.hdf5\n",
      "645/645 [==============================] - 23s 36ms/step - loss: 0.3283 - accuracy: 0.8791 - val_loss: 0.4291 - val_accuracy: 0.8421\n",
      "Epoch 35/70\n",
      "644/645 [============================>.] - ETA: 0s - loss: 0.3262 - accuracy: 0.8794\n",
      "Epoch 35: val_accuracy did not improve from 0.84209\n",
      "645/645 [==============================] - 24s 38ms/step - loss: 0.3261 - accuracy: 0.8794 - val_loss: 0.4277 - val_accuracy: 0.8385\n",
      "Epoch 36/70\n",
      "645/645 [==============================] - ETA: 0s - loss: 0.3253 - accuracy: 0.8804\n",
      "Epoch 36: val_accuracy improved from 0.84209 to 0.84296, saving model to best_model1.hdf5\n",
      "645/645 [==============================] - 24s 37ms/step - loss: 0.3253 - accuracy: 0.8804 - val_loss: 0.4303 - val_accuracy: 0.8430\n",
      "Epoch 37/70\n",
      "644/645 [============================>.] - ETA: 0s - loss: 0.3254 - accuracy: 0.8794\n",
      "Epoch 37: val_accuracy did not improve from 0.84296\n",
      "645/645 [==============================] - 24s 38ms/step - loss: 0.3254 - accuracy: 0.8794 - val_loss: 0.4279 - val_accuracy: 0.8427\n",
      "Epoch 38/70\n",
      "644/645 [============================>.] - ETA: 0s - loss: 0.3216 - accuracy: 0.8816\n",
      "Epoch 38: val_accuracy did not improve from 0.84296\n",
      "645/645 [==============================] - 25s 39ms/step - loss: 0.3217 - accuracy: 0.8815 - val_loss: 0.4268 - val_accuracy: 0.8409\n",
      "Epoch 39/70\n",
      "645/645 [==============================] - ETA: 0s - loss: 0.3187 - accuracy: 0.8827\n",
      "Epoch 39: val_accuracy did not improve from 0.84296\n",
      "645/645 [==============================] - 24s 37ms/step - loss: 0.3187 - accuracy: 0.8827 - val_loss: 0.4318 - val_accuracy: 0.8379\n",
      "Epoch 40/70\n",
      "645/645 [==============================] - ETA: 0s - loss: 0.3155 - accuracy: 0.8837\n",
      "Epoch 40: val_accuracy did not improve from 0.84296\n",
      "645/645 [==============================] - 24s 38ms/step - loss: 0.3155 - accuracy: 0.8837 - val_loss: 0.4262 - val_accuracy: 0.8424\n",
      "Epoch 41/70\n",
      "645/645 [==============================] - ETA: 0s - loss: 0.3177 - accuracy: 0.8844\n",
      "Epoch 41: val_accuracy improved from 0.84296 to 0.84311, saving model to best_model1.hdf5\n",
      "645/645 [==============================] - 25s 39ms/step - loss: 0.3177 - accuracy: 0.8844 - val_loss: 0.4268 - val_accuracy: 0.8431\n",
      "Epoch 42/70\n",
      "645/645 [==============================] - ETA: 0s - loss: 0.3146 - accuracy: 0.8845\n",
      "Epoch 42: val_accuracy improved from 0.84311 to 0.84325, saving model to best_model1.hdf5\n",
      "645/645 [==============================] - 24s 38ms/step - loss: 0.3146 - accuracy: 0.8845 - val_loss: 0.4287 - val_accuracy: 0.8433\n",
      "Epoch 43/70\n",
      "645/645 [==============================] - ETA: 0s - loss: 0.3145 - accuracy: 0.8858\n",
      "Epoch 43: val_accuracy did not improve from 0.84325\n",
      "645/645 [==============================] - 25s 39ms/step - loss: 0.3145 - accuracy: 0.8858 - val_loss: 0.4332 - val_accuracy: 0.8402\n",
      "Epoch 44/70\n",
      "644/645 [============================>.] - ETA: 0s - loss: 0.3146 - accuracy: 0.8842\n",
      "Epoch 44: val_accuracy did not improve from 0.84325\n",
      "645/645 [==============================] - 24s 38ms/step - loss: 0.3146 - accuracy: 0.8842 - val_loss: 0.4335 - val_accuracy: 0.8393\n",
      "Epoch 45/70\n",
      "645/645 [==============================] - ETA: 0s - loss: 0.3143 - accuracy: 0.8853\n",
      "Epoch 45: val_accuracy did not improve from 0.84325\n",
      "645/645 [==============================] - 24s 37ms/step - loss: 0.3143 - accuracy: 0.8853 - val_loss: 0.4300 - val_accuracy: 0.8409\n",
      "Epoch 46/70\n",
      "645/645 [==============================] - ETA: 0s - loss: 0.3118 - accuracy: 0.8873\n",
      "Epoch 46: val_accuracy did not improve from 0.84325\n",
      "645/645 [==============================] - 24s 38ms/step - loss: 0.3118 - accuracy: 0.8873 - val_loss: 0.4296 - val_accuracy: 0.8411\n",
      "Epoch 47/70\n",
      "645/645 [==============================] - ETA: 0s - loss: 0.3103 - accuracy: 0.8857\n",
      "Epoch 47: val_accuracy did not improve from 0.84325\n",
      "645/645 [==============================] - 24s 37ms/step - loss: 0.3103 - accuracy: 0.8857 - val_loss: 0.4303 - val_accuracy: 0.8392\n",
      "Epoch 48/70\n",
      "645/645 [==============================] - ETA: 0s - loss: 0.3058 - accuracy: 0.8870\n",
      "Epoch 48: val_accuracy did not improve from 0.84325\n",
      "645/645 [==============================] - 24s 37ms/step - loss: 0.3058 - accuracy: 0.8870 - val_loss: 0.4343 - val_accuracy: 0.8431\n",
      "Epoch 49/70\n",
      "644/645 [============================>.] - ETA: 0s - loss: 0.3069 - accuracy: 0.8875\n",
      "Epoch 49: val_accuracy did not improve from 0.84325\n",
      "645/645 [==============================] - 24s 38ms/step - loss: 0.3068 - accuracy: 0.8875 - val_loss: 0.4336 - val_accuracy: 0.8411\n",
      "Epoch 50/70\n",
      "644/645 [============================>.] - ETA: 0s - loss: 0.3064 - accuracy: 0.8862\n",
      "Epoch 50: val_accuracy did not improve from 0.84325\n",
      "645/645 [==============================] - 24s 37ms/step - loss: 0.3064 - accuracy: 0.8862 - val_loss: 0.4331 - val_accuracy: 0.8409\n",
      "Epoch 51/70\n",
      "645/645 [==============================] - ETA: 0s - loss: 0.3060 - accuracy: 0.8883\n",
      "Epoch 51: val_accuracy did not improve from 0.84325\n",
      "645/645 [==============================] - 24s 37ms/step - loss: 0.3060 - accuracy: 0.8883 - val_loss: 0.4340 - val_accuracy: 0.8409\n",
      "Epoch 52/70\n",
      "645/645 [==============================] - ETA: 0s - loss: 0.3032 - accuracy: 0.8892\n",
      "Epoch 52: val_accuracy did not improve from 0.84325\n",
      "645/645 [==============================] - 24s 37ms/step - loss: 0.3032 - accuracy: 0.8892 - val_loss: 0.4354 - val_accuracy: 0.8425\n",
      "Epoch 53/70\n",
      "645/645 [==============================] - ETA: 0s - loss: 0.3071 - accuracy: 0.8880\n",
      "Epoch 53: val_accuracy did not improve from 0.84325\n",
      "645/645 [==============================] - 24s 37ms/step - loss: 0.3071 - accuracy: 0.8880 - val_loss: 0.4341 - val_accuracy: 0.8425\n",
      "Epoch 54/70\n",
      "644/645 [============================>.] - ETA: 0s - loss: 0.3006 - accuracy: 0.8888\n",
      "Epoch 54: val_accuracy did not improve from 0.84325\n",
      "645/645 [==============================] - 24s 37ms/step - loss: 0.3006 - accuracy: 0.8888 - val_loss: 0.4327 - val_accuracy: 0.8387\n",
      "Epoch 55/70\n",
      "645/645 [==============================] - ETA: 0s - loss: 0.3004 - accuracy: 0.8900\n",
      "Epoch 55: val_accuracy did not improve from 0.84325\n",
      "645/645 [==============================] - 24s 38ms/step - loss: 0.3004 - accuracy: 0.8900 - val_loss: 0.4355 - val_accuracy: 0.8383\n",
      "Epoch 56/70\n",
      "644/645 [============================>.] - ETA: 0s - loss: 0.3002 - accuracy: 0.8898\n",
      "Epoch 56: val_accuracy did not improve from 0.84325\n",
      "645/645 [==============================] - 24s 38ms/step - loss: 0.3002 - accuracy: 0.8898 - val_loss: 0.4382 - val_accuracy: 0.8424\n",
      "Epoch 57/70\n",
      "645/645 [==============================] - ETA: 0s - loss: 0.2996 - accuracy: 0.8914\n",
      "Epoch 57: val_accuracy did not improve from 0.84325\n",
      "645/645 [==============================] - 25s 38ms/step - loss: 0.2996 - accuracy: 0.8914 - val_loss: 0.4344 - val_accuracy: 0.8425\n",
      "Epoch 58/70\n",
      "645/645 [==============================] - ETA: 0s - loss: 0.3003 - accuracy: 0.8920\n",
      "Epoch 58: val_accuracy did not improve from 0.84325\n",
      "645/645 [==============================] - 24s 38ms/step - loss: 0.3003 - accuracy: 0.8920 - val_loss: 0.4379 - val_accuracy: 0.8422\n",
      "Epoch 59/70\n",
      "645/645 [==============================] - ETA: 0s - loss: 0.2990 - accuracy: 0.8902\n",
      "Epoch 59: val_accuracy did not improve from 0.84325\n",
      "645/645 [==============================] - 24s 38ms/step - loss: 0.2990 - accuracy: 0.8902 - val_loss: 0.4364 - val_accuracy: 0.8411\n",
      "Epoch 60/70\n",
      "645/645 [==============================] - ETA: 0s - loss: 0.2954 - accuracy: 0.8933\n",
      "Epoch 60: val_accuracy did not improve from 0.84325\n",
      "645/645 [==============================] - 24s 38ms/step - loss: 0.2954 - accuracy: 0.8933 - val_loss: 0.4406 - val_accuracy: 0.8396\n",
      "Epoch 61/70\n",
      "645/645 [==============================] - ETA: 0s - loss: 0.2945 - accuracy: 0.8943\n",
      "Epoch 61: val_accuracy did not improve from 0.84325\n",
      "645/645 [==============================] - 24s 38ms/step - loss: 0.2945 - accuracy: 0.8943 - val_loss: 0.4395 - val_accuracy: 0.8427\n",
      "Epoch 62/70\n",
      "645/645 [==============================] - ETA: 0s - loss: 0.2944 - accuracy: 0.8919\n",
      "Epoch 62: val_accuracy improved from 0.84325 to 0.84369, saving model to best_model1.hdf5\n",
      "645/645 [==============================] - 24s 38ms/step - loss: 0.2944 - accuracy: 0.8919 - val_loss: 0.4368 - val_accuracy: 0.8437\n",
      "Epoch 63/70\n",
      "645/645 [==============================] - ETA: 0s - loss: 0.2940 - accuracy: 0.8920\n",
      "Epoch 63: val_accuracy did not improve from 0.84369\n",
      "645/645 [==============================] - 24s 38ms/step - loss: 0.2940 - accuracy: 0.8920 - val_loss: 0.4399 - val_accuracy: 0.8428\n",
      "Epoch 64/70\n",
      "645/645 [==============================] - ETA: 0s - loss: 0.2934 - accuracy: 0.8951\n",
      "Epoch 64: val_accuracy did not improve from 0.84369\n",
      "645/645 [==============================] - 24s 38ms/step - loss: 0.2934 - accuracy: 0.8951 - val_loss: 0.4419 - val_accuracy: 0.8421\n",
      "Epoch 65/70\n",
      "645/645 [==============================] - ETA: 0s - loss: 0.2936 - accuracy: 0.8937\n",
      "Epoch 65: val_accuracy did not improve from 0.84369\n",
      "645/645 [==============================] - 24s 38ms/step - loss: 0.2936 - accuracy: 0.8937 - val_loss: 0.4397 - val_accuracy: 0.8406\n",
      "Epoch 66/70\n",
      "645/645 [==============================] - ETA: 0s - loss: 0.2884 - accuracy: 0.8958\n",
      "Epoch 66: val_accuracy did not improve from 0.84369\n",
      "645/645 [==============================] - 24s 38ms/step - loss: 0.2884 - accuracy: 0.8958 - val_loss: 0.4483 - val_accuracy: 0.8405\n",
      "Epoch 67/70\n",
      "645/645 [==============================] - ETA: 0s - loss: 0.2912 - accuracy: 0.8948\n",
      "Epoch 67: val_accuracy did not improve from 0.84369\n",
      "645/645 [==============================] - 24s 38ms/step - loss: 0.2912 - accuracy: 0.8948 - val_loss: 0.4453 - val_accuracy: 0.8408\n",
      "Epoch 68/70\n",
      "645/645 [==============================] - ETA: 0s - loss: 0.2908 - accuracy: 0.8957\n",
      "Epoch 68: val_accuracy improved from 0.84369 to 0.84384, saving model to best_model1.hdf5\n",
      "645/645 [==============================] - 24s 38ms/step - loss: 0.2908 - accuracy: 0.8957 - val_loss: 0.4418 - val_accuracy: 0.8438\n",
      "Epoch 69/70\n",
      "645/645 [==============================] - ETA: 0s - loss: 0.2865 - accuracy: 0.8988\n",
      "Epoch 69: val_accuracy did not improve from 0.84384\n",
      "645/645 [==============================] - 24s 38ms/step - loss: 0.2865 - accuracy: 0.8988 - val_loss: 0.4399 - val_accuracy: 0.8431\n",
      "Epoch 70/70\n",
      "645/645 [==============================] - ETA: 0s - loss: 0.2881 - accuracy: 0.8975\n",
      "Epoch 70: val_accuracy did not improve from 0.84384\n",
      "645/645 [==============================] - 24s 38ms/step - loss: 0.2881 - accuracy: 0.8975 - val_loss: 0.4367 - val_accuracy: 0.8417\n"
     ]
    }
   ],
   "source": [
    "model1 = Sequential()\n",
    "model1.add(layers.Embedding(max_words, 20))\n",
    "model1.add(layers.LSTM(15, dropout=0.5))\n",
    "model1.add(layers.Dense(3, activation='softmax'))\n",
    "model1.compile(optimizer='rmsprop', loss='categorical_crossentropy', metrics=['accuracy'])\n",
    "checkpoint1 = ModelCheckpoint(\"best_model1.hdf5\", monitor='val_accuracy', verbose=1, save_best_only=True, mode='auto', period=1, save_weights_only=False)\n",
    "history1 = model1.fit(X_train, y_train, epochs=70, validation_data=(X_test, y_test), callbacks=[checkpoint1])"
   ]
  },
  {
   "cell_type": "code",
   "execution_count": 27,
   "id": "e3892f0f-eecb-423f-9a35-d136ffcbac72",
   "metadata": {
    "tags": []
   },
   "outputs": [
    {
     "name": "stdout",
     "output_type": "stream",
     "text": [
      "WARNING:tensorflow:`period` argument is deprecated. Please use `save_freq` to specify the frequency in number of batches seen.\n",
      "Epoch 1/70\n"
     ]
    },
    {
     "name": "stderr",
     "output_type": "stream",
     "text": [
      "2023-04-29 19:47:06.241273: I tensorflow/core/common_runtime/executor.cc:1197] [/device:CPU:0] (DEBUG INFO) Executor start aborting (this does not indicate an error and you can ignore this message): INVALID_ARGUMENT: You must feed a value for placeholder tensor 'gradients/split_2_grad/concat/split_2/split_dim' with dtype int32\n",
      "\t [[{{node gradients/split_2_grad/concat/split_2/split_dim}}]]\n",
      "2023-04-29 19:47:06.242241: I tensorflow/core/common_runtime/executor.cc:1197] [/device:CPU:0] (DEBUG INFO) Executor start aborting (this does not indicate an error and you can ignore this message): INVALID_ARGUMENT: You must feed a value for placeholder tensor 'gradients/split_grad/concat/split/split_dim' with dtype int32\n",
      "\t [[{{node gradients/split_grad/concat/split/split_dim}}]]\n",
      "2023-04-29 19:47:06.242884: I tensorflow/core/common_runtime/executor.cc:1197] [/device:CPU:0] (DEBUG INFO) Executor start aborting (this does not indicate an error and you can ignore this message): INVALID_ARGUMENT: You must feed a value for placeholder tensor 'gradients/split_1_grad/concat/split_1/split_dim' with dtype int32\n",
      "\t [[{{node gradients/split_1_grad/concat/split_1/split_dim}}]]\n",
      "2023-04-29 19:47:06.340501: I tensorflow/core/common_runtime/executor.cc:1197] [/device:CPU:0] (DEBUG INFO) Executor start aborting (this does not indicate an error and you can ignore this message): INVALID_ARGUMENT: You must feed a value for placeholder tensor 'gradients/ReverseV2_grad/ReverseV2/ReverseV2/axis' with dtype int32 and shape [1]\n",
      "\t [[{{node gradients/ReverseV2_grad/ReverseV2/ReverseV2/axis}}]]\n",
      "2023-04-29 19:47:06.370477: I tensorflow/core/common_runtime/executor.cc:1197] [/device:CPU:0] (DEBUG INFO) Executor start aborting (this does not indicate an error and you can ignore this message): INVALID_ARGUMENT: You must feed a value for placeholder tensor 'gradients/split_2_grad/concat/split_2/split_dim' with dtype int32\n",
      "\t [[{{node gradients/split_2_grad/concat/split_2/split_dim}}]]\n",
      "2023-04-29 19:47:06.371819: I tensorflow/core/common_runtime/executor.cc:1197] [/device:CPU:0] (DEBUG INFO) Executor start aborting (this does not indicate an error and you can ignore this message): INVALID_ARGUMENT: You must feed a value for placeholder tensor 'gradients/split_grad/concat/split/split_dim' with dtype int32\n",
      "\t [[{{node gradients/split_grad/concat/split/split_dim}}]]\n",
      "2023-04-29 19:47:06.373001: I tensorflow/core/common_runtime/executor.cc:1197] [/device:CPU:0] (DEBUG INFO) Executor start aborting (this does not indicate an error and you can ignore this message): INVALID_ARGUMENT: You must feed a value for placeholder tensor 'gradients/split_1_grad/concat/split_1/split_dim' with dtype int32\n",
      "\t [[{{node gradients/split_1_grad/concat/split_1/split_dim}}]]\n",
      "2023-04-29 19:47:06.562353: I tensorflow/core/common_runtime/executor.cc:1197] [/device:CPU:0] (DEBUG INFO) Executor start aborting (this does not indicate an error and you can ignore this message): INVALID_ARGUMENT: You must feed a value for placeholder tensor 'gradients/split_2_grad/concat/split_2/split_dim' with dtype int32\n",
      "\t [[{{node gradients/split_2_grad/concat/split_2/split_dim}}]]\n",
      "2023-04-29 19:47:06.564203: I tensorflow/core/common_runtime/executor.cc:1197] [/device:CPU:0] (DEBUG INFO) Executor start aborting (this does not indicate an error and you can ignore this message): INVALID_ARGUMENT: You must feed a value for placeholder tensor 'gradients/split_grad/concat/split/split_dim' with dtype int32\n",
      "\t [[{{node gradients/split_grad/concat/split/split_dim}}]]\n",
      "2023-04-29 19:47:06.565272: I tensorflow/core/common_runtime/executor.cc:1197] [/device:CPU:0] (DEBUG INFO) Executor start aborting (this does not indicate an error and you can ignore this message): INVALID_ARGUMENT: You must feed a value for placeholder tensor 'gradients/split_1_grad/concat/split_1/split_dim' with dtype int32\n",
      "\t [[{{node gradients/split_1_grad/concat/split_1/split_dim}}]]\n",
      "2023-04-29 19:47:06.671953: I tensorflow/core/common_runtime/executor.cc:1197] [/device:CPU:0] (DEBUG INFO) Executor start aborting (this does not indicate an error and you can ignore this message): INVALID_ARGUMENT: You must feed a value for placeholder tensor 'gradients/ReverseV2_grad/ReverseV2/ReverseV2/axis' with dtype int32 and shape [1]\n",
      "\t [[{{node gradients/ReverseV2_grad/ReverseV2/ReverseV2/axis}}]]\n",
      "2023-04-29 19:47:06.703150: I tensorflow/core/common_runtime/executor.cc:1197] [/device:CPU:0] (DEBUG INFO) Executor start aborting (this does not indicate an error and you can ignore this message): INVALID_ARGUMENT: You must feed a value for placeholder tensor 'gradients/split_2_grad/concat/split_2/split_dim' with dtype int32\n",
      "\t [[{{node gradients/split_2_grad/concat/split_2/split_dim}}]]\n",
      "2023-04-29 19:47:06.704102: I tensorflow/core/common_runtime/executor.cc:1197] [/device:CPU:0] (DEBUG INFO) Executor start aborting (this does not indicate an error and you can ignore this message): INVALID_ARGUMENT: You must feed a value for placeholder tensor 'gradients/split_grad/concat/split/split_dim' with dtype int32\n",
      "\t [[{{node gradients/split_grad/concat/split/split_dim}}]]\n",
      "2023-04-29 19:47:06.705269: I tensorflow/core/common_runtime/executor.cc:1197] [/device:CPU:0] (DEBUG INFO) Executor start aborting (this does not indicate an error and you can ignore this message): INVALID_ARGUMENT: You must feed a value for placeholder tensor 'gradients/split_1_grad/concat/split_1/split_dim' with dtype int32\n",
      "\t [[{{node gradients/split_1_grad/concat/split_1/split_dim}}]]\n",
      "2023-04-29 19:47:07.002757: I tensorflow/core/common_runtime/executor.cc:1197] [/device:CPU:0] (DEBUG INFO) Executor start aborting (this does not indicate an error and you can ignore this message): INVALID_ARGUMENT: You must feed a value for placeholder tensor 'gradients/ReverseV2_grad/ReverseV2/ReverseV2/axis' with dtype int32 and shape [1]\n",
      "\t [[{{node gradients/ReverseV2_grad/ReverseV2/ReverseV2/axis}}]]\n",
      "2023-04-29 19:47:07.227928: I tensorflow/core/common_runtime/executor.cc:1197] [/device:CPU:0] (DEBUG INFO) Executor start aborting (this does not indicate an error and you can ignore this message): INVALID_ARGUMENT: You must feed a value for placeholder tensor 'gradients/split_2_grad/concat/split_2/split_dim' with dtype int32\n",
      "\t [[{{node gradients/split_2_grad/concat/split_2/split_dim}}]]\n",
      "2023-04-29 19:47:07.229616: I tensorflow/core/common_runtime/executor.cc:1197] [/device:CPU:0] (DEBUG INFO) Executor start aborting (this does not indicate an error and you can ignore this message): INVALID_ARGUMENT: You must feed a value for placeholder tensor 'gradients/split_grad/concat/split/split_dim' with dtype int32\n",
      "\t [[{{node gradients/split_grad/concat/split/split_dim}}]]\n",
      "2023-04-29 19:47:07.230784: I tensorflow/core/common_runtime/executor.cc:1197] [/device:CPU:0] (DEBUG INFO) Executor start aborting (this does not indicate an error and you can ignore this message): INVALID_ARGUMENT: You must feed a value for placeholder tensor 'gradients/split_1_grad/concat/split_1/split_dim' with dtype int32\n",
      "\t [[{{node gradients/split_1_grad/concat/split_1/split_dim}}]]\n",
      "2023-04-29 19:47:07.329613: I tensorflow/core/common_runtime/executor.cc:1197] [/device:CPU:0] (DEBUG INFO) Executor start aborting (this does not indicate an error and you can ignore this message): INVALID_ARGUMENT: You must feed a value for placeholder tensor 'gradients/ReverseV2_grad/ReverseV2/ReverseV2/axis' with dtype int32 and shape [1]\n",
      "\t [[{{node gradients/ReverseV2_grad/ReverseV2/ReverseV2/axis}}]]\n",
      "2023-04-29 19:47:07.359533: I tensorflow/core/common_runtime/executor.cc:1197] [/device:CPU:0] (DEBUG INFO) Executor start aborting (this does not indicate an error and you can ignore this message): INVALID_ARGUMENT: You must feed a value for placeholder tensor 'gradients/split_2_grad/concat/split_2/split_dim' with dtype int32\n",
      "\t [[{{node gradients/split_2_grad/concat/split_2/split_dim}}]]\n",
      "2023-04-29 19:47:07.360791: I tensorflow/core/common_runtime/executor.cc:1197] [/device:CPU:0] (DEBUG INFO) Executor start aborting (this does not indicate an error and you can ignore this message): INVALID_ARGUMENT: You must feed a value for placeholder tensor 'gradients/split_grad/concat/split/split_dim' with dtype int32\n",
      "\t [[{{node gradients/split_grad/concat/split/split_dim}}]]\n",
      "2023-04-29 19:47:07.361620: I tensorflow/core/common_runtime/executor.cc:1197] [/device:CPU:0] (DEBUG INFO) Executor start aborting (this does not indicate an error and you can ignore this message): INVALID_ARGUMENT: You must feed a value for placeholder tensor 'gradients/split_1_grad/concat/split_1/split_dim' with dtype int32\n",
      "\t [[{{node gradients/split_1_grad/concat/split_1/split_dim}}]]\n",
      "2023-04-29 19:47:07.654128: I tensorflow/core/common_runtime/executor.cc:1197] [/device:CPU:0] (DEBUG INFO) Executor start aborting (this does not indicate an error and you can ignore this message): INVALID_ARGUMENT: You must feed a value for placeholder tensor 'gradients/ReverseV2_grad/ReverseV2/ReverseV2/axis' with dtype int32 and shape [1]\n",
      "\t [[{{node gradients/ReverseV2_grad/ReverseV2/ReverseV2/axis}}]]\n"
     ]
    },
    {
     "name": "stdout",
     "output_type": "stream",
     "text": [
      "644/645 [============================>.] - ETA: 0s - loss: 0.7889 - accuracy: 0.6488"
     ]
    },
    {
     "name": "stderr",
     "output_type": "stream",
     "text": [
      "2023-04-29 19:47:35.441533: I tensorflow/core/common_runtime/executor.cc:1197] [/device:CPU:0] (DEBUG INFO) Executor start aborting (this does not indicate an error and you can ignore this message): INVALID_ARGUMENT: You must feed a value for placeholder tensor 'gradients/split_2_grad/concat/split_2/split_dim' with dtype int32\n",
      "\t [[{{node gradients/split_2_grad/concat/split_2/split_dim}}]]\n",
      "2023-04-29 19:47:35.442925: I tensorflow/core/common_runtime/executor.cc:1197] [/device:CPU:0] (DEBUG INFO) Executor start aborting (this does not indicate an error and you can ignore this message): INVALID_ARGUMENT: You must feed a value for placeholder tensor 'gradients/split_grad/concat/split/split_dim' with dtype int32\n",
      "\t [[{{node gradients/split_grad/concat/split/split_dim}}]]\n",
      "2023-04-29 19:47:35.443681: I tensorflow/core/common_runtime/executor.cc:1197] [/device:CPU:0] (DEBUG INFO) Executor start aborting (this does not indicate an error and you can ignore this message): INVALID_ARGUMENT: You must feed a value for placeholder tensor 'gradients/split_1_grad/concat/split_1/split_dim' with dtype int32\n",
      "\t [[{{node gradients/split_1_grad/concat/split_1/split_dim}}]]\n",
      "2023-04-29 19:47:35.537562: I tensorflow/core/common_runtime/executor.cc:1197] [/device:CPU:0] (DEBUG INFO) Executor start aborting (this does not indicate an error and you can ignore this message): INVALID_ARGUMENT: You must feed a value for placeholder tensor 'gradients/ReverseV2_grad/ReverseV2/ReverseV2/axis' with dtype int32 and shape [1]\n",
      "\t [[{{node gradients/ReverseV2_grad/ReverseV2/ReverseV2/axis}}]]\n",
      "2023-04-29 19:47:35.566074: I tensorflow/core/common_runtime/executor.cc:1197] [/device:CPU:0] (DEBUG INFO) Executor start aborting (this does not indicate an error and you can ignore this message): INVALID_ARGUMENT: You must feed a value for placeholder tensor 'gradients/split_2_grad/concat/split_2/split_dim' with dtype int32\n",
      "\t [[{{node gradients/split_2_grad/concat/split_2/split_dim}}]]\n",
      "2023-04-29 19:47:35.566885: I tensorflow/core/common_runtime/executor.cc:1197] [/device:CPU:0] (DEBUG INFO) Executor start aborting (this does not indicate an error and you can ignore this message): INVALID_ARGUMENT: You must feed a value for placeholder tensor 'gradients/split_grad/concat/split/split_dim' with dtype int32\n",
      "\t [[{{node gradients/split_grad/concat/split/split_dim}}]]\n",
      "2023-04-29 19:47:35.567529: I tensorflow/core/common_runtime/executor.cc:1197] [/device:CPU:0] (DEBUG INFO) Executor start aborting (this does not indicate an error and you can ignore this message): INVALID_ARGUMENT: You must feed a value for placeholder tensor 'gradients/split_1_grad/concat/split_1/split_dim' with dtype int32\n",
      "\t [[{{node gradients/split_1_grad/concat/split_1/split_dim}}]]\n"
     ]
    },
    {
     "name": "stdout",
     "output_type": "stream",
     "text": [
      "\n",
      "Epoch 1: val_accuracy improved from -inf to 0.74196, saving model to best_model2.hdf5\n",
      "645/645 [==============================] - 31s 46ms/step - loss: 0.7889 - accuracy: 0.6488 - val_loss: 0.6373 - val_accuracy: 0.7420\n",
      "Epoch 2/70\n",
      "644/645 [============================>.] - ETA: 0s - loss: 0.5855 - accuracy: 0.7649\n",
      "Epoch 2: val_accuracy improved from 0.74196 to 0.78984, saving model to best_model2.hdf5\n",
      "645/645 [==============================] - 28s 43ms/step - loss: 0.5855 - accuracy: 0.7649 - val_loss: 0.5365 - val_accuracy: 0.7898\n",
      "Epoch 3/70\n",
      "645/645 [==============================] - ETA: 0s - loss: 0.5126 - accuracy: 0.8013\n",
      "Epoch 3: val_accuracy improved from 0.78984 to 0.80498, saving model to best_model2.hdf5\n",
      "645/645 [==============================] - 28s 43ms/step - loss: 0.5126 - accuracy: 0.8013 - val_loss: 0.5036 - val_accuracy: 0.8050\n",
      "Epoch 4/70\n",
      "644/645 [============================>.] - ETA: 0s - loss: 0.4763 - accuracy: 0.8179\n",
      "Epoch 4: val_accuracy improved from 0.80498 to 0.80963, saving model to best_model2.hdf5\n",
      "645/645 [==============================] - 29s 45ms/step - loss: 0.4763 - accuracy: 0.8179 - val_loss: 0.4850 - val_accuracy: 0.8096\n",
      "Epoch 5/70\n",
      "645/645 [==============================] - ETA: 0s - loss: 0.4522 - accuracy: 0.8268\n",
      "Epoch 5: val_accuracy improved from 0.80963 to 0.81822, saving model to best_model2.hdf5\n",
      "645/645 [==============================] - 29s 45ms/step - loss: 0.4522 - accuracy: 0.8268 - val_loss: 0.4719 - val_accuracy: 0.8182\n",
      "Epoch 6/70\n",
      "644/645 [============================>.] - ETA: 0s - loss: 0.4372 - accuracy: 0.8351\n",
      "Epoch 6: val_accuracy improved from 0.81822 to 0.82317, saving model to best_model2.hdf5\n",
      "645/645 [==============================] - 28s 44ms/step - loss: 0.4373 - accuracy: 0.8351 - val_loss: 0.4620 - val_accuracy: 0.8232\n",
      "Epoch 7/70\n",
      "645/645 [==============================] - ETA: 0s - loss: 0.4209 - accuracy: 0.8438\n",
      "Epoch 7: val_accuracy did not improve from 0.82317\n",
      "645/645 [==============================] - 28s 43ms/step - loss: 0.4209 - accuracy: 0.8438 - val_loss: 0.4611 - val_accuracy: 0.8230\n",
      "Epoch 8/70\n",
      "645/645 [==============================] - ETA: 0s - loss: 0.4103 - accuracy: 0.8457\n",
      "Epoch 8: val_accuracy did not improve from 0.82317\n",
      "645/645 [==============================] - 29s 44ms/step - loss: 0.4103 - accuracy: 0.8457 - val_loss: 0.4522 - val_accuracy: 0.8222\n",
      "Epoch 9/70\n",
      "645/645 [==============================] - ETA: 0s - loss: 0.4025 - accuracy: 0.8500\n",
      "Epoch 9: val_accuracy improved from 0.82317 to 0.83001, saving model to best_model2.hdf5\n",
      "645/645 [==============================] - 29s 45ms/step - loss: 0.4025 - accuracy: 0.8500 - val_loss: 0.4452 - val_accuracy: 0.8300\n",
      "Epoch 10/70\n",
      "644/645 [============================>.] - ETA: 0s - loss: 0.3882 - accuracy: 0.8564\n",
      "Epoch 10: val_accuracy improved from 0.83001 to 0.83176, saving model to best_model2.hdf5\n",
      "645/645 [==============================] - 29s 44ms/step - loss: 0.3882 - accuracy: 0.8564 - val_loss: 0.4362 - val_accuracy: 0.8318\n",
      "Epoch 11/70\n",
      "644/645 [============================>.] - ETA: 0s - loss: 0.3829 - accuracy: 0.8577\n",
      "Epoch 11: val_accuracy did not improve from 0.83176\n",
      "645/645 [==============================] - 29s 44ms/step - loss: 0.3829 - accuracy: 0.8577 - val_loss: 0.4453 - val_accuracy: 0.8306\n",
      "Epoch 12/70\n",
      "645/645 [==============================] - ETA: 0s - loss: 0.3765 - accuracy: 0.8605\n",
      "Epoch 12: val_accuracy improved from 0.83176 to 0.83336, saving model to best_model2.hdf5\n",
      "645/645 [==============================] - 28s 44ms/step - loss: 0.3765 - accuracy: 0.8605 - val_loss: 0.4385 - val_accuracy: 0.8334\n",
      "Epoch 13/70\n",
      "645/645 [==============================] - ETA: 0s - loss: 0.3684 - accuracy: 0.8637\n",
      "Epoch 13: val_accuracy improved from 0.83336 to 0.83685, saving model to best_model2.hdf5\n",
      "645/645 [==============================] - 28s 44ms/step - loss: 0.3684 - accuracy: 0.8637 - val_loss: 0.4298 - val_accuracy: 0.8369\n",
      "Epoch 14/70\n",
      "645/645 [==============================] - ETA: 0s - loss: 0.3644 - accuracy: 0.8656\n",
      "Epoch 14: val_accuracy did not improve from 0.83685\n",
      "645/645 [==============================] - 28s 44ms/step - loss: 0.3644 - accuracy: 0.8656 - val_loss: 0.4284 - val_accuracy: 0.8363\n",
      "Epoch 15/70\n",
      "645/645 [==============================] - ETA: 0s - loss: 0.3588 - accuracy: 0.8668\n",
      "Epoch 15: val_accuracy did not improve from 0.83685\n",
      "645/645 [==============================] - 28s 43ms/step - loss: 0.3588 - accuracy: 0.8668 - val_loss: 0.4285 - val_accuracy: 0.8348\n",
      "Epoch 16/70\n",
      "644/645 [============================>.] - ETA: 0s - loss: 0.3552 - accuracy: 0.8689\n",
      "Epoch 16: val_accuracy improved from 0.83685 to 0.83801, saving model to best_model2.hdf5\n",
      "645/645 [==============================] - 28s 43ms/step - loss: 0.3551 - accuracy: 0.8689 - val_loss: 0.4279 - val_accuracy: 0.8380\n",
      "Epoch 17/70\n",
      "645/645 [==============================] - ETA: 0s - loss: 0.3541 - accuracy: 0.8705\n",
      "Epoch 17: val_accuracy did not improve from 0.83801\n",
      "645/645 [==============================] - 28s 43ms/step - loss: 0.3541 - accuracy: 0.8705 - val_loss: 0.4267 - val_accuracy: 0.8361\n",
      "Epoch 18/70\n",
      "645/645 [==============================] - ETA: 0s - loss: 0.3510 - accuracy: 0.8708\n",
      "Epoch 18: val_accuracy did not improve from 0.83801\n",
      "645/645 [==============================] - 28s 43ms/step - loss: 0.3510 - accuracy: 0.8708 - val_loss: 0.4340 - val_accuracy: 0.8379\n",
      "Epoch 19/70\n",
      "645/645 [==============================] - ETA: 0s - loss: 0.3464 - accuracy: 0.8730\n",
      "Epoch 19: val_accuracy improved from 0.83801 to 0.83831, saving model to best_model2.hdf5\n",
      "645/645 [==============================] - 28s 44ms/step - loss: 0.3464 - accuracy: 0.8730 - val_loss: 0.4315 - val_accuracy: 0.8383\n",
      "Epoch 20/70\n",
      "645/645 [==============================] - ETA: 0s - loss: 0.3424 - accuracy: 0.8737\n",
      "Epoch 20: val_accuracy improved from 0.83831 to 0.83874, saving model to best_model2.hdf5\n",
      "645/645 [==============================] - 28s 43ms/step - loss: 0.3424 - accuracy: 0.8737 - val_loss: 0.4348 - val_accuracy: 0.8387\n",
      "Epoch 21/70\n",
      "645/645 [==============================] - ETA: 0s - loss: 0.3428 - accuracy: 0.8733\n",
      "Epoch 21: val_accuracy improved from 0.83874 to 0.83889, saving model to best_model2.hdf5\n",
      "645/645 [==============================] - 28s 43ms/step - loss: 0.3428 - accuracy: 0.8733 - val_loss: 0.4306 - val_accuracy: 0.8389\n",
      "Epoch 22/70\n",
      "644/645 [============================>.] - ETA: 0s - loss: 0.3357 - accuracy: 0.8750\n",
      "Epoch 22: val_accuracy improved from 0.83889 to 0.83976, saving model to best_model2.hdf5\n",
      "645/645 [==============================] - 28s 44ms/step - loss: 0.3358 - accuracy: 0.8749 - val_loss: 0.4256 - val_accuracy: 0.8398\n",
      "Epoch 23/70\n",
      "644/645 [============================>.] - ETA: 0s - loss: 0.3367 - accuracy: 0.8760\n",
      "Epoch 23: val_accuracy did not improve from 0.83976\n",
      "645/645 [==============================] - 28s 43ms/step - loss: 0.3367 - accuracy: 0.8760 - val_loss: 0.4364 - val_accuracy: 0.8383\n",
      "Epoch 24/70\n",
      "645/645 [==============================] - ETA: 0s - loss: 0.3340 - accuracy: 0.8765\n",
      "Epoch 24: val_accuracy improved from 0.83976 to 0.84063, saving model to best_model2.hdf5\n",
      "645/645 [==============================] - 28s 43ms/step - loss: 0.3340 - accuracy: 0.8765 - val_loss: 0.4309 - val_accuracy: 0.8406\n",
      "Epoch 25/70\n",
      "645/645 [==============================] - ETA: 0s - loss: 0.3282 - accuracy: 0.8771\n",
      "Epoch 25: val_accuracy did not improve from 0.84063\n",
      "645/645 [==============================] - 28s 43ms/step - loss: 0.3282 - accuracy: 0.8771 - val_loss: 0.4350 - val_accuracy: 0.8379\n",
      "Epoch 26/70\n",
      "644/645 [============================>.] - ETA: 0s - loss: 0.3278 - accuracy: 0.8800\n",
      "Epoch 26: val_accuracy did not improve from 0.84063\n",
      "645/645 [==============================] - 28s 43ms/step - loss: 0.3277 - accuracy: 0.8800 - val_loss: 0.4317 - val_accuracy: 0.8396\n",
      "Epoch 27/70\n",
      "645/645 [==============================] - ETA: 0s - loss: 0.3253 - accuracy: 0.8794\n",
      "Epoch 27: val_accuracy improved from 0.84063 to 0.84122, saving model to best_model2.hdf5\n",
      "645/645 [==============================] - 28s 43ms/step - loss: 0.3253 - accuracy: 0.8794 - val_loss: 0.4293 - val_accuracy: 0.8412\n",
      "Epoch 28/70\n",
      "644/645 [============================>.] - ETA: 0s - loss: 0.3241 - accuracy: 0.8823\n",
      "Epoch 28: val_accuracy did not improve from 0.84122\n",
      "645/645 [==============================] - 28s 44ms/step - loss: 0.3241 - accuracy: 0.8823 - val_loss: 0.4366 - val_accuracy: 0.8396\n",
      "Epoch 29/70\n",
      "644/645 [============================>.] - ETA: 0s - loss: 0.3216 - accuracy: 0.8815\n",
      "Epoch 29: val_accuracy did not improve from 0.84122\n",
      "645/645 [==============================] - 28s 44ms/step - loss: 0.3216 - accuracy: 0.8815 - val_loss: 0.4309 - val_accuracy: 0.8403\n",
      "Epoch 30/70\n",
      "645/645 [==============================] - ETA: 0s - loss: 0.3222 - accuracy: 0.8793\n",
      "Epoch 30: val_accuracy improved from 0.84122 to 0.84282, saving model to best_model2.hdf5\n",
      "645/645 [==============================] - 28s 44ms/step - loss: 0.3222 - accuracy: 0.8793 - val_loss: 0.4340 - val_accuracy: 0.8428\n",
      "Epoch 31/70\n",
      "645/645 [==============================] - ETA: 0s - loss: 0.3192 - accuracy: 0.8824\n",
      "Epoch 31: val_accuracy improved from 0.84282 to 0.84296, saving model to best_model2.hdf5\n",
      "645/645 [==============================] - 28s 44ms/step - loss: 0.3192 - accuracy: 0.8824 - val_loss: 0.4299 - val_accuracy: 0.8430\n",
      "Epoch 32/70\n",
      "644/645 [============================>.] - ETA: 0s - loss: 0.3177 - accuracy: 0.8849\n",
      "Epoch 32: val_accuracy did not improve from 0.84296\n",
      "645/645 [==============================] - 28s 44ms/step - loss: 0.3177 - accuracy: 0.8849 - val_loss: 0.4399 - val_accuracy: 0.8385\n",
      "Epoch 33/70\n",
      "645/645 [==============================] - ETA: 0s - loss: 0.3159 - accuracy: 0.8830\n",
      "Epoch 33: val_accuracy did not improve from 0.84296\n",
      "645/645 [==============================] - 28s 43ms/step - loss: 0.3159 - accuracy: 0.8830 - val_loss: 0.4362 - val_accuracy: 0.8403\n",
      "Epoch 34/70\n",
      "644/645 [============================>.] - ETA: 0s - loss: 0.3125 - accuracy: 0.8868\n",
      "Epoch 34: val_accuracy did not improve from 0.84296\n",
      "645/645 [==============================] - 28s 43ms/step - loss: 0.3125 - accuracy: 0.8869 - val_loss: 0.4327 - val_accuracy: 0.8417\n",
      "Epoch 35/70\n",
      "644/645 [============================>.] - ETA: 0s - loss: 0.3109 - accuracy: 0.8859\n",
      "Epoch 35: val_accuracy did not improve from 0.84296\n",
      "645/645 [==============================] - 28s 44ms/step - loss: 0.3109 - accuracy: 0.8858 - val_loss: 0.4296 - val_accuracy: 0.8422\n",
      "Epoch 36/70\n",
      "645/645 [==============================] - ETA: 0s - loss: 0.3092 - accuracy: 0.8868\n",
      "Epoch 36: val_accuracy did not improve from 0.84296\n",
      "645/645 [==============================] - 28s 43ms/step - loss: 0.3092 - accuracy: 0.8868 - val_loss: 0.4294 - val_accuracy: 0.8415\n",
      "Epoch 37/70\n",
      "644/645 [============================>.] - ETA: 0s - loss: 0.3060 - accuracy: 0.8879\n",
      "Epoch 37: val_accuracy did not improve from 0.84296\n",
      "645/645 [==============================] - 28s 43ms/step - loss: 0.3060 - accuracy: 0.8879 - val_loss: 0.4350 - val_accuracy: 0.8406\n",
      "Epoch 38/70\n",
      "645/645 [==============================] - ETA: 0s - loss: 0.3056 - accuracy: 0.8874\n",
      "Epoch 38: val_accuracy did not improve from 0.84296\n",
      "645/645 [==============================] - 29s 45ms/step - loss: 0.3056 - accuracy: 0.8874 - val_loss: 0.4322 - val_accuracy: 0.8405\n",
      "Epoch 39/70\n",
      "645/645 [==============================] - ETA: 0s - loss: 0.3051 - accuracy: 0.8874\n",
      "Epoch 39: val_accuracy improved from 0.84296 to 0.84398, saving model to best_model2.hdf5\n",
      "645/645 [==============================] - 29s 45ms/step - loss: 0.3051 - accuracy: 0.8874 - val_loss: 0.4352 - val_accuracy: 0.8440\n",
      "Epoch 40/70\n",
      "645/645 [==============================] - ETA: 0s - loss: 0.3014 - accuracy: 0.8895\n",
      "Epoch 40: val_accuracy did not improve from 0.84398\n",
      "645/645 [==============================] - 29s 45ms/step - loss: 0.3014 - accuracy: 0.8895 - val_loss: 0.4302 - val_accuracy: 0.8419\n",
      "Epoch 41/70\n",
      "644/645 [============================>.] - ETA: 0s - loss: 0.3019 - accuracy: 0.8898\n",
      "Epoch 41: val_accuracy did not improve from 0.84398\n",
      "645/645 [==============================] - 29s 45ms/step - loss: 0.3019 - accuracy: 0.8898 - val_loss: 0.4395 - val_accuracy: 0.8418\n",
      "Epoch 42/70\n",
      "644/645 [============================>.] - ETA: 0s - loss: 0.2968 - accuracy: 0.8910\n",
      "Epoch 42: val_accuracy did not improve from 0.84398\n",
      "645/645 [==============================] - 28s 44ms/step - loss: 0.2968 - accuracy: 0.8910 - val_loss: 0.4380 - val_accuracy: 0.8421\n",
      "Epoch 43/70\n",
      "645/645 [==============================] - ETA: 0s - loss: 0.2968 - accuracy: 0.8934\n",
      "Epoch 43: val_accuracy did not improve from 0.84398\n",
      "645/645 [==============================] - 28s 43ms/step - loss: 0.2968 - accuracy: 0.8934 - val_loss: 0.4450 - val_accuracy: 0.8425\n",
      "Epoch 44/70\n",
      "644/645 [============================>.] - ETA: 0s - loss: 0.2922 - accuracy: 0.8934\n",
      "Epoch 44: val_accuracy did not improve from 0.84398\n",
      "645/645 [==============================] - 28s 44ms/step - loss: 0.2922 - accuracy: 0.8934 - val_loss: 0.4409 - val_accuracy: 0.8435\n",
      "Epoch 45/70\n",
      "644/645 [============================>.] - ETA: 0s - loss: 0.2955 - accuracy: 0.8933\n",
      "Epoch 45: val_accuracy did not improve from 0.84398\n",
      "645/645 [==============================] - 28s 44ms/step - loss: 0.2955 - accuracy: 0.8934 - val_loss: 0.4472 - val_accuracy: 0.8377\n",
      "Epoch 46/70\n",
      "644/645 [============================>.] - ETA: 0s - loss: 0.2959 - accuracy: 0.8936\n",
      "Epoch 46: val_accuracy did not improve from 0.84398\n",
      "645/645 [==============================] - 28s 43ms/step - loss: 0.2959 - accuracy: 0.8936 - val_loss: 0.4418 - val_accuracy: 0.8399\n",
      "Epoch 47/70\n",
      "644/645 [============================>.] - ETA: 0s - loss: 0.2912 - accuracy: 0.8947\n",
      "Epoch 47: val_accuracy did not improve from 0.84398\n",
      "645/645 [==============================] - 28s 44ms/step - loss: 0.2912 - accuracy: 0.8947 - val_loss: 0.4448 - val_accuracy: 0.8412\n",
      "Epoch 48/70\n",
      "644/645 [============================>.] - ETA: 0s - loss: 0.2891 - accuracy: 0.8968\n",
      "Epoch 48: val_accuracy did not improve from 0.84398\n",
      "645/645 [==============================] - 29s 45ms/step - loss: 0.2891 - accuracy: 0.8968 - val_loss: 0.4390 - val_accuracy: 0.8431\n",
      "Epoch 49/70\n",
      "644/645 [============================>.] - ETA: 0s - loss: 0.2878 - accuracy: 0.8962\n",
      "Epoch 49: val_accuracy did not improve from 0.84398\n",
      "645/645 [==============================] - 28s 44ms/step - loss: 0.2878 - accuracy: 0.8962 - val_loss: 0.4431 - val_accuracy: 0.8431\n",
      "Epoch 50/70\n",
      "645/645 [==============================] - ETA: 0s - loss: 0.2889 - accuracy: 0.8937\n",
      "Epoch 50: val_accuracy did not improve from 0.84398\n",
      "645/645 [==============================] - 28s 43ms/step - loss: 0.2889 - accuracy: 0.8937 - val_loss: 0.4395 - val_accuracy: 0.8387\n",
      "Epoch 51/70\n",
      "645/645 [==============================] - ETA: 0s - loss: 0.2836 - accuracy: 0.8971\n",
      "Epoch 51: val_accuracy did not improve from 0.84398\n",
      "645/645 [==============================] - 28s 43ms/step - loss: 0.2836 - accuracy: 0.8971 - val_loss: 0.4404 - val_accuracy: 0.8419\n",
      "Epoch 52/70\n",
      "644/645 [============================>.] - ETA: 0s - loss: 0.2852 - accuracy: 0.8993\n",
      "Epoch 52: val_accuracy did not improve from 0.84398\n",
      "645/645 [==============================] - 28s 44ms/step - loss: 0.2852 - accuracy: 0.8993 - val_loss: 0.4400 - val_accuracy: 0.8424\n",
      "Epoch 53/70\n",
      "644/645 [============================>.] - ETA: 0s - loss: 0.2823 - accuracy: 0.8998\n",
      "Epoch 53: val_accuracy did not improve from 0.84398\n",
      "645/645 [==============================] - 29s 45ms/step - loss: 0.2823 - accuracy: 0.8998 - val_loss: 0.4408 - val_accuracy: 0.8433\n",
      "Epoch 54/70\n",
      "645/645 [==============================] - ETA: 0s - loss: 0.2832 - accuracy: 0.8991\n",
      "Epoch 54: val_accuracy did not improve from 0.84398\n",
      "645/645 [==============================] - 29s 45ms/step - loss: 0.2832 - accuracy: 0.8991 - val_loss: 0.4420 - val_accuracy: 0.8417\n",
      "Epoch 55/70\n",
      "645/645 [==============================] - ETA: 0s - loss: 0.2838 - accuracy: 0.8972\n",
      "Epoch 55: val_accuracy did not improve from 0.84398\n",
      "645/645 [==============================] - 29s 46ms/step - loss: 0.2838 - accuracy: 0.8972 - val_loss: 0.4444 - val_accuracy: 0.8430\n",
      "Epoch 56/70\n",
      "645/645 [==============================] - ETA: 0s - loss: 0.2825 - accuracy: 0.8982\n",
      "Epoch 56: val_accuracy did not improve from 0.84398\n",
      "645/645 [==============================] - 29s 45ms/step - loss: 0.2825 - accuracy: 0.8982 - val_loss: 0.4468 - val_accuracy: 0.8431\n",
      "Epoch 57/70\n",
      "644/645 [============================>.] - ETA: 0s - loss: 0.2806 - accuracy: 0.9000\n",
      "Epoch 57: val_accuracy did not improve from 0.84398\n",
      "645/645 [==============================] - 29s 45ms/step - loss: 0.2806 - accuracy: 0.9000 - val_loss: 0.4391 - val_accuracy: 0.8424\n",
      "Epoch 58/70\n",
      "645/645 [==============================] - ETA: 0s - loss: 0.2770 - accuracy: 0.9016\n",
      "Epoch 58: val_accuracy did not improve from 0.84398\n",
      "645/645 [==============================] - 29s 45ms/step - loss: 0.2770 - accuracy: 0.9016 - val_loss: 0.4455 - val_accuracy: 0.8380\n",
      "Epoch 59/70\n",
      "644/645 [============================>.] - ETA: 0s - loss: 0.2737 - accuracy: 0.9001\n",
      "Epoch 59: val_accuracy did not improve from 0.84398\n",
      "645/645 [==============================] - 29s 45ms/step - loss: 0.2737 - accuracy: 0.9001 - val_loss: 0.4479 - val_accuracy: 0.8412\n",
      "Epoch 60/70\n",
      "644/645 [============================>.] - ETA: 0s - loss: 0.2772 - accuracy: 0.8993\n",
      "Epoch 60: val_accuracy improved from 0.84398 to 0.84471, saving model to best_model2.hdf5\n",
      "645/645 [==============================] - 29s 45ms/step - loss: 0.2771 - accuracy: 0.8993 - val_loss: 0.4502 - val_accuracy: 0.8447\n",
      "Epoch 61/70\n",
      "644/645 [============================>.] - ETA: 0s - loss: 0.2735 - accuracy: 0.9015\n",
      "Epoch 61: val_accuracy did not improve from 0.84471\n",
      "645/645 [==============================] - 29s 45ms/step - loss: 0.2735 - accuracy: 0.9016 - val_loss: 0.4500 - val_accuracy: 0.8392\n",
      "Epoch 62/70\n",
      "645/645 [==============================] - ETA: 0s - loss: 0.2747 - accuracy: 0.9025\n",
      "Epoch 62: val_accuracy did not improve from 0.84471\n",
      "645/645 [==============================] - 29s 45ms/step - loss: 0.2747 - accuracy: 0.9025 - val_loss: 0.4449 - val_accuracy: 0.8434\n",
      "Epoch 63/70\n",
      "644/645 [============================>.] - ETA: 0s - loss: 0.2712 - accuracy: 0.9027\n",
      "Epoch 63: val_accuracy did not improve from 0.84471\n",
      "645/645 [==============================] - 29s 45ms/step - loss: 0.2712 - accuracy: 0.9027 - val_loss: 0.4481 - val_accuracy: 0.8418\n",
      "Epoch 64/70\n",
      "644/645 [============================>.] - ETA: 0s - loss: 0.2726 - accuracy: 0.9020\n",
      "Epoch 64: val_accuracy improved from 0.84471 to 0.84602, saving model to best_model2.hdf5\n",
      "645/645 [==============================] - 29s 45ms/step - loss: 0.2726 - accuracy: 0.9020 - val_loss: 0.4510 - val_accuracy: 0.8460\n",
      "Epoch 65/70\n",
      "645/645 [==============================] - ETA: 0s - loss: 0.2712 - accuracy: 0.9039\n",
      "Epoch 65: val_accuracy did not improve from 0.84602\n",
      "645/645 [==============================] - 29s 45ms/step - loss: 0.2712 - accuracy: 0.9039 - val_loss: 0.4464 - val_accuracy: 0.8412\n",
      "Epoch 66/70\n",
      "645/645 [==============================] - ETA: 0s - loss: 0.2714 - accuracy: 0.9026\n",
      "Epoch 66: val_accuracy did not improve from 0.84602\n",
      "645/645 [==============================] - 29s 45ms/step - loss: 0.2714 - accuracy: 0.9026 - val_loss: 0.4493 - val_accuracy: 0.8386\n",
      "Epoch 67/70\n",
      "645/645 [==============================] - ETA: 0s - loss: 0.2677 - accuracy: 0.9033\n",
      "Epoch 67: val_accuracy did not improve from 0.84602\n",
      "645/645 [==============================] - 29s 45ms/step - loss: 0.2677 - accuracy: 0.9033 - val_loss: 0.4520 - val_accuracy: 0.8421\n",
      "Epoch 68/70\n",
      "644/645 [============================>.] - ETA: 0s - loss: 0.2679 - accuracy: 0.9054\n",
      "Epoch 68: val_accuracy did not improve from 0.84602\n",
      "645/645 [==============================] - 29s 45ms/step - loss: 0.2679 - accuracy: 0.9054 - val_loss: 0.4521 - val_accuracy: 0.8424\n",
      "Epoch 69/70\n",
      "644/645 [============================>.] - ETA: 0s - loss: 0.2681 - accuracy: 0.9041\n",
      "Epoch 69: val_accuracy did not improve from 0.84602\n",
      "645/645 [==============================] - 29s 45ms/step - loss: 0.2680 - accuracy: 0.9041 - val_loss: 0.4502 - val_accuracy: 0.8398\n",
      "Epoch 70/70\n",
      "644/645 [============================>.] - ETA: 0s - loss: 0.2647 - accuracy: 0.9060\n",
      "Epoch 70: val_accuracy did not improve from 0.84602\n",
      "645/645 [==============================] - 29s 45ms/step - loss: 0.2647 - accuracy: 0.9060 - val_loss: 0.4608 - val_accuracy: 0.8392\n"
     ]
    }
   ],
   "source": [
    "model2 = Sequential()\n",
    "model2.add(layers.Embedding(max_words, 40, input_length=max_len))\n",
    "model2.add(layers.Bidirectional(layers.LSTM(20, dropout=0.6)))\n",
    "model2.add(layers.Dense(3, activation='softmax'))\n",
    "model2.compile(optimizer='rmsprop', loss='categorical_crossentropy', metrics=['accuracy'])\n",
    "checkpoint2 = ModelCheckpoint(\"best_model2.hdf5\", monitor='val_accuracy', verbose=1, save_best_only=True, mode='auto', period=1, save_weights_only=False)\n",
    "history2 = model2.fit(X_train, y_train, epochs=70, validation_data=(X_test, y_test), callbacks=[checkpoint2])"
   ]
  },
  {
   "cell_type": "code",
   "execution_count": 28,
   "id": "dde8cb13-3a3d-4dad-b3c5-70be48e717fa",
   "metadata": {
    "tags": []
   },
   "outputs": [
    {
     "name": "stdout",
     "output_type": "stream",
     "text": [
      "WARNING:tensorflow:`period` argument is deprecated. Please use `save_freq` to specify the frequency in number of batches seen.\n",
      "Epoch 1/70\n",
      "632/645 [============================>.] - ETA: 0s - loss: 1.0423 - acc: 0.5398WARNING:tensorflow:Can save best model only with val_accuracy available, skipping.\n",
      "645/645 [==============================] - 4s 5ms/step - loss: 1.0399 - acc: 0.5407 - val_loss: 0.9086 - val_acc: 0.5966\n",
      "Epoch 2/70\n",
      "636/645 [============================>.] - ETA: 0s - loss: 0.8890 - acc: 0.5973WARNING:tensorflow:Can save best model only with val_accuracy available, skipping.\n",
      "645/645 [==============================] - 3s 4ms/step - loss: 0.8885 - acc: 0.5979 - val_loss: 0.8731 - val_acc: 0.6105\n",
      "Epoch 3/70\n",
      "635/645 [============================>.] - ETA: 0s - loss: 0.8556 - acc: 0.6187WARNING:tensorflow:Can save best model only with val_accuracy available, skipping.\n",
      "645/645 [==============================] - 3s 5ms/step - loss: 0.8555 - acc: 0.6188 - val_loss: 0.8420 - val_acc: 0.6254\n",
      "Epoch 4/70\n",
      "639/645 [============================>.] - ETA: 0s - loss: 0.8211 - acc: 0.6417WARNING:tensorflow:Can save best model only with val_accuracy available, skipping.\n",
      "645/645 [==============================] - 3s 5ms/step - loss: 0.8208 - acc: 0.6416 - val_loss: 0.8147 - val_acc: 0.6475\n",
      "Epoch 5/70\n",
      "636/645 [============================>.] - ETA: 0s - loss: 0.7822 - acc: 0.7054WARNING:tensorflow:Can save best model only with val_accuracy available, skipping.\n",
      "645/645 [==============================] - 3s 5ms/step - loss: 0.7824 - acc: 0.7051 - val_loss: 0.7916 - val_acc: 0.6913\n",
      "Epoch 6/70\n",
      "641/645 [============================>.] - ETA: 0s - loss: 0.7189 - acc: 0.7559WARNING:tensorflow:Can save best model only with val_accuracy available, skipping.\n",
      "645/645 [==============================] - 3s 5ms/step - loss: 0.7188 - acc: 0.7558 - val_loss: 0.7148 - val_acc: 0.7484\n",
      "Epoch 7/70\n",
      "640/645 [============================>.] - ETA: 0s - loss: 0.6629 - acc: 0.7779WARNING:tensorflow:Can save best model only with val_accuracy available, skipping.\n",
      "645/645 [==============================] - 3s 5ms/step - loss: 0.6632 - acc: 0.7778 - val_loss: 0.7009 - val_acc: 0.7449\n",
      "Epoch 8/70\n",
      "640/645 [============================>.] - ETA: 0s - loss: 0.6270 - acc: 0.7905WARNING:tensorflow:Can save best model only with val_accuracy available, skipping.\n",
      "645/645 [==============================] - 3s 5ms/step - loss: 0.6268 - acc: 0.7908 - val_loss: 0.6874 - val_acc: 0.7615\n",
      "Epoch 9/70\n",
      "636/645 [============================>.] - ETA: 0s - loss: 0.5848 - acc: 0.8054WARNING:tensorflow:Can save best model only with val_accuracy available, skipping.\n",
      "645/645 [==============================] - 3s 4ms/step - loss: 0.5848 - acc: 0.8054 - val_loss: 0.6098 - val_acc: 0.7951\n",
      "Epoch 10/70\n",
      "644/645 [============================>.] - ETA: 0s - loss: 0.5436 - acc: 0.8249WARNING:tensorflow:Can save best model only with val_accuracy available, skipping.\n",
      "645/645 [==============================] - 3s 4ms/step - loss: 0.5437 - acc: 0.8249 - val_loss: 0.6025 - val_acc: 0.7983\n",
      "Epoch 11/70\n",
      "637/645 [============================>.] - ETA: 0s - loss: 0.5184 - acc: 0.8350WARNING:tensorflow:Can save best model only with val_accuracy available, skipping.\n",
      "645/645 [==============================] - 3s 5ms/step - loss: 0.5175 - acc: 0.8356 - val_loss: 0.5702 - val_acc: 0.8070\n",
      "Epoch 12/70\n",
      "643/645 [============================>.] - ETA: 0s - loss: 0.4991 - acc: 0.8432WARNING:tensorflow:Can save best model only with val_accuracy available, skipping.\n",
      "645/645 [==============================] - 3s 5ms/step - loss: 0.4997 - acc: 0.8430 - val_loss: 0.5480 - val_acc: 0.8156\n",
      "Epoch 13/70\n",
      "641/645 [============================>.] - ETA: 0s - loss: 0.4852 - acc: 0.8491WARNING:tensorflow:Can save best model only with val_accuracy available, skipping.\n",
      "645/645 [==============================] - 3s 4ms/step - loss: 0.4854 - acc: 0.8489 - val_loss: 0.5479 - val_acc: 0.8134\n",
      "Epoch 14/70\n",
      "636/645 [============================>.] - ETA: 0s - loss: 0.4733 - acc: 0.8545WARNING:tensorflow:Can save best model only with val_accuracy available, skipping.\n",
      "645/645 [==============================] - 3s 5ms/step - loss: 0.4738 - acc: 0.8542 - val_loss: 0.5358 - val_acc: 0.8197\n",
      "Epoch 15/70\n",
      "635/645 [============================>.] - ETA: 0s - loss: 0.4635 - acc: 0.8582WARNING:tensorflow:Can save best model only with val_accuracy available, skipping.\n",
      "645/645 [==============================] - 3s 4ms/step - loss: 0.4640 - acc: 0.8579 - val_loss: 0.5320 - val_acc: 0.8219\n",
      "Epoch 16/70\n",
      "638/645 [============================>.] - ETA: 0s - loss: 0.4552 - acc: 0.8604WARNING:tensorflow:Can save best model only with val_accuracy available, skipping.\n",
      "645/645 [==============================] - 3s 4ms/step - loss: 0.4552 - acc: 0.8605 - val_loss: 0.5436 - val_acc: 0.8127\n",
      "Epoch 17/70\n",
      "633/645 [============================>.] - ETA: 0s - loss: 0.4466 - acc: 0.8627WARNING:tensorflow:Can save best model only with val_accuracy available, skipping.\n",
      "645/645 [==============================] - 3s 5ms/step - loss: 0.4480 - acc: 0.8622 - val_loss: 0.5240 - val_acc: 0.8235\n",
      "Epoch 18/70\n",
      "642/645 [============================>.] - ETA: 0s - loss: 0.4412 - acc: 0.8653WARNING:tensorflow:Can save best model only with val_accuracy available, skipping.\n",
      "645/645 [==============================] - 3s 5ms/step - loss: 0.4413 - acc: 0.8653 - val_loss: 0.5236 - val_acc: 0.8268\n",
      "Epoch 19/70\n",
      "632/645 [============================>.] - ETA: 0s - loss: 0.4359 - acc: 0.8685WARNING:tensorflow:Can save best model only with val_accuracy available, skipping.\n",
      "645/645 [==============================] - 3s 5ms/step - loss: 0.4348 - acc: 0.8690 - val_loss: 0.5472 - val_acc: 0.8256\n",
      "Epoch 20/70\n",
      "638/645 [============================>.] - ETA: 0s - loss: 0.4302 - acc: 0.8689WARNING:tensorflow:Can save best model only with val_accuracy available, skipping.\n",
      "645/645 [==============================] - 3s 4ms/step - loss: 0.4306 - acc: 0.8688 - val_loss: 0.5437 - val_acc: 0.8125\n",
      "Epoch 21/70\n",
      "634/645 [============================>.] - ETA: 0s - loss: 0.4243 - acc: 0.8713WARNING:tensorflow:Can save best model only with val_accuracy available, skipping.\n",
      "645/645 [==============================] - 3s 4ms/step - loss: 0.4250 - acc: 0.8707 - val_loss: 0.5126 - val_acc: 0.8281\n",
      "Epoch 22/70\n",
      "637/645 [============================>.] - ETA: 0s - loss: 0.4213 - acc: 0.8726WARNING:tensorflow:Can save best model only with val_accuracy available, skipping.\n",
      "645/645 [==============================] - 3s 4ms/step - loss: 0.4210 - acc: 0.8729 - val_loss: 0.5408 - val_acc: 0.8168\n",
      "Epoch 23/70\n",
      "643/645 [============================>.] - ETA: 0s - loss: 0.4175 - acc: 0.8743WARNING:tensorflow:Can save best model only with val_accuracy available, skipping.\n",
      "645/645 [==============================] - 3s 4ms/step - loss: 0.4178 - acc: 0.8742 - val_loss: 0.5128 - val_acc: 0.8309\n",
      "Epoch 24/70\n",
      "637/645 [============================>.] - ETA: 0s - loss: 0.4123 - acc: 0.8754WARNING:tensorflow:Can save best model only with val_accuracy available, skipping.\n",
      "645/645 [==============================] - 3s 4ms/step - loss: 0.4129 - acc: 0.8752 - val_loss: 0.5142 - val_acc: 0.8302\n",
      "Epoch 25/70\n",
      "643/645 [============================>.] - ETA: 0s - loss: 0.4099 - acc: 0.8786WARNING:tensorflow:Can save best model only with val_accuracy available, skipping.\n",
      "645/645 [==============================] - 3s 4ms/step - loss: 0.4099 - acc: 0.8787 - val_loss: 0.5081 - val_acc: 0.8339\n",
      "Epoch 26/70\n",
      "644/645 [============================>.] - ETA: 0s - loss: 0.4068 - acc: 0.8784WARNING:tensorflow:Can save best model only with val_accuracy available, skipping.\n",
      "645/645 [==============================] - 3s 4ms/step - loss: 0.4067 - acc: 0.8785 - val_loss: 0.5144 - val_acc: 0.8329\n",
      "Epoch 27/70\n",
      "645/645 [==============================] - ETA: 0s - loss: 0.4030 - acc: 0.8800WARNING:tensorflow:Can save best model only with val_accuracy available, skipping.\n",
      "645/645 [==============================] - 3s 4ms/step - loss: 0.4030 - acc: 0.8800 - val_loss: 0.5095 - val_acc: 0.8361\n",
      "Epoch 28/70\n",
      "636/645 [============================>.] - ETA: 0s - loss: 0.3992 - acc: 0.8807WARNING:tensorflow:Can save best model only with val_accuracy available, skipping.\n",
      "645/645 [==============================] - 3s 5ms/step - loss: 0.3996 - acc: 0.8804 - val_loss: 0.5201 - val_acc: 0.8302\n",
      "Epoch 29/70\n",
      "633/645 [============================>.] - ETA: 0s - loss: 0.3969 - acc: 0.8803WARNING:tensorflow:Can save best model only with val_accuracy available, skipping.\n",
      "645/645 [==============================] - 3s 4ms/step - loss: 0.3967 - acc: 0.8803 - val_loss: 0.5080 - val_acc: 0.8328\n",
      "Epoch 30/70\n",
      "638/645 [============================>.] - ETA: 0s - loss: 0.3935 - acc: 0.8839WARNING:tensorflow:Can save best model only with val_accuracy available, skipping.\n",
      "645/645 [==============================] - 3s 4ms/step - loss: 0.3937 - acc: 0.8839 - val_loss: 0.5217 - val_acc: 0.8227\n",
      "Epoch 31/70\n",
      "642/645 [============================>.] - ETA: 0s - loss: 0.3907 - acc: 0.8849WARNING:tensorflow:Can save best model only with val_accuracy available, skipping.\n",
      "645/645 [==============================] - 3s 4ms/step - loss: 0.3908 - acc: 0.8849 - val_loss: 0.5053 - val_acc: 0.8335\n",
      "Epoch 32/70\n",
      "642/645 [============================>.] - ETA: 0s - loss: 0.3876 - acc: 0.8851WARNING:tensorflow:Can save best model only with val_accuracy available, skipping.\n",
      "645/645 [==============================] - 3s 4ms/step - loss: 0.3878 - acc: 0.8850 - val_loss: 0.5135 - val_acc: 0.8334\n",
      "Epoch 33/70\n",
      "637/645 [============================>.] - ETA: 0s - loss: 0.3839 - acc: 0.8863WARNING:tensorflow:Can save best model only with val_accuracy available, skipping.\n",
      "645/645 [==============================] - 3s 4ms/step - loss: 0.3843 - acc: 0.8863 - val_loss: 0.5028 - val_acc: 0.8347\n",
      "Epoch 34/70\n",
      "642/645 [============================>.] - ETA: 0s - loss: 0.3827 - acc: 0.8874WARNING:tensorflow:Can save best model only with val_accuracy available, skipping.\n",
      "645/645 [==============================] - 3s 4ms/step - loss: 0.3822 - acc: 0.8874 - val_loss: 0.5131 - val_acc: 0.8335\n",
      "Epoch 35/70\n",
      "642/645 [============================>.] - ETA: 0s - loss: 0.3808 - acc: 0.8869WARNING:tensorflow:Can save best model only with val_accuracy available, skipping.\n",
      "645/645 [==============================] - 3s 4ms/step - loss: 0.3804 - acc: 0.8871 - val_loss: 0.5115 - val_acc: 0.8293\n",
      "Epoch 36/70\n",
      "635/645 [============================>.] - ETA: 0s - loss: 0.3768 - acc: 0.8887WARNING:tensorflow:Can save best model only with val_accuracy available, skipping.\n",
      "645/645 [==============================] - 3s 4ms/step - loss: 0.3774 - acc: 0.8885 - val_loss: 0.5318 - val_acc: 0.8227\n",
      "Epoch 37/70\n",
      "635/645 [============================>.] - ETA: 0s - loss: 0.3734 - acc: 0.8906WARNING:tensorflow:Can save best model only with val_accuracy available, skipping.\n",
      "645/645 [==============================] - 3s 5ms/step - loss: 0.3743 - acc: 0.8902 - val_loss: 0.5110 - val_acc: 0.8334\n",
      "Epoch 38/70\n",
      "635/645 [============================>.] - ETA: 0s - loss: 0.3720 - acc: 0.8905WARNING:tensorflow:Can save best model only with val_accuracy available, skipping.\n",
      "645/645 [==============================] - 3s 4ms/step - loss: 0.3718 - acc: 0.8905 - val_loss: 0.5139 - val_acc: 0.8344\n",
      "Epoch 39/70\n",
      "632/645 [============================>.] - ETA: 0s - loss: 0.3704 - acc: 0.8905WARNING:tensorflow:Can save best model only with val_accuracy available, skipping.\n",
      "645/645 [==============================] - 3s 4ms/step - loss: 0.3697 - acc: 0.8910 - val_loss: 0.5138 - val_acc: 0.8312\n",
      "Epoch 40/70\n",
      "641/645 [============================>.] - ETA: 0s - loss: 0.3665 - acc: 0.8933WARNING:tensorflow:Can save best model only with val_accuracy available, skipping.\n",
      "645/645 [==============================] - 3s 4ms/step - loss: 0.3666 - acc: 0.8934 - val_loss: 0.5415 - val_acc: 0.8137\n",
      "Epoch 41/70\n",
      "639/645 [============================>.] - ETA: 0s - loss: 0.3644 - acc: 0.8961WARNING:tensorflow:Can save best model only with val_accuracy available, skipping.\n",
      "645/645 [==============================] - 3s 4ms/step - loss: 0.3645 - acc: 0.8962 - val_loss: 0.5201 - val_acc: 0.8344\n",
      "Epoch 42/70\n",
      "632/645 [============================>.] - ETA: 0s - loss: 0.3636 - acc: 0.8954WARNING:tensorflow:Can save best model only with val_accuracy available, skipping.\n",
      "645/645 [==============================] - 3s 4ms/step - loss: 0.3627 - acc: 0.8955 - val_loss: 0.5141 - val_acc: 0.8287\n",
      "Epoch 43/70\n",
      "643/645 [============================>.] - ETA: 0s - loss: 0.3592 - acc: 0.8976WARNING:tensorflow:Can save best model only with val_accuracy available, skipping.\n",
      "645/645 [==============================] - 3s 4ms/step - loss: 0.3596 - acc: 0.8975 - val_loss: 0.5266 - val_acc: 0.8316\n",
      "Epoch 44/70\n",
      "644/645 [============================>.] - ETA: 0s - loss: 0.3580 - acc: 0.8970WARNING:tensorflow:Can save best model only with val_accuracy available, skipping.\n",
      "645/645 [==============================] - 3s 4ms/step - loss: 0.3579 - acc: 0.8970 - val_loss: 0.5175 - val_acc: 0.8334\n",
      "Epoch 45/70\n",
      "643/645 [============================>.] - ETA: 0s - loss: 0.3557 - acc: 0.8984WARNING:tensorflow:Can save best model only with val_accuracy available, skipping.\n",
      "645/645 [==============================] - 3s 4ms/step - loss: 0.3560 - acc: 0.8984 - val_loss: 0.5256 - val_acc: 0.8334\n",
      "Epoch 46/70\n",
      "633/645 [============================>.] - ETA: 0s - loss: 0.3533 - acc: 0.8990WARNING:tensorflow:Can save best model only with val_accuracy available, skipping.\n",
      "645/645 [==============================] - 3s 4ms/step - loss: 0.3533 - acc: 0.8991 - val_loss: 0.5353 - val_acc: 0.8235\n",
      "Epoch 47/70\n",
      "641/645 [============================>.] - ETA: 0s - loss: 0.3514 - acc: 0.9004WARNING:tensorflow:Can save best model only with val_accuracy available, skipping.\n",
      "645/645 [==============================] - 3s 4ms/step - loss: 0.3508 - acc: 0.9007 - val_loss: 0.5288 - val_acc: 0.8303\n",
      "Epoch 48/70\n",
      "642/645 [============================>.] - ETA: 0s - loss: 0.3497 - acc: 0.9011WARNING:tensorflow:Can save best model only with val_accuracy available, skipping.\n",
      "645/645 [==============================] - 3s 5ms/step - loss: 0.3492 - acc: 0.9013 - val_loss: 0.5193 - val_acc: 0.8335\n",
      "Epoch 49/70\n",
      "640/645 [============================>.] - ETA: 0s - loss: 0.3468 - acc: 0.9021WARNING:tensorflow:Can save best model only with val_accuracy available, skipping.\n",
      "645/645 [==============================] - 3s 4ms/step - loss: 0.3472 - acc: 0.9017 - val_loss: 0.5266 - val_acc: 0.8275\n",
      "Epoch 50/70\n",
      "633/645 [============================>.] - ETA: 0s - loss: 0.3444 - acc: 0.9040WARNING:tensorflow:Can save best model only with val_accuracy available, skipping.\n",
      "645/645 [==============================] - 3s 4ms/step - loss: 0.3440 - acc: 0.9040 - val_loss: 0.5550 - val_acc: 0.8277\n",
      "Epoch 51/70\n",
      "641/645 [============================>.] - ETA: 0s - loss: 0.3438 - acc: 0.9028WARNING:tensorflow:Can save best model only with val_accuracy available, skipping.\n",
      "645/645 [==============================] - 3s 4ms/step - loss: 0.3434 - acc: 0.9029 - val_loss: 0.5777 - val_acc: 0.8281\n",
      "Epoch 52/70\n",
      "639/645 [============================>.] - ETA: 0s - loss: 0.3395 - acc: 0.9047WARNING:tensorflow:Can save best model only with val_accuracy available, skipping.\n",
      "645/645 [==============================] - 3s 4ms/step - loss: 0.3395 - acc: 0.9049 - val_loss: 0.5305 - val_acc: 0.8265\n",
      "Epoch 53/70\n",
      "637/645 [============================>.] - ETA: 0s - loss: 0.3379 - acc: 0.9046WARNING:tensorflow:Can save best model only with val_accuracy available, skipping.\n",
      "645/645 [==============================] - 3s 5ms/step - loss: 0.3380 - acc: 0.9047 - val_loss: 0.5933 - val_acc: 0.7960\n",
      "Epoch 54/70\n",
      "637/645 [============================>.] - ETA: 0s - loss: 0.3363 - acc: 0.9061WARNING:tensorflow:Can save best model only with val_accuracy available, skipping.\n",
      "645/645 [==============================] - 3s 4ms/step - loss: 0.3364 - acc: 0.9062 - val_loss: 0.5405 - val_acc: 0.8283\n",
      "Epoch 55/70\n",
      "640/645 [============================>.] - ETA: 0s - loss: 0.3341 - acc: 0.9073WARNING:tensorflow:Can save best model only with val_accuracy available, skipping.\n",
      "645/645 [==============================] - 3s 4ms/step - loss: 0.3347 - acc: 0.9071 - val_loss: 0.5380 - val_acc: 0.8291\n",
      "Epoch 56/70\n",
      "635/645 [============================>.] - ETA: 0s - loss: 0.3326 - acc: 0.9098WARNING:tensorflow:Can save best model only with val_accuracy available, skipping.\n",
      "645/645 [==============================] - 3s 5ms/step - loss: 0.3326 - acc: 0.9100 - val_loss: 0.5359 - val_acc: 0.8286\n",
      "Epoch 57/70\n",
      "635/645 [============================>.] - ETA: 0s - loss: 0.3302 - acc: 0.9111WARNING:tensorflow:Can save best model only with val_accuracy available, skipping.\n",
      "645/645 [==============================] - 3s 4ms/step - loss: 0.3304 - acc: 0.9107 - val_loss: 0.5462 - val_acc: 0.8252\n",
      "Epoch 58/70\n",
      "636/645 [============================>.] - ETA: 0s - loss: 0.3298 - acc: 0.9091WARNING:tensorflow:Can save best model only with val_accuracy available, skipping.\n",
      "645/645 [==============================] - 3s 4ms/step - loss: 0.3291 - acc: 0.9094 - val_loss: 0.5436 - val_acc: 0.8267\n",
      "Epoch 59/70\n",
      "643/645 [============================>.] - ETA: 0s - loss: 0.3269 - acc: 0.9095WARNING:tensorflow:Can save best model only with val_accuracy available, skipping.\n",
      "645/645 [==============================] - 3s 4ms/step - loss: 0.3272 - acc: 0.9093 - val_loss: 0.5495 - val_acc: 0.8203\n",
      "Epoch 60/70\n",
      "644/645 [============================>.] - ETA: 0s - loss: 0.3261 - acc: 0.9117WARNING:tensorflow:Can save best model only with val_accuracy available, skipping.\n",
      "645/645 [==============================] - 3s 5ms/step - loss: 0.3260 - acc: 0.9117 - val_loss: 0.5798 - val_acc: 0.8290\n",
      "Epoch 61/70\n",
      "642/645 [============================>.] - ETA: 0s - loss: 0.3244 - acc: 0.9113WARNING:tensorflow:Can save best model only with val_accuracy available, skipping.\n",
      "645/645 [==============================] - 3s 4ms/step - loss: 0.3246 - acc: 0.9113 - val_loss: 0.5860 - val_acc: 0.8281\n",
      "Epoch 62/70\n",
      "643/645 [============================>.] - ETA: 0s - loss: 0.3232 - acc: 0.9146WARNING:tensorflow:Can save best model only with val_accuracy available, skipping.\n",
      "645/645 [==============================] - 3s 4ms/step - loss: 0.3231 - acc: 0.9147 - val_loss: 0.5511 - val_acc: 0.8291\n",
      "Epoch 63/70\n",
      "639/645 [============================>.] - ETA: 0s - loss: 0.3212 - acc: 0.9127WARNING:tensorflow:Can save best model only with val_accuracy available, skipping.\n",
      "645/645 [==============================] - 3s 4ms/step - loss: 0.3213 - acc: 0.9127 - val_loss: 0.5633 - val_acc: 0.8192\n",
      "Epoch 64/70\n",
      "643/645 [============================>.] - ETA: 0s - loss: 0.3193 - acc: 0.9150WARNING:tensorflow:Can save best model only with val_accuracy available, skipping.\n",
      "645/645 [==============================] - 3s 4ms/step - loss: 0.3192 - acc: 0.9151 - val_loss: 0.5615 - val_acc: 0.8206\n",
      "Epoch 65/70\n",
      "633/645 [============================>.] - ETA: 0s - loss: 0.3176 - acc: 0.9155WARNING:tensorflow:Can save best model only with val_accuracy available, skipping.\n",
      "645/645 [==============================] - 3s 4ms/step - loss: 0.3176 - acc: 0.9153 - val_loss: 0.5590 - val_acc: 0.8270\n",
      "Epoch 66/70\n",
      "636/645 [============================>.] - ETA: 0s - loss: 0.3168 - acc: 0.9157WARNING:tensorflow:Can save best model only with val_accuracy available, skipping.\n",
      "645/645 [==============================] - 3s 4ms/step - loss: 0.3165 - acc: 0.9159 - val_loss: 0.5708 - val_acc: 0.8157\n",
      "Epoch 67/70\n",
      "643/645 [============================>.] - ETA: 0s - loss: 0.3150 - acc: 0.9171WARNING:tensorflow:Can save best model only with val_accuracy available, skipping.\n",
      "645/645 [==============================] - 3s 4ms/step - loss: 0.3149 - acc: 0.9171 - val_loss: 0.5907 - val_acc: 0.8277\n",
      "Epoch 68/70\n",
      "638/645 [============================>.] - ETA: 0s - loss: 0.3122 - acc: 0.9174WARNING:tensorflow:Can save best model only with val_accuracy available, skipping.\n",
      "645/645 [==============================] - 3s 4ms/step - loss: 0.3127 - acc: 0.9175 - val_loss: 0.5788 - val_acc: 0.8091\n",
      "Epoch 69/70\n",
      "636/645 [============================>.] - ETA: 0s - loss: 0.3112 - acc: 0.9189WARNING:tensorflow:Can save best model only with val_accuracy available, skipping.\n",
      "645/645 [==============================] - 3s 4ms/step - loss: 0.3112 - acc: 0.9190 - val_loss: 0.5703 - val_acc: 0.8281\n",
      "Epoch 70/70\n",
      "637/645 [============================>.] - ETA: 0s - loss: 0.3096 - acc: 0.9190WARNING:tensorflow:Can save best model only with val_accuracy available, skipping.\n",
      "645/645 [==============================] - 3s 4ms/step - loss: 0.3096 - acc: 0.9189 - val_loss: 0.5615 - val_acc: 0.8245\n"
     ]
    }
   ],
   "source": [
    "model3 = Sequential()\n",
    "model3.add(layers.Embedding(max_words, 40, input_length=max_len))\n",
    "model3.add(layers.Conv1D(20, 6, activation='relu', kernel_regularizer=regularizers.l1_l2(l1=2e-3, l2=2e-3), bias_regularizer=regularizers.l2(2e-3)))\n",
    "model3.add(layers.MaxPooling1D(5))\n",
    "model3.add(layers.Conv1D(20, 6, activation='relu', kernel_regularizer=regularizers.l1_l2(l1=2e-3, l2=2e-3), bias_regularizer=regularizers.l2(2e-3)))\n",
    "model3.add(layers.GlobalMaxPooling1D())\n",
    "model3.add(layers.Dense(3, activation='softmax'))\n",
    "model3.compile(optimizer='rmsprop', loss='categorical_crossentropy', metrics=['acc'])\n",
    "checkpoint3 = ModelCheckpoint(\"best_model3.hdf5\", monitor='val_accuracy', verbose=1, save_best_only=True, mode='auto', period=1, save_weights_only=False)\n",
    "history3 = model3.fit(X_train, y_train, epochs=70, validation_data=(X_test, y_test), callbacks=[checkpoint3])"
   ]
  },
  {
   "cell_type": "code",
   "execution_count": 29,
   "id": "44793077-22f8-4724-895a-840c814b85d3",
   "metadata": {
    "tags": []
   },
   "outputs": [
    {
     "name": "stderr",
     "output_type": "stream",
     "text": [
      "2023-04-29 20:23:59.034419: I tensorflow/core/common_runtime/executor.cc:1197] [/device:CPU:0] (DEBUG INFO) Executor start aborting (this does not indicate an error and you can ignore this message): INVALID_ARGUMENT: You must feed a value for placeholder tensor 'gradients/split_2_grad/concat/split_2/split_dim' with dtype int32\n",
      "\t [[{{node gradients/split_2_grad/concat/split_2/split_dim}}]]\n",
      "2023-04-29 20:23:59.035402: I tensorflow/core/common_runtime/executor.cc:1197] [/device:CPU:0] (DEBUG INFO) Executor start aborting (this does not indicate an error and you can ignore this message): INVALID_ARGUMENT: You must feed a value for placeholder tensor 'gradients/split_grad/concat/split/split_dim' with dtype int32\n",
      "\t [[{{node gradients/split_grad/concat/split/split_dim}}]]\n",
      "2023-04-29 20:23:59.036312: I tensorflow/core/common_runtime/executor.cc:1197] [/device:CPU:0] (DEBUG INFO) Executor start aborting (this does not indicate an error and you can ignore this message): INVALID_ARGUMENT: You must feed a value for placeholder tensor 'gradients/split_1_grad/concat/split_1/split_dim' with dtype int32\n",
      "\t [[{{node gradients/split_1_grad/concat/split_1/split_dim}}]]\n",
      "2023-04-29 20:23:59.134159: I tensorflow/core/common_runtime/executor.cc:1197] [/device:CPU:0] (DEBUG INFO) Executor start aborting (this does not indicate an error and you can ignore this message): INVALID_ARGUMENT: You must feed a value for placeholder tensor 'gradients/ReverseV2_grad/ReverseV2/ReverseV2/axis' with dtype int32 and shape [1]\n",
      "\t [[{{node gradients/ReverseV2_grad/ReverseV2/ReverseV2/axis}}]]\n",
      "2023-04-29 20:23:59.165409: I tensorflow/core/common_runtime/executor.cc:1197] [/device:CPU:0] (DEBUG INFO) Executor start aborting (this does not indicate an error and you can ignore this message): INVALID_ARGUMENT: You must feed a value for placeholder tensor 'gradients/split_2_grad/concat/split_2/split_dim' with dtype int32\n",
      "\t [[{{node gradients/split_2_grad/concat/split_2/split_dim}}]]\n",
      "2023-04-29 20:23:59.166615: I tensorflow/core/common_runtime/executor.cc:1197] [/device:CPU:0] (DEBUG INFO) Executor start aborting (this does not indicate an error and you can ignore this message): INVALID_ARGUMENT: You must feed a value for placeholder tensor 'gradients/split_grad/concat/split/split_dim' with dtype int32\n",
      "\t [[{{node gradients/split_grad/concat/split/split_dim}}]]\n",
      "2023-04-29 20:23:59.167445: I tensorflow/core/common_runtime/executor.cc:1197] [/device:CPU:0] (DEBUG INFO) Executor start aborting (this does not indicate an error and you can ignore this message): INVALID_ARGUMENT: You must feed a value for placeholder tensor 'gradients/split_1_grad/concat/split_1/split_dim' with dtype int32\n",
      "\t [[{{node gradients/split_1_grad/concat/split_1/split_dim}}]]\n"
     ]
    }
   ],
   "source": [
    "best_model = keras.models.load_model(\"best_model2.hdf5\")"
   ]
  },
  {
   "cell_type": "code",
   "execution_count": 30,
   "id": "8e3de8e3-1f7c-46d3-a66a-885eae3d1c73",
   "metadata": {
    "tags": []
   },
   "outputs": [
    {
     "name": "stderr",
     "output_type": "stream",
     "text": [
      "2023-04-29 20:24:06.376738: I tensorflow/core/common_runtime/executor.cc:1197] [/device:CPU:0] (DEBUG INFO) Executor start aborting (this does not indicate an error and you can ignore this message): INVALID_ARGUMENT: You must feed a value for placeholder tensor 'gradients/split_2_grad/concat/split_2/split_dim' with dtype int32\n",
      "\t [[{{node gradients/split_2_grad/concat/split_2/split_dim}}]]\n",
      "2023-04-29 20:24:06.377954: I tensorflow/core/common_runtime/executor.cc:1197] [/device:CPU:0] (DEBUG INFO) Executor start aborting (this does not indicate an error and you can ignore this message): INVALID_ARGUMENT: You must feed a value for placeholder tensor 'gradients/split_grad/concat/split/split_dim' with dtype int32\n",
      "\t [[{{node gradients/split_grad/concat/split/split_dim}}]]\n",
      "2023-04-29 20:24:06.378881: I tensorflow/core/common_runtime/executor.cc:1197] [/device:CPU:0] (DEBUG INFO) Executor start aborting (this does not indicate an error and you can ignore this message): INVALID_ARGUMENT: You must feed a value for placeholder tensor 'gradients/split_1_grad/concat/split_1/split_dim' with dtype int32\n",
      "\t [[{{node gradients/split_1_grad/concat/split_1/split_dim}}]]\n",
      "2023-04-29 20:24:06.478462: I tensorflow/core/common_runtime/executor.cc:1197] [/device:CPU:0] (DEBUG INFO) Executor start aborting (this does not indicate an error and you can ignore this message): INVALID_ARGUMENT: You must feed a value for placeholder tensor 'gradients/ReverseV2_grad/ReverseV2/ReverseV2/axis' with dtype int32 and shape [1]\n",
      "\t [[{{node gradients/ReverseV2_grad/ReverseV2/ReverseV2/axis}}]]\n",
      "2023-04-29 20:24:06.507425: I tensorflow/core/common_runtime/executor.cc:1197] [/device:CPU:0] (DEBUG INFO) Executor start aborting (this does not indicate an error and you can ignore this message): INVALID_ARGUMENT: You must feed a value for placeholder tensor 'gradients/split_2_grad/concat/split_2/split_dim' with dtype int32\n",
      "\t [[{{node gradients/split_2_grad/concat/split_2/split_dim}}]]\n",
      "2023-04-29 20:24:06.508695: I tensorflow/core/common_runtime/executor.cc:1197] [/device:CPU:0] (DEBUG INFO) Executor start aborting (this does not indicate an error and you can ignore this message): INVALID_ARGUMENT: You must feed a value for placeholder tensor 'gradients/split_grad/concat/split/split_dim' with dtype int32\n",
      "\t [[{{node gradients/split_grad/concat/split/split_dim}}]]\n",
      "2023-04-29 20:24:06.509597: I tensorflow/core/common_runtime/executor.cc:1197] [/device:CPU:0] (DEBUG INFO) Executor start aborting (this does not indicate an error and you can ignore this message): INVALID_ARGUMENT: You must feed a value for placeholder tensor 'gradients/split_1_grad/concat/split_1/split_dim' with dtype int32\n",
      "\t [[{{node gradients/split_1_grad/concat/split_1/split_dim}}]]\n"
     ]
    },
    {
     "name": "stdout",
     "output_type": "stream",
     "text": [
      "215/215 - 2s - loss: 0.4510 - accuracy: 0.8460 - 2s/epoch - 11ms/step\n",
      "Model accuracy:  0.8460195064544678\n"
     ]
    }
   ],
   "source": [
    "test_loss, test_accuracy = best_model.evaluate(X_test, y_test, verbose=2)\n",
    "print('Model accuracy: ', test_accuracy)"
   ]
  },
  {
   "cell_type": "code",
   "execution_count": 31,
   "id": "c207f73f-caa5-4984-9d17-80d0e9a3e189",
   "metadata": {
    "tags": []
   },
   "outputs": [
    {
     "name": "stderr",
     "output_type": "stream",
     "text": [
      "2023-04-29 20:24:24.942659: I tensorflow/core/common_runtime/executor.cc:1197] [/device:CPU:0] (DEBUG INFO) Executor start aborting (this does not indicate an error and you can ignore this message): INVALID_ARGUMENT: You must feed a value for placeholder tensor 'gradients/split_2_grad/concat/split_2/split_dim' with dtype int32\n",
      "\t [[{{node gradients/split_2_grad/concat/split_2/split_dim}}]]\n",
      "2023-04-29 20:24:24.943953: I tensorflow/core/common_runtime/executor.cc:1197] [/device:CPU:0] (DEBUG INFO) Executor start aborting (this does not indicate an error and you can ignore this message): INVALID_ARGUMENT: You must feed a value for placeholder tensor 'gradients/split_grad/concat/split/split_dim' with dtype int32\n",
      "\t [[{{node gradients/split_grad/concat/split/split_dim}}]]\n",
      "2023-04-29 20:24:24.944875: I tensorflow/core/common_runtime/executor.cc:1197] [/device:CPU:0] (DEBUG INFO) Executor start aborting (this does not indicate an error and you can ignore this message): INVALID_ARGUMENT: You must feed a value for placeholder tensor 'gradients/split_1_grad/concat/split_1/split_dim' with dtype int32\n",
      "\t [[{{node gradients/split_1_grad/concat/split_1/split_dim}}]]\n",
      "2023-04-29 20:24:25.045707: I tensorflow/core/common_runtime/executor.cc:1197] [/device:CPU:0] (DEBUG INFO) Executor start aborting (this does not indicate an error and you can ignore this message): INVALID_ARGUMENT: You must feed a value for placeholder tensor 'gradients/ReverseV2_grad/ReverseV2/ReverseV2/axis' with dtype int32 and shape [1]\n",
      "\t [[{{node gradients/ReverseV2_grad/ReverseV2/ReverseV2/axis}}]]\n",
      "2023-04-29 20:24:25.074012: I tensorflow/core/common_runtime/executor.cc:1197] [/device:CPU:0] (DEBUG INFO) Executor start aborting (this does not indicate an error and you can ignore this message): INVALID_ARGUMENT: You must feed a value for placeholder tensor 'gradients/split_2_grad/concat/split_2/split_dim' with dtype int32\n",
      "\t [[{{node gradients/split_2_grad/concat/split_2/split_dim}}]]\n",
      "2023-04-29 20:24:25.075314: I tensorflow/core/common_runtime/executor.cc:1197] [/device:CPU:0] (DEBUG INFO) Executor start aborting (this does not indicate an error and you can ignore this message): INVALID_ARGUMENT: You must feed a value for placeholder tensor 'gradients/split_grad/concat/split/split_dim' with dtype int32\n",
      "\t [[{{node gradients/split_grad/concat/split/split_dim}}]]\n",
      "2023-04-29 20:24:25.076000: I tensorflow/core/common_runtime/executor.cc:1197] [/device:CPU:0] (DEBUG INFO) Executor start aborting (this does not indicate an error and you can ignore this message): INVALID_ARGUMENT: You must feed a value for placeholder tensor 'gradients/split_1_grad/concat/split_1/split_dim' with dtype int32\n",
      "\t [[{{node gradients/split_1_grad/concat/split_1/split_dim}}]]\n"
     ]
    },
    {
     "name": "stdout",
     "output_type": "stream",
     "text": [
      "215/215 [==============================] - 3s 10ms/step\n"
     ]
    }
   ],
   "source": [
    "predictions = best_model.predict(X_test)"
   ]
  },
  {
   "cell_type": "code",
   "execution_count": 37,
   "id": "27f8f419-db22-4639-92bf-3db9d7ee7c13",
   "metadata": {
    "tags": []
   },
   "outputs": [],
   "source": [
    "matrix = confusion_matrix(y_test.argmax(axis=1), np.around(predictions, decimals=0).argmax(axis=1))"
   ]
  },
  {
   "cell_type": "code",
   "execution_count": 39,
   "id": "0f15af58-fa99-4335-a6ec-17c9eaa11627",
   "metadata": {
    "tags": []
   },
   "outputs": [
    {
     "data": {
      "text/plain": [
       "<Figure size 1500x1500 with 0 Axes>"
      ]
     },
     "execution_count": 39,
     "metadata": {},
     "output_type": "execute_result"
    },
    {
     "data": {
      "text/plain": [
       "<Figure size 1500x1500 with 0 Axes>"
      ]
     },
     "metadata": {},
     "output_type": "display_data"
    }
   ],
   "source": [
    "conf_matrix = pd.DataFrame(matrix, index=['Neutral', 'Negative', 'Positive'], columns=['Neutral', 'Negative', 'Positive'])\n",
    "\n",
    "# conf_matrix = conf_matrix.astype('float') / conf_matrix.sum(axis=1)[:, np.newaxis]\n",
    "plt.figure(figsize=(15, 15))"
   ]
  },
  {
   "cell_type": "code",
   "execution_count": 40,
   "id": "8533400c-ca86-44b2-b68d-cbcbe46f1698",
   "metadata": {
    "tags": []
   },
   "outputs": [
    {
     "data": {
      "text/plain": [
       "<Axes: >"
      ]
     },
     "execution_count": 40,
     "metadata": {},
     "output_type": "execute_result"
    },
    {
     "data": {
      "image/png": "[encoded data removed]",
      "text/plain": [
       "<Figure size 640x480 with 2 Axes>"
      ]
     },
     "metadata": {},
     "output_type": "display_data"
    }
   ],
   "source": [
    "sns.heatmap(conf_matrix, annot=True, annot_kws={\"size\": 15})"
   ]
  },
  {
   "cell_type": "code",
   "execution_count": 36,
   "id": "705bf017-c771-42d1-8a5f-84d19e1c83e3",
   "metadata": {
    "tags": []
   },
   "outputs": [],
   "source": [
    "sequence = tokenizer.texts_to_sequences([\"\"\"\n",
    "Research Statement\n",
    "Zhangchunsheng\n",
    "Research background\n",
    "I was educated at Sichuan University, majoring in Mechanical Design, Manufacture, and Automatization from 2008 to 2012. But after my graduation, I became more and more interested in computer science and artificial intelligence, and I quit my first job as an automotive engineer at FAW(First Automobile Works) and made up my mind to find a job in computer science and artificial intelligence.\n",
    "\n",
    "In 2016, I got my first programming job in Beijing. In 2018, I joined Bytedance Co., Ltd. and have been working for almost five years since then. I'm familiar with C/C++, GO, Python, PHP, Node.js, and many other programming languages. I can get familiar with any programming language or software framework in a week.\n",
    "\n",
    "During Bytedance, I mainly constructed a CI/CD platform called Bits. Now, the Bits platform has fully supported the mobile app CI/CD process in ByteDance. The whole mobile app CI/CD process, from the developer's first line of code to the delivery of the app to AppStore, is completed through this platform. In constructing platform functions, I mainly develop and maintain the platform's core process and mid-term planning. I currently host our group's agile process stand-up meeting, regularly assigning tasks, checking progress, and reporting timely follow-ups and results.\n",
    "\n",
    "I am very interested in scientific research but have little research experience. However, I think I have a characteristic no one can compare to. I have high execution ability and will stick to the goal once I set it. I believe scientific research should also need this ability.\n",
    "Research interests\n",
    "I don't have a profound understanding of cutting-edge computer science and artificial intelligence, but I think natural language processing, computer vision, and multimodal machine learning are challenging and essential.\n",
    "\n",
    "Although our computer vision is relatively mature, it is still far from biological intelligence. Although computer vision can distinguish people, dogs, and cats, this differs from what humans do in the real world. The computer trains the model through a large amount of data and pictures, then learns to distinguish these. But humans are different. After a child sees a cat, he knows it is a cat and will never misjudge it. If the computer has seen a biological dog and a toy dog that looks alike, it is likely to misjudge them since their images are similar. A child will never mistake a biological dog and a toy dog.\n",
    "\n",
    "The same is true for natural language processing. Although the current ChatGPT is very popular, it does not reason and induct like a human. My colleagues and I have run some tests on ChatGPT. We asked it to establish a regular expression from some English sentences. It is straightforward for people to recognize the pattern. The difficulty lies in generating the regular expression for humans. But ChatGPT still couldn't induct the correct rules after several rounds of questioning. ChatGPT is more like an intelligent search engine. It is just like a child who has learned a lot of knowledge. If you ask him what he has learned, he will quickly come up with the answer, but there seem to be some deficiencies in reasoning and inducting.\n",
    "\n",
    "For multimodal machine learning, I think this is closer to reality. Because it is difficult to understand the meaning of words, sounds, or images alone, even for humans. A classic example is \"Story of Stone Grotto Poet Eating Lions.\" All the Chinese characters in this short article are read in Chinese \"shi.\" You don't know what he is talking about if you don't read the text. So I think what can be applied to people's daily lives should probably be multimodal machine learning.\n",
    "Research plan\n",
    "I think when we use a lot of data to train the model, we are already far from the mechanism of our actual brain. A child doesn't need hundreds or thousands of photos to identify a cat. I wonder if we can use a small number of samples for model training. Just imagine, if we want to make an artificial intelligence that can reason independently, it will face the same complex world as humans. We can't fill it with all possible data and pictures from the moment it is created and let it carry out model training. There are always some scenes that it has never met before. The correct approach should be to let it learn these things through a small amount of training. This is what we should do, and it is also how to make AI closer to humans.\n",
    "\n",
    "\"\"\"])\n",
    "test = pad_sequences(sequence, maxlen=max_len)\n",
    "sentiment[np.around(best_model.predict(test), decimals=0).argmax(axis=1)[0]]"
   ]
  },
  {
   "cell_type": "code",
   "execution_count": null,
   "id": "c20f5d7c-73c7-4188-8a96-0773567e96db",
   "metadata": {},
   "outputs": [],
   "source": []
  }
 ],
 "metadata": {
  "kernelspec": {
   "display_name": "Python 3 (ipykernel)",
   "language": "python",
   "name": "python3"
  },
  "language_info": {
   "codemirror_mode": {
    "name": "ipython",
    "version": 3
   },
   "file_extension": ".py",
   "mimetype": "text/x-python",
   "name": "python",
   "nbconvert_exporter": "python",
   "pygments_lexer": "ipython3",
   "version": "3.9.16"
  }
 },
 "nbformat": 4,
 "nbformat_minor": 5
}
