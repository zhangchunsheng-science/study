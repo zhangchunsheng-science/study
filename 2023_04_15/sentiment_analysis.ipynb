{
 "cells": [
  {
   "cell_type": "code",
   "execution_count": 1,
   "id": "3816511a-f93c-45b2-a7b6-2098a4bff742",
   "metadata": {
    "tags": []
   },
   "outputs": [
    {
     "name": "stderr",
     "output_type": "stream",
     "text": [
      "2023-05-01 10:35:08.091355: I tensorflow/core/platform/cpu_feature_guard.cc:182] This TensorFlow binary is optimized to use available CPU instructions in performance-critical operations.\n",
      "To enable the following instructions: SSE4.1 SSE4.2, in other operations, rebuild TensorFlow with the appropriate compiler flags.\n"
     ]
    }
   ],
   "source": [
    "import re\n",
    "\n",
    "import gensim\n",
    "import keras\n",
    "from keras import layers\n",
    "from keras import regularizers\n",
    "from keras.callbacks import ModelCheckpoint\n",
    "from keras.models import Sequential\n",
    "from keras.preprocessing.text import Tokenizer\n",
    "from keras.utils import pad_sequences\n",
    "import matplotlib.pyplot as plt\n",
    "from nltk.tokenize.treebank import TreebankWordDetokenizer\n",
    "import numpy as np\n",
    "import pandas as pd\n",
    "import seaborn as sns\n",
    "from sklearn.metrics import confusion_matrix\n",
    "from sklearn.model_selection import train_test_split"
   ]
  },
  {
   "cell_type": "code",
   "execution_count": 2,
   "id": "8c5575dd-fb9c-4c55-9d23-8be979952523",
   "metadata": {
    "tags": []
   },
   "outputs": [
    {
     "data": {
      "text/html": [
       "<div>\n",
       "<style scoped>\n",
       "    .dataframe tbody tr th:only-of-type {\n",
       "        vertical-align: middle;\n",
       "    }\n",
       "\n",
       "    .dataframe tbody tr th {\n",
       "        vertical-align: top;\n",
       "    }\n",
       "\n",
       "    .dataframe thead th {\n",
       "        text-align: right;\n",
       "    }\n",
       "</style>\n",
       "<table border=\"1\" class=\"dataframe\">\n",
       "  <thead>\n",
       "    <tr style=\"text-align: right;\">\n",
       "      <th></th>\n",
       "      <th>textID</th>\n",
       "      <th>text</th>\n",
       "      <th>selected_text</th>\n",
       "      <th>sentiment</th>\n",
       "    </tr>\n",
       "  </thead>\n",
       "  <tbody>\n",
       "    <tr>\n",
       "      <th>0</th>\n",
       "      <td>cb774db0d1</td>\n",
       "      <td>I`d have responded, if I were going</td>\n",
       "      <td>I`d have responded, if I were going</td>\n",
       "      <td>neutral</td>\n",
       "    </tr>\n",
       "    <tr>\n",
       "      <th>1</th>\n",
       "      <td>549e992a42</td>\n",
       "      <td>Sooo SAD I will miss you here in San Diego!!!</td>\n",
       "      <td>Sooo SAD</td>\n",
       "      <td>negative</td>\n",
       "    </tr>\n",
       "    <tr>\n",
       "      <th>2</th>\n",
       "      <td>088c60f138</td>\n",
       "      <td>my boss is bullying me...</td>\n",
       "      <td>bullying me</td>\n",
       "      <td>negative</td>\n",
       "    </tr>\n",
       "    <tr>\n",
       "      <th>3</th>\n",
       "      <td>9642c003ef</td>\n",
       "      <td>what interview! leave me alone</td>\n",
       "      <td>leave me alone</td>\n",
       "      <td>negative</td>\n",
       "    </tr>\n",
       "    <tr>\n",
       "      <th>4</th>\n",
       "      <td>358bd9e861</td>\n",
       "      <td>Sons of ****, why couldn`t they put them on t...</td>\n",
       "      <td>Sons of ****,</td>\n",
       "      <td>negative</td>\n",
       "    </tr>\n",
       "    <tr>\n",
       "      <th>5</th>\n",
       "      <td>28b57f3990</td>\n",
       "      <td>http://www.dothebouncy.com/smf - some shameles...</td>\n",
       "      <td>http://www.dothebouncy.com/smf - some shameles...</td>\n",
       "      <td>neutral</td>\n",
       "    </tr>\n",
       "    <tr>\n",
       "      <th>6</th>\n",
       "      <td>6e0c6d75b1</td>\n",
       "      <td>2am feedings for the baby are fun when he is a...</td>\n",
       "      <td>fun</td>\n",
       "      <td>positive</td>\n",
       "    </tr>\n",
       "    <tr>\n",
       "      <th>7</th>\n",
       "      <td>50e14c0bb8</td>\n",
       "      <td>Soooo high</td>\n",
       "      <td>Soooo high</td>\n",
       "      <td>neutral</td>\n",
       "    </tr>\n",
       "    <tr>\n",
       "      <th>8</th>\n",
       "      <td>e050245fbd</td>\n",
       "      <td>Both of you</td>\n",
       "      <td>Both of you</td>\n",
       "      <td>neutral</td>\n",
       "    </tr>\n",
       "    <tr>\n",
       "      <th>9</th>\n",
       "      <td>fc2cbefa9d</td>\n",
       "      <td>Journey!? Wow... u just became cooler.  hehe....</td>\n",
       "      <td>Wow... u just became cooler.</td>\n",
       "      <td>positive</td>\n",
       "    </tr>\n",
       "    <tr>\n",
       "      <th>10</th>\n",
       "      <td>2339a9b08b</td>\n",
       "      <td>as much as i love to be hopeful, i reckon the...</td>\n",
       "      <td>as much as i love to be hopeful, i reckon the ...</td>\n",
       "      <td>neutral</td>\n",
       "    </tr>\n",
       "    <tr>\n",
       "      <th>11</th>\n",
       "      <td>16fab9f95b</td>\n",
       "      <td>I really really like the song Love Story by Ta...</td>\n",
       "      <td>like</td>\n",
       "      <td>positive</td>\n",
       "    </tr>\n",
       "    <tr>\n",
       "      <th>12</th>\n",
       "      <td>74a76f6e0a</td>\n",
       "      <td>My Sharpie is running DANGERously low on ink</td>\n",
       "      <td>DANGERously</td>\n",
       "      <td>negative</td>\n",
       "    </tr>\n",
       "    <tr>\n",
       "      <th>13</th>\n",
       "      <td>04dd1d2e34</td>\n",
       "      <td>i want to go to music tonight but i lost my vo...</td>\n",
       "      <td>lost</td>\n",
       "      <td>negative</td>\n",
       "    </tr>\n",
       "    <tr>\n",
       "      <th>14</th>\n",
       "      <td>bbe3cbf620</td>\n",
       "      <td>test test from the LG enV2</td>\n",
       "      <td>test test from the LG enV2</td>\n",
       "      <td>neutral</td>\n",
       "    </tr>\n",
       "  </tbody>\n",
       "</table>\n",
       "</div>"
      ],
      "text/plain": [
       "        textID                                               text   \n",
       "0   cb774db0d1                I`d have responded, if I were going  \\\n",
       "1   549e992a42      Sooo SAD I will miss you here in San Diego!!!   \n",
       "2   088c60f138                          my boss is bullying me...   \n",
       "3   9642c003ef                     what interview! leave me alone   \n",
       "4   358bd9e861   Sons of ****, why couldn`t they put them on t...   \n",
       "5   28b57f3990  http://www.dothebouncy.com/smf - some shameles...   \n",
       "6   6e0c6d75b1  2am feedings for the baby are fun when he is a...   \n",
       "7   50e14c0bb8                                         Soooo high   \n",
       "8   e050245fbd                                        Both of you   \n",
       "9   fc2cbefa9d   Journey!? Wow... u just became cooler.  hehe....   \n",
       "10  2339a9b08b   as much as i love to be hopeful, i reckon the...   \n",
       "11  16fab9f95b  I really really like the song Love Story by Ta...   \n",
       "12  74a76f6e0a       My Sharpie is running DANGERously low on ink   \n",
       "13  04dd1d2e34  i want to go to music tonight but i lost my vo...   \n",
       "14  bbe3cbf620                         test test from the LG enV2   \n",
       "\n",
       "                                        selected_text sentiment  \n",
       "0                 I`d have responded, if I were going   neutral  \n",
       "1                                            Sooo SAD  negative  \n",
       "2                                         bullying me  negative  \n",
       "3                                      leave me alone  negative  \n",
       "4                                       Sons of ****,  negative  \n",
       "5   http://www.dothebouncy.com/smf - some shameles...   neutral  \n",
       "6                                                 fun  positive  \n",
       "7                                          Soooo high   neutral  \n",
       "8                                         Both of you   neutral  \n",
       "9                        Wow... u just became cooler.  positive  \n",
       "10  as much as i love to be hopeful, i reckon the ...   neutral  \n",
       "11                                               like  positive  \n",
       "12                                        DANGERously  negative  \n",
       "13                                               lost  negative  \n",
       "14                         test test from the LG enV2   neutral  "
      ]
     },
     "execution_count": 2,
     "metadata": {},
     "output_type": "execute_result"
    }
   ],
   "source": [
    "train = pd.read_csv('./kaggle/input/tweet-sentiment-extraction/train.csv')\n",
    "train.head(15)"
   ]
  },
  {
   "cell_type": "code",
   "execution_count": 3,
   "id": "88f94ea5-165d-408e-9fb6-ae9e234032f6",
   "metadata": {
    "tags": []
   },
   "outputs": [
    {
     "data": {
      "text/plain": [
       "27481"
      ]
     },
     "execution_count": 3,
     "metadata": {},
     "output_type": "execute_result"
    }
   ],
   "source": [
    "len(train)"
   ]
  },
  {
   "cell_type": "code",
   "execution_count": 4,
   "id": "ab4d3749-fa87-4e07-97a3-fece965e6721",
   "metadata": {
    "tags": []
   },
   "outputs": [
    {
     "data": {
      "text/plain": [
       "array(['neutral', 'negative', 'positive'], dtype=object)"
      ]
     },
     "execution_count": 4,
     "metadata": {},
     "output_type": "execute_result"
    }
   ],
   "source": [
    "train['sentiment'].unique()"
   ]
  },
  {
   "cell_type": "code",
   "execution_count": 5,
   "id": "758de209-04e1-440f-8a73-24cdc9438aa0",
   "metadata": {
    "tags": []
   },
   "outputs": [
    {
     "data": {
      "text/html": [
       "<div>\n",
       "<style scoped>\n",
       "    .dataframe tbody tr th:only-of-type {\n",
       "        vertical-align: middle;\n",
       "    }\n",
       "\n",
       "    .dataframe tbody tr th {\n",
       "        vertical-align: top;\n",
       "    }\n",
       "\n",
       "    .dataframe thead th {\n",
       "        text-align: right;\n",
       "    }\n",
       "</style>\n",
       "<table border=\"1\" class=\"dataframe\">\n",
       "  <thead>\n",
       "    <tr style=\"text-align: right;\">\n",
       "      <th></th>\n",
       "      <th>textID</th>\n",
       "      <th>text</th>\n",
       "      <th>selected_text</th>\n",
       "    </tr>\n",
       "    <tr>\n",
       "      <th>sentiment</th>\n",
       "      <th></th>\n",
       "      <th></th>\n",
       "      <th></th>\n",
       "    </tr>\n",
       "  </thead>\n",
       "  <tbody>\n",
       "    <tr>\n",
       "      <th>negative</th>\n",
       "      <td>7781</td>\n",
       "      <td>7781</td>\n",
       "      <td>5861</td>\n",
       "    </tr>\n",
       "    <tr>\n",
       "      <th>neutral</th>\n",
       "      <td>11118</td>\n",
       "      <td>11117</td>\n",
       "      <td>11111</td>\n",
       "    </tr>\n",
       "    <tr>\n",
       "      <th>positive</th>\n",
       "      <td>8582</td>\n",
       "      <td>8582</td>\n",
       "      <td>5537</td>\n",
       "    </tr>\n",
       "  </tbody>\n",
       "</table>\n",
       "</div>"
      ],
      "text/plain": [
       "           textID   text  selected_text\n",
       "sentiment                              \n",
       "negative     7781   7781           5861\n",
       "neutral     11118  11117          11111\n",
       "positive     8582   8582           5537"
      ]
     },
     "execution_count": 5,
     "metadata": {},
     "output_type": "execute_result"
    }
   ],
   "source": [
    "train.groupby('sentiment').nunique()"
   ]
  },
  {
   "cell_type": "code",
   "execution_count": 6,
   "id": "f2a20094-b9ce-4c9d-9b2a-e0d910d5a5c9",
   "metadata": {
    "tags": []
   },
   "outputs": [
    {
     "data": {
      "text/html": [
       "<div>\n",
       "<style scoped>\n",
       "    .dataframe tbody tr th:only-of-type {\n",
       "        vertical-align: middle;\n",
       "    }\n",
       "\n",
       "    .dataframe tbody tr th {\n",
       "        vertical-align: top;\n",
       "    }\n",
       "\n",
       "    .dataframe thead th {\n",
       "        text-align: right;\n",
       "    }\n",
       "</style>\n",
       "<table border=\"1\" class=\"dataframe\">\n",
       "  <thead>\n",
       "    <tr style=\"text-align: right;\">\n",
       "      <th></th>\n",
       "      <th>selected_text</th>\n",
       "      <th>sentiment</th>\n",
       "    </tr>\n",
       "  </thead>\n",
       "  <tbody>\n",
       "    <tr>\n",
       "      <th>0</th>\n",
       "      <td>I`d have responded, if I were going</td>\n",
       "      <td>neutral</td>\n",
       "    </tr>\n",
       "    <tr>\n",
       "      <th>1</th>\n",
       "      <td>Sooo SAD</td>\n",
       "      <td>negative</td>\n",
       "    </tr>\n",
       "    <tr>\n",
       "      <th>2</th>\n",
       "      <td>bullying me</td>\n",
       "      <td>negative</td>\n",
       "    </tr>\n",
       "    <tr>\n",
       "      <th>3</th>\n",
       "      <td>leave me alone</td>\n",
       "      <td>negative</td>\n",
       "    </tr>\n",
       "    <tr>\n",
       "      <th>4</th>\n",
       "      <td>Sons of ****,</td>\n",
       "      <td>negative</td>\n",
       "    </tr>\n",
       "  </tbody>\n",
       "</table>\n",
       "</div>"
      ],
      "text/plain": [
       "                         selected_text sentiment\n",
       "0  I`d have responded, if I were going   neutral\n",
       "1                             Sooo SAD  negative\n",
       "2                          bullying me  negative\n",
       "3                       leave me alone  negative\n",
       "4                        Sons of ****,  negative"
      ]
     },
     "execution_count": 6,
     "metadata": {},
     "output_type": "execute_result"
    }
   ],
   "source": [
    "train = train[['selected_text','sentiment']]\n",
    "train.head()"
   ]
  },
  {
   "cell_type": "code",
   "execution_count": 7,
   "id": "24f94a5d-a800-4e87-b8b5-74ca696396b5",
   "metadata": {
    "tags": []
   },
   "outputs": [
    {
     "data": {
      "text/plain": [
       "1"
      ]
     },
     "execution_count": 7,
     "metadata": {},
     "output_type": "execute_result"
    }
   ],
   "source": [
    "train[\"selected_text\"].isnull().sum()"
   ]
  },
  {
   "cell_type": "code",
   "execution_count": 8,
   "id": "83bf1c82-f629-4893-ad4f-e367568a25f6",
   "metadata": {
    "tags": []
   },
   "outputs": [],
   "source": [
    "train[\"selected_text\"].fillna(\"No content\", inplace = True)"
   ]
  },
  {
   "cell_type": "code",
   "execution_count": 9,
   "id": "41c82b42-9128-4f46-b08d-59325ac50385",
   "metadata": {
    "tags": []
   },
   "outputs": [],
   "source": [
    "def depure_data(data):\n",
    "    \n",
    "    # Removing URLs with a regular expression\n",
    "    url_pattern = re.compile(r'https?://\\S+|www\\.\\S+')\n",
    "    data = url_pattern.sub(r'', data)\n",
    "\n",
    "    # Remove Emails\n",
    "    data = re.sub('\\S*@\\S*\\s?', '', data)\n",
    "\n",
    "    # Remove new line characters\n",
    "    data = re.sub('\\s+', ' ', data)\n",
    "\n",
    "    # Remove distracting single quotes\n",
    "    data = re.sub(\"\\'\", \"\", data)\n",
    "        \n",
    "    return data"
   ]
  },
  {
   "cell_type": "code",
   "execution_count": 10,
   "id": "7f3ec572-02ef-448a-99f5-78a1bad1d1ef",
   "metadata": {
    "tags": []
   },
   "outputs": [
    {
     "data": {
      "text/plain": [
       "['I`d have responded, if I were going',\n",
       " 'Sooo SAD',\n",
       " 'bullying me',\n",
       " 'leave me alone',\n",
       " 'Sons of ****,']"
      ]
     },
     "execution_count": 10,
     "metadata": {},
     "output_type": "execute_result"
    }
   ],
   "source": [
    "temp = []\n",
    "# Splitting pd.Series to list\n",
    "data_to_list = train['selected_text'].values.tolist()\n",
    "for i in range(len(data_to_list)):\n",
    "    temp.append(depure_data(data_to_list[i]))\n",
    "list(temp[:5])"
   ]
  },
  {
   "cell_type": "code",
   "execution_count": 11,
   "id": "23b4bb46-c53e-43a9-b366-e42ec00ca2ec",
   "metadata": {
    "tags": []
   },
   "outputs": [
    {
     "name": "stdout",
     "output_type": "stream",
     "text": [
      "[['have', 'responded', 'if', 'were', 'going'], ['sooo', 'sad'], ['bullying', 'me'], ['leave', 'me', 'alone'], ['sons', 'of'], ['some', 'shameless', 'plugging', 'for', 'the', 'best', 'rangers', 'forum', 'on', 'earth'], ['fun'], ['soooo', 'high'], ['both', 'of', 'you'], ['wow', 'just', 'became', 'cooler']]\n"
     ]
    }
   ],
   "source": [
    "def sent_to_words(sentences):\n",
    "    for sentence in sentences:\n",
    "        yield(gensim.utils.simple_preprocess(str(sentence), deacc=True))  # deacc=True removes punctuations\n",
    "        \n",
    "\n",
    "data_words = list(sent_to_words(temp))\n",
    "\n",
    "print(data_words[:10])"
   ]
  },
  {
   "cell_type": "code",
   "execution_count": 12,
   "id": "03203d77-9a85-4efe-a23b-d65599906810",
   "metadata": {
    "tags": []
   },
   "outputs": [
    {
     "data": {
      "text/plain": [
       "27481"
      ]
     },
     "execution_count": 12,
     "metadata": {},
     "output_type": "execute_result"
    }
   ],
   "source": [
    "len(data_words)"
   ]
  },
  {
   "cell_type": "code",
   "execution_count": 13,
   "id": "316844cb-3fd2-4d03-84a9-c62ddd021744",
   "metadata": {
    "tags": []
   },
   "outputs": [],
   "source": [
    "def detokenize(text):\n",
    "    return TreebankWordDetokenizer().detokenize(text)"
   ]
  },
  {
   "cell_type": "code",
   "execution_count": 14,
   "id": "2698977a-d929-47dc-8376-1241266ce093",
   "metadata": {
    "tags": []
   },
   "outputs": [
    {
     "name": "stdout",
     "output_type": "stream",
     "text": [
      "['have responded if were going', 'sooo sad', 'bullying me', 'leave me alone', 'sons of']\n"
     ]
    }
   ],
   "source": [
    "data = []\n",
    "for i in range(len(data_words)):\n",
    "    data.append(detokenize(data_words[i]))\n",
    "print(data[:5])"
   ]
  },
  {
   "cell_type": "code",
   "execution_count": 15,
   "id": "cdc8f0f3-8fd1-4318-a08a-de655f17ed90",
   "metadata": {
    "tags": []
   },
   "outputs": [],
   "source": [
    "data = np.array(data)"
   ]
  },
  {
   "cell_type": "code",
   "execution_count": 16,
   "id": "fae82866-99f8-4155-b39f-933f5c73899b",
   "metadata": {
    "tags": []
   },
   "outputs": [],
   "source": [
    "labels = np.array(train['sentiment'])\n",
    "y = []\n",
    "for i in range(len(labels)):\n",
    "    if labels[i] == 'neutral':\n",
    "        y.append(0)\n",
    "    if labels[i] == 'negative':\n",
    "        y.append(1)\n",
    "    if labels[i] == 'positive':\n",
    "        y.append(2)\n",
    "y = np.array(y)\n",
    "labels = keras.utils.to_categorical(y, 3, dtype=\"float32\")\n",
    "del y"
   ]
  },
  {
   "cell_type": "code",
   "execution_count": 17,
   "id": "a5298439-54ee-4bfc-9820-2869269fa245",
   "metadata": {
    "tags": []
   },
   "outputs": [
    {
     "data": {
      "text/plain": [
       "27481"
      ]
     },
     "execution_count": 17,
     "metadata": {},
     "output_type": "execute_result"
    }
   ],
   "source": [
    "len(labels)"
   ]
  },
  {
   "cell_type": "code",
   "execution_count": 18,
   "id": "52666bfb-f482-4122-a3d2-97da41f41434",
   "metadata": {
    "tags": []
   },
   "outputs": [
    {
     "name": "stdout",
     "output_type": "stream",
     "text": [
      "[[   0    0    0 ...   68  146   41]\n",
      " [   0    0    0 ...    0  397   65]\n",
      " [   0    0    0 ...    0    0   11]\n",
      " ...\n",
      " [   0    0    0 ...  372   10    3]\n",
      " [   0    0    0 ...   24  542    4]\n",
      " [   0    0    0 ... 2424  199  657]]\n"
     ]
    }
   ],
   "source": [
    "max_words = 5000\n",
    "max_len = 200\n",
    "tokenizer = Tokenizer(num_words=max_words)\n",
    "tokenizer.fit_on_texts(data)\n",
    "sequences = tokenizer.texts_to_sequences(data)\n",
    "tweets = pad_sequences(sequences, maxlen=max_len)\n",
    "print(tweets)"
   ]
  },
  {
   "cell_type": "code",
   "execution_count": 19,
   "id": "e77c93f5-425b-4fff-a172-4e2daaca357d",
   "metadata": {
    "tags": []
   },
   "outputs": [
    {
     "name": "stdout",
     "output_type": "stream",
     "text": [
      "[[1. 0. 0.]\n",
      " [0. 1. 0.]\n",
      " [0. 1. 0.]\n",
      " ...\n",
      " [0. 0. 1.]\n",
      " [0. 0. 1.]\n",
      " [1. 0. 0.]]\n"
     ]
    }
   ],
   "source": [
    "print(labels)"
   ]
  },
  {
   "cell_type": "code",
   "execution_count": 20,
   "id": "51d8a33f-f82e-4c57-8fc8-7b7293800bf8",
   "metadata": {
    "tags": []
   },
   "outputs": [
    {
     "name": "stdout",
     "output_type": "stream",
     "text": [
      "20610 6871 20610 6871\n"
     ]
    }
   ],
   "source": [
    "X_train, X_test, y_train, y_test = train_test_split(tweets, labels, random_state=0)\n",
    "print(len(X_train), len(X_test), len(y_train), len(y_test))"
   ]
  },
  {
   "cell_type": "code",
   "execution_count": 21,
   "id": "3e2f070c-1a67-4f07-a39e-bab15349c1b2",
   "metadata": {
    "tags": []
   },
   "outputs": [
    {
     "name": "stdout",
     "output_type": "stream",
     "text": [
      "WARNING:tensorflow:`period` argument is deprecated. Please use `save_freq` to specify the frequency in number of batches seen.\n",
      "Epoch 1/5\n",
      "643/645 [============================>.] - ETA: 0s - loss: 0.7544 - accuracy: 0.6790\n",
      "Epoch 1: val_accuracy improved from -inf to 0.75695, saving model to best_model0.hdf5\n",
      "645/645 [==============================] - 13s 20ms/step - loss: 0.7544 - accuracy: 0.6791 - val_loss: 0.6274 - val_accuracy: 0.7569\n",
      "Epoch 2/5\n",
      "645/645 [==============================] - ETA: 0s - loss: 0.5293 - accuracy: 0.7928\n",
      "Epoch 2: val_accuracy improved from 0.75695 to 0.79261, saving model to best_model0.hdf5\n",
      "645/645 [==============================] - 13s 20ms/step - loss: 0.5293 - accuracy: 0.7928 - val_loss: 0.5225 - val_accuracy: 0.7926\n",
      "Epoch 3/5\n",
      "645/645 [==============================] - ETA: 0s - loss: 0.4680 - accuracy: 0.8204\n",
      "Epoch 3: val_accuracy improved from 0.79261 to 0.81153, saving model to best_model0.hdf5\n",
      "645/645 [==============================] - 13s 19ms/step - loss: 0.4680 - accuracy: 0.8204 - val_loss: 0.5005 - val_accuracy: 0.8115\n",
      "Epoch 4/5\n",
      "642/645 [============================>.] - ETA: 0s - loss: 0.4384 - accuracy: 0.8338\n",
      "Epoch 4: val_accuracy did not improve from 0.81153\n",
      "645/645 [==============================] - 13s 19ms/step - loss: 0.4393 - accuracy: 0.8337 - val_loss: 0.5085 - val_accuracy: 0.8060\n",
      "Epoch 5/5\n",
      "643/645 [============================>.] - ETA: 0s - loss: 0.4137 - accuracy: 0.8455\n",
      "Epoch 5: val_accuracy improved from 0.81153 to 0.81458, saving model to best_model0.hdf5\n",
      "645/645 [==============================] - 13s 19ms/step - loss: 0.4145 - accuracy: 0.8453 - val_loss: 0.4894 - val_accuracy: 0.8146\n"
     ]
    }
   ],
   "source": [
    "model0 = Sequential()\n",
    "model0.add(layers.Embedding(max_words, 15))\n",
    "model0.add(layers.SimpleRNN(15))\n",
    "model0.add(layers.Dense(3, activation='softmax'))\n",
    "model0.compile(optimizer='rmsprop', loss='categorical_crossentropy', metrics=['accuracy'])\n",
    "checkpoint0 = ModelCheckpoint(\"best_model0.hdf5\", monitor='val_accuracy', verbose=1, save_best_only=True, mode='auto', period=1, save_weights_only=False)\n",
    "history0 = model0.fit(X_train, y_train, epochs=5, validation_data=(X_test, y_test), callbacks=[checkpoint0])"
   ]
  },
  {
   "cell_type": "code",
   "execution_count": 22,
   "id": "cf8c935a-a9f4-4eaa-a74c-2b720d606c57",
   "metadata": {
    "tags": []
   },
   "outputs": [
    {
     "name": "stdout",
     "output_type": "stream",
     "text": [
      "WARNING:tensorflow:`period` argument is deprecated. Please use `save_freq` to specify the frequency in number of batches seen.\n",
      "Epoch 1/70\n"
     ]
    },
    {
     "name": "stderr",
     "output_type": "stream",
     "text": [
      "2023-05-01 10:36:16.906512: I tensorflow/core/common_runtime/executor.cc:1197] [/device:CPU:0] (DEBUG INFO) Executor start aborting (this does not indicate an error and you can ignore this message): INVALID_ARGUMENT: You must feed a value for placeholder tensor 'gradients/split_2_grad/concat/split_2/split_dim' with dtype int32\n",
      "\t [[{{node gradients/split_2_grad/concat/split_2/split_dim}}]]\n",
      "2023-05-01 10:36:16.907275: I tensorflow/core/common_runtime/executor.cc:1197] [/device:CPU:0] (DEBUG INFO) Executor start aborting (this does not indicate an error and you can ignore this message): INVALID_ARGUMENT: You must feed a value for placeholder tensor 'gradients/split_grad/concat/split/split_dim' with dtype int32\n",
      "\t [[{{node gradients/split_grad/concat/split/split_dim}}]]\n",
      "2023-05-01 10:36:16.907952: I tensorflow/core/common_runtime/executor.cc:1197] [/device:CPU:0] (DEBUG INFO) Executor start aborting (this does not indicate an error and you can ignore this message): INVALID_ARGUMENT: You must feed a value for placeholder tensor 'gradients/split_1_grad/concat/split_1/split_dim' with dtype int32\n",
      "\t [[{{node gradients/split_1_grad/concat/split_1/split_dim}}]]\n",
      "2023-05-01 10:36:17.064475: I tensorflow/core/common_runtime/executor.cc:1197] [/device:CPU:0] (DEBUG INFO) Executor start aborting (this does not indicate an error and you can ignore this message): INVALID_ARGUMENT: You must feed a value for placeholder tensor 'gradients/split_2_grad/concat/split_2/split_dim' with dtype int32\n",
      "\t [[{{node gradients/split_2_grad/concat/split_2/split_dim}}]]\n",
      "2023-05-01 10:36:17.065372: I tensorflow/core/common_runtime/executor.cc:1197] [/device:CPU:0] (DEBUG INFO) Executor start aborting (this does not indicate an error and you can ignore this message): INVALID_ARGUMENT: You must feed a value for placeholder tensor 'gradients/split_grad/concat/split/split_dim' with dtype int32\n",
      "\t [[{{node gradients/split_grad/concat/split/split_dim}}]]\n",
      "2023-05-01 10:36:17.066126: I tensorflow/core/common_runtime/executor.cc:1197] [/device:CPU:0] (DEBUG INFO) Executor start aborting (this does not indicate an error and you can ignore this message): INVALID_ARGUMENT: You must feed a value for placeholder tensor 'gradients/split_1_grad/concat/split_1/split_dim' with dtype int32\n",
      "\t [[{{node gradients/split_1_grad/concat/split_1/split_dim}}]]\n",
      "2023-05-01 10:36:17.388968: I tensorflow/core/common_runtime/executor.cc:1197] [/device:CPU:0] (DEBUG INFO) Executor start aborting (this does not indicate an error and you can ignore this message): INVALID_ARGUMENT: You must feed a value for placeholder tensor 'gradients/split_2_grad/concat/split_2/split_dim' with dtype int32\n",
      "\t [[{{node gradients/split_2_grad/concat/split_2/split_dim}}]]\n",
      "2023-05-01 10:36:17.390175: I tensorflow/core/common_runtime/executor.cc:1197] [/device:CPU:0] (DEBUG INFO) Executor start aborting (this does not indicate an error and you can ignore this message): INVALID_ARGUMENT: You must feed a value for placeholder tensor 'gradients/split_grad/concat/split/split_dim' with dtype int32\n",
      "\t [[{{node gradients/split_grad/concat/split/split_dim}}]]\n",
      "2023-05-01 10:36:17.390876: I tensorflow/core/common_runtime/executor.cc:1197] [/device:CPU:0] (DEBUG INFO) Executor start aborting (this does not indicate an error and you can ignore this message): INVALID_ARGUMENT: You must feed a value for placeholder tensor 'gradients/split_1_grad/concat/split_1/split_dim' with dtype int32\n",
      "\t [[{{node gradients/split_1_grad/concat/split_1/split_dim}}]]\n"
     ]
    },
    {
     "name": "stdout",
     "output_type": "stream",
     "text": [
      "645/645 [==============================] - ETA: 0s - loss: 0.8294 - accuracy: 0.6435"
     ]
    },
    {
     "name": "stderr",
     "output_type": "stream",
     "text": [
      "2023-05-01 10:36:41.956494: I tensorflow/core/common_runtime/executor.cc:1197] [/device:CPU:0] (DEBUG INFO) Executor start aborting (this does not indicate an error and you can ignore this message): INVALID_ARGUMENT: You must feed a value for placeholder tensor 'gradients/split_2_grad/concat/split_2/split_dim' with dtype int32\n",
      "\t [[{{node gradients/split_2_grad/concat/split_2/split_dim}}]]\n",
      "2023-05-01 10:36:41.957656: I tensorflow/core/common_runtime/executor.cc:1197] [/device:CPU:0] (DEBUG INFO) Executor start aborting (this does not indicate an error and you can ignore this message): INVALID_ARGUMENT: You must feed a value for placeholder tensor 'gradients/split_grad/concat/split/split_dim' with dtype int32\n",
      "\t [[{{node gradients/split_grad/concat/split/split_dim}}]]\n",
      "2023-05-01 10:36:41.958418: I tensorflow/core/common_runtime/executor.cc:1197] [/device:CPU:0] (DEBUG INFO) Executor start aborting (this does not indicate an error and you can ignore this message): INVALID_ARGUMENT: You must feed a value for placeholder tensor 'gradients/split_1_grad/concat/split_1/split_dim' with dtype int32\n",
      "\t [[{{node gradients/split_1_grad/concat/split_1/split_dim}}]]\n"
     ]
    },
    {
     "name": "stdout",
     "output_type": "stream",
     "text": [
      "\n",
      "Epoch 1: val_accuracy improved from -inf to 0.70965, saving model to best_model1.hdf5\n",
      "645/645 [==============================] - 27s 40ms/step - loss: 0.8294 - accuracy: 0.6435 - val_loss: 0.6758 - val_accuracy: 0.7096\n",
      "Epoch 2/70\n",
      "645/645 [==============================] - ETA: 0s - loss: 0.5871 - accuracy: 0.7653\n",
      "Epoch 2: val_accuracy improved from 0.70965 to 0.78882, saving model to best_model1.hdf5\n",
      "645/645 [==============================] - 26s 40ms/step - loss: 0.5871 - accuracy: 0.7653 - val_loss: 0.5316 - val_accuracy: 0.7888\n",
      "Epoch 3/70\n",
      "645/645 [==============================] - ETA: 0s - loss: 0.5104 - accuracy: 0.7998\n",
      "Epoch 3: val_accuracy improved from 0.78882 to 0.80498, saving model to best_model1.hdf5\n",
      "645/645 [==============================] - 25s 40ms/step - loss: 0.5104 - accuracy: 0.7998 - val_loss: 0.4942 - val_accuracy: 0.8050\n",
      "Epoch 4/70\n",
      "645/645 [==============================] - ETA: 0s - loss: 0.4729 - accuracy: 0.8193\n",
      "Epoch 4: val_accuracy improved from 0.80498 to 0.80993, saving model to best_model1.hdf5\n",
      "645/645 [==============================] - 26s 40ms/step - loss: 0.4729 - accuracy: 0.8193 - val_loss: 0.4798 - val_accuracy: 0.8099\n",
      "Epoch 5/70\n",
      "645/645 [==============================] - ETA: 0s - loss: 0.4511 - accuracy: 0.8285\n",
      "Epoch 5: val_accuracy did not improve from 0.80993\n",
      "645/645 [==============================] - 26s 40ms/step - loss: 0.4511 - accuracy: 0.8285 - val_loss: 0.4761 - val_accuracy: 0.8086\n",
      "Epoch 6/70\n",
      "645/645 [==============================] - ETA: 0s - loss: 0.4360 - accuracy: 0.8359\n",
      "Epoch 6: val_accuracy improved from 0.80993 to 0.82230, saving model to best_model1.hdf5\n",
      "645/645 [==============================] - 26s 40ms/step - loss: 0.4360 - accuracy: 0.8359 - val_loss: 0.4591 - val_accuracy: 0.8223\n",
      "Epoch 7/70\n",
      "645/645 [==============================] - ETA: 0s - loss: 0.4241 - accuracy: 0.8411\n",
      "Epoch 7: val_accuracy improved from 0.82230 to 0.82375, saving model to best_model1.hdf5\n",
      "645/645 [==============================] - 26s 40ms/step - loss: 0.4241 - accuracy: 0.8411 - val_loss: 0.4583 - val_accuracy: 0.8238\n",
      "Epoch 8/70\n",
      "645/645 [==============================] - ETA: 0s - loss: 0.4128 - accuracy: 0.8459\n",
      "Epoch 8: val_accuracy improved from 0.82375 to 0.82972, saving model to best_model1.hdf5\n",
      "645/645 [==============================] - 26s 40ms/step - loss: 0.4128 - accuracy: 0.8459 - val_loss: 0.4430 - val_accuracy: 0.8297\n",
      "Epoch 9/70\n",
      "645/645 [==============================] - ETA: 0s - loss: 0.4030 - accuracy: 0.8471\n",
      "Epoch 9: val_accuracy did not improve from 0.82972\n",
      "645/645 [==============================] - 26s 40ms/step - loss: 0.4030 - accuracy: 0.8471 - val_loss: 0.4469 - val_accuracy: 0.8278\n",
      "Epoch 10/70\n",
      "645/645 [==============================] - ETA: 0s - loss: 0.3983 - accuracy: 0.8513\n",
      "Epoch 10: val_accuracy improved from 0.82972 to 0.83234, saving model to best_model1.hdf5\n",
      "645/645 [==============================] - 26s 40ms/step - loss: 0.3983 - accuracy: 0.8513 - val_loss: 0.4408 - val_accuracy: 0.8323\n",
      "Epoch 11/70\n",
      "645/645 [==============================] - ETA: 0s - loss: 0.3837 - accuracy: 0.8555\n",
      "Epoch 11: val_accuracy did not improve from 0.83234\n",
      "645/645 [==============================] - 26s 40ms/step - loss: 0.3837 - accuracy: 0.8555 - val_loss: 0.4354 - val_accuracy: 0.8240\n",
      "Epoch 12/70\n",
      "645/645 [==============================] - ETA: 0s - loss: 0.3835 - accuracy: 0.8557\n",
      "Epoch 12: val_accuracy did not improve from 0.83234\n",
      "645/645 [==============================] - 26s 40ms/step - loss: 0.3835 - accuracy: 0.8557 - val_loss: 0.4328 - val_accuracy: 0.8304\n",
      "Epoch 13/70\n",
      "645/645 [==============================] - ETA: 0s - loss: 0.3768 - accuracy: 0.8593\n",
      "Epoch 13: val_accuracy did not improve from 0.83234\n",
      "645/645 [==============================] - 26s 40ms/step - loss: 0.3768 - accuracy: 0.8593 - val_loss: 0.4377 - val_accuracy: 0.8316\n",
      "Epoch 14/70\n",
      "645/645 [==============================] - ETA: 0s - loss: 0.3704 - accuracy: 0.8639\n",
      "Epoch 14: val_accuracy did not improve from 0.83234\n",
      "645/645 [==============================] - 26s 40ms/step - loss: 0.3704 - accuracy: 0.8639 - val_loss: 0.4377 - val_accuracy: 0.8296\n",
      "Epoch 15/70\n",
      "645/645 [==============================] - ETA: 0s - loss: 0.3645 - accuracy: 0.8667\n",
      "Epoch 15: val_accuracy improved from 0.83234 to 0.83627, saving model to best_model1.hdf5\n",
      "645/645 [==============================] - 26s 40ms/step - loss: 0.3645 - accuracy: 0.8667 - val_loss: 0.4291 - val_accuracy: 0.8363\n",
      "Epoch 16/70\n",
      "645/645 [==============================] - ETA: 0s - loss: 0.3646 - accuracy: 0.8647\n",
      "Epoch 16: val_accuracy did not improve from 0.83627\n",
      "645/645 [==============================] - 26s 40ms/step - loss: 0.3646 - accuracy: 0.8647 - val_loss: 0.4381 - val_accuracy: 0.8322\n",
      "Epoch 17/70\n",
      "645/645 [==============================] - ETA: 0s - loss: 0.3605 - accuracy: 0.8664\n",
      "Epoch 17: val_accuracy improved from 0.83627 to 0.83860, saving model to best_model1.hdf5\n",
      "645/645 [==============================] - 25s 40ms/step - loss: 0.3605 - accuracy: 0.8664 - val_loss: 0.4265 - val_accuracy: 0.8386\n",
      "Epoch 18/70\n",
      "645/645 [==============================] - ETA: 0s - loss: 0.3585 - accuracy: 0.8670\n",
      "Epoch 18: val_accuracy did not improve from 0.83860\n",
      "645/645 [==============================] - 26s 40ms/step - loss: 0.3585 - accuracy: 0.8670 - val_loss: 0.4296 - val_accuracy: 0.8367\n",
      "Epoch 19/70\n",
      "645/645 [==============================] - ETA: 0s - loss: 0.3530 - accuracy: 0.8716\n",
      "Epoch 19: val_accuracy did not improve from 0.83860\n",
      "645/645 [==============================] - 26s 40ms/step - loss: 0.3530 - accuracy: 0.8716 - val_loss: 0.4346 - val_accuracy: 0.8364\n",
      "Epoch 20/70\n",
      "645/645 [==============================] - ETA: 0s - loss: 0.3516 - accuracy: 0.8700\n",
      "Epoch 20: val_accuracy did not improve from 0.83860\n",
      "645/645 [==============================] - 26s 40ms/step - loss: 0.3516 - accuracy: 0.8700 - val_loss: 0.4301 - val_accuracy: 0.8367\n",
      "Epoch 21/70\n",
      "645/645 [==============================] - ETA: 0s - loss: 0.3496 - accuracy: 0.8723\n",
      "Epoch 21: val_accuracy improved from 0.83860 to 0.83903, saving model to best_model1.hdf5\n",
      "645/645 [==============================] - 26s 40ms/step - loss: 0.3496 - accuracy: 0.8723 - val_loss: 0.4267 - val_accuracy: 0.8390\n",
      "Epoch 22/70\n",
      "645/645 [==============================] - ETA: 0s - loss: 0.3453 - accuracy: 0.8706\n",
      "Epoch 22: val_accuracy did not improve from 0.83903\n",
      "645/645 [==============================] - 26s 40ms/step - loss: 0.3453 - accuracy: 0.8706 - val_loss: 0.4385 - val_accuracy: 0.8351\n",
      "Epoch 23/70\n",
      "645/645 [==============================] - ETA: 0s - loss: 0.3447 - accuracy: 0.8742\n",
      "Epoch 23: val_accuracy improved from 0.83903 to 0.84093, saving model to best_model1.hdf5\n",
      "645/645 [==============================] - 26s 40ms/step - loss: 0.3447 - accuracy: 0.8742 - val_loss: 0.4269 - val_accuracy: 0.8409\n",
      "Epoch 24/70\n",
      "645/645 [==============================] - ETA: 0s - loss: 0.3468 - accuracy: 0.8707\n",
      "Epoch 24: val_accuracy did not improve from 0.84093\n",
      "645/645 [==============================] - 26s 40ms/step - loss: 0.3468 - accuracy: 0.8707 - val_loss: 0.4269 - val_accuracy: 0.8392\n",
      "Epoch 25/70\n",
      "644/645 [============================>.] - ETA: 0s - loss: 0.3420 - accuracy: 0.8744\n",
      "Epoch 25: val_accuracy did not improve from 0.84093\n",
      "645/645 [==============================] - 26s 41ms/step - loss: 0.3420 - accuracy: 0.8744 - val_loss: 0.4272 - val_accuracy: 0.8401\n",
      "Epoch 26/70\n",
      "645/645 [==============================] - ETA: 0s - loss: 0.3376 - accuracy: 0.8766\n",
      "Epoch 26: val_accuracy did not improve from 0.84093\n",
      "645/645 [==============================] - 26s 40ms/step - loss: 0.3376 - accuracy: 0.8766 - val_loss: 0.4278 - val_accuracy: 0.8405\n",
      "Epoch 27/70\n",
      "645/645 [==============================] - ETA: 0s - loss: 0.3413 - accuracy: 0.8746\n",
      "Epoch 27: val_accuracy improved from 0.84093 to 0.84369, saving model to best_model1.hdf5\n",
      "645/645 [==============================] - 26s 40ms/step - loss: 0.3413 - accuracy: 0.8746 - val_loss: 0.4258 - val_accuracy: 0.8437\n",
      "Epoch 28/70\n",
      "645/645 [==============================] - ETA: 0s - loss: 0.3331 - accuracy: 0.8771\n",
      "Epoch 28: val_accuracy did not improve from 0.84369\n",
      "645/645 [==============================] - 26s 40ms/step - loss: 0.3331 - accuracy: 0.8771 - val_loss: 0.4351 - val_accuracy: 0.8345\n",
      "Epoch 29/70\n",
      "645/645 [==============================] - ETA: 0s - loss: 0.3366 - accuracy: 0.8787\n",
      "Epoch 29: val_accuracy did not improve from 0.84369\n",
      "645/645 [==============================] - 26s 40ms/step - loss: 0.3366 - accuracy: 0.8787 - val_loss: 0.4273 - val_accuracy: 0.8428\n",
      "Epoch 30/70\n",
      "645/645 [==============================] - ETA: 0s - loss: 0.3325 - accuracy: 0.8772\n",
      "Epoch 30: val_accuracy did not improve from 0.84369\n",
      "645/645 [==============================] - 26s 40ms/step - loss: 0.3325 - accuracy: 0.8772 - val_loss: 0.4268 - val_accuracy: 0.8386\n",
      "Epoch 31/70\n",
      "644/645 [============================>.] - ETA: 0s - loss: 0.3329 - accuracy: 0.8779\n",
      "Epoch 31: val_accuracy did not improve from 0.84369\n",
      "645/645 [==============================] - 26s 40ms/step - loss: 0.3329 - accuracy: 0.8779 - val_loss: 0.4242 - val_accuracy: 0.8425\n",
      "Epoch 32/70\n",
      "645/645 [==============================] - ETA: 0s - loss: 0.3298 - accuracy: 0.8791\n",
      "Epoch 32: val_accuracy did not improve from 0.84369\n",
      "645/645 [==============================] - 26s 40ms/step - loss: 0.3298 - accuracy: 0.8791 - val_loss: 0.4237 - val_accuracy: 0.8414\n",
      "Epoch 33/70\n",
      "645/645 [==============================] - ETA: 0s - loss: 0.3294 - accuracy: 0.8789\n",
      "Epoch 33: val_accuracy did not improve from 0.84369\n",
      "645/645 [==============================] - 26s 40ms/step - loss: 0.3294 - accuracy: 0.8789 - val_loss: 0.4262 - val_accuracy: 0.8411\n",
      "Epoch 34/70\n",
      "645/645 [==============================] - ETA: 0s - loss: 0.3226 - accuracy: 0.8810\n",
      "Epoch 34: val_accuracy did not improve from 0.84369\n",
      "645/645 [==============================] - 26s 40ms/step - loss: 0.3226 - accuracy: 0.8810 - val_loss: 0.4319 - val_accuracy: 0.8412\n",
      "Epoch 35/70\n",
      "645/645 [==============================] - ETA: 0s - loss: 0.3253 - accuracy: 0.8801\n",
      "Epoch 35: val_accuracy did not improve from 0.84369\n",
      "645/645 [==============================] - 26s 40ms/step - loss: 0.3253 - accuracy: 0.8801 - val_loss: 0.4318 - val_accuracy: 0.8409\n",
      "Epoch 36/70\n",
      "645/645 [==============================] - ETA: 0s - loss: 0.3278 - accuracy: 0.8797\n",
      "Epoch 36: val_accuracy did not improve from 0.84369\n",
      "645/645 [==============================] - 26s 40ms/step - loss: 0.3278 - accuracy: 0.8797 - val_loss: 0.4240 - val_accuracy: 0.8414\n",
      "Epoch 37/70\n",
      "645/645 [==============================] - ETA: 0s - loss: 0.3213 - accuracy: 0.8820\n",
      "Epoch 37: val_accuracy did not improve from 0.84369\n",
      "645/645 [==============================] - 26s 40ms/step - loss: 0.3213 - accuracy: 0.8820 - val_loss: 0.4302 - val_accuracy: 0.8411\n",
      "Epoch 38/70\n",
      "645/645 [==============================] - ETA: 0s - loss: 0.3192 - accuracy: 0.8820\n",
      "Epoch 38: val_accuracy did not improve from 0.84369\n",
      "645/645 [==============================] - 26s 40ms/step - loss: 0.3192 - accuracy: 0.8820 - val_loss: 0.4288 - val_accuracy: 0.8414\n",
      "Epoch 39/70\n",
      "645/645 [==============================] - ETA: 0s - loss: 0.3164 - accuracy: 0.8847\n",
      "Epoch 39: val_accuracy did not improve from 0.84369\n",
      "645/645 [==============================] - 25s 39ms/step - loss: 0.3164 - accuracy: 0.8847 - val_loss: 0.4284 - val_accuracy: 0.8409\n",
      "Epoch 40/70\n",
      "644/645 [============================>.] - ETA: 0s - loss: 0.3195 - accuracy: 0.8832\n",
      "Epoch 40: val_accuracy did not improve from 0.84369\n",
      "645/645 [==============================] - 26s 40ms/step - loss: 0.3195 - accuracy: 0.8833 - val_loss: 0.4314 - val_accuracy: 0.8409\n",
      "Epoch 41/70\n",
      "644/645 [============================>.] - ETA: 0s - loss: 0.3178 - accuracy: 0.8833\n",
      "Epoch 41: val_accuracy did not improve from 0.84369\n",
      "645/645 [==============================] - 27s 41ms/step - loss: 0.3178 - accuracy: 0.8833 - val_loss: 0.4379 - val_accuracy: 0.8409\n",
      "Epoch 42/70\n",
      "645/645 [==============================] - ETA: 0s - loss: 0.3155 - accuracy: 0.8839\n",
      "Epoch 42: val_accuracy did not improve from 0.84369\n",
      "645/645 [==============================] - 26s 40ms/step - loss: 0.3155 - accuracy: 0.8839 - val_loss: 0.4312 - val_accuracy: 0.8411\n",
      "Epoch 43/70\n",
      "645/645 [==============================] - ETA: 0s - loss: 0.3158 - accuracy: 0.8822\n",
      "Epoch 43: val_accuracy did not improve from 0.84369\n",
      "645/645 [==============================] - 25s 40ms/step - loss: 0.3158 - accuracy: 0.8822 - val_loss: 0.4345 - val_accuracy: 0.8414\n",
      "Epoch 44/70\n",
      "645/645 [==============================] - ETA: 0s - loss: 0.3155 - accuracy: 0.8858\n",
      "Epoch 44: val_accuracy did not improve from 0.84369\n",
      "645/645 [==============================] - 25s 39ms/step - loss: 0.3155 - accuracy: 0.8858 - val_loss: 0.4295 - val_accuracy: 0.8392\n",
      "Epoch 45/70\n",
      "645/645 [==============================] - ETA: 0s - loss: 0.3147 - accuracy: 0.8839\n",
      "Epoch 45: val_accuracy did not improve from 0.84369\n",
      "645/645 [==============================] - 26s 40ms/step - loss: 0.3147 - accuracy: 0.8839 - val_loss: 0.4354 - val_accuracy: 0.8395\n",
      "Epoch 46/70\n",
      "645/645 [==============================] - ETA: 0s - loss: 0.3105 - accuracy: 0.8857\n",
      "Epoch 46: val_accuracy did not improve from 0.84369\n",
      "645/645 [==============================] - 26s 40ms/step - loss: 0.3105 - accuracy: 0.8857 - val_loss: 0.4365 - val_accuracy: 0.8399\n",
      "Epoch 47/70\n",
      "645/645 [==============================] - ETA: 0s - loss: 0.3120 - accuracy: 0.8858\n",
      "Epoch 47: val_accuracy did not improve from 0.84369\n",
      "645/645 [==============================] - 26s 40ms/step - loss: 0.3120 - accuracy: 0.8858 - val_loss: 0.4258 - val_accuracy: 0.8424\n",
      "Epoch 48/70\n",
      "645/645 [==============================] - ETA: 0s - loss: 0.3088 - accuracy: 0.8869\n",
      "Epoch 48: val_accuracy did not improve from 0.84369\n",
      "645/645 [==============================] - 27s 42ms/step - loss: 0.3088 - accuracy: 0.8869 - val_loss: 0.4328 - val_accuracy: 0.8433\n",
      "Epoch 49/70\n",
      "645/645 [==============================] - ETA: 0s - loss: 0.3103 - accuracy: 0.8869\n",
      "Epoch 49: val_accuracy did not improve from 0.84369\n",
      "645/645 [==============================] - 26s 40ms/step - loss: 0.3103 - accuracy: 0.8869 - val_loss: 0.4310 - val_accuracy: 0.8437\n",
      "Epoch 50/70\n",
      "645/645 [==============================] - ETA: 0s - loss: 0.3073 - accuracy: 0.8890\n",
      "Epoch 50: val_accuracy did not improve from 0.84369\n",
      "645/645 [==============================] - 26s 40ms/step - loss: 0.3073 - accuracy: 0.8890 - val_loss: 0.4304 - val_accuracy: 0.8433\n",
      "Epoch 51/70\n",
      "645/645 [==============================] - ETA: 0s - loss: 0.3097 - accuracy: 0.8883\n",
      "Epoch 51: val_accuracy did not improve from 0.84369\n",
      "645/645 [==============================] - 26s 40ms/step - loss: 0.3097 - accuracy: 0.8883 - val_loss: 0.4311 - val_accuracy: 0.8425\n",
      "Epoch 52/70\n",
      "645/645 [==============================] - ETA: 0s - loss: 0.3077 - accuracy: 0.8892\n",
      "Epoch 52: val_accuracy did not improve from 0.84369\n",
      "645/645 [==============================] - 27s 42ms/step - loss: 0.3077 - accuracy: 0.8892 - val_loss: 0.4372 - val_accuracy: 0.8383\n",
      "Epoch 53/70\n",
      "644/645 [============================>.] - ETA: 0s - loss: 0.3062 - accuracy: 0.8889\n",
      "Epoch 53: val_accuracy did not improve from 0.84369\n",
      "645/645 [==============================] - 26s 41ms/step - loss: 0.3063 - accuracy: 0.8889 - val_loss: 0.4345 - val_accuracy: 0.8418\n",
      "Epoch 54/70\n",
      "644/645 [============================>.] - ETA: 0s - loss: 0.3011 - accuracy: 0.8916\n",
      "Epoch 54: val_accuracy improved from 0.84369 to 0.84398, saving model to best_model1.hdf5\n",
      "645/645 [==============================] - 26s 41ms/step - loss: 0.3012 - accuracy: 0.8916 - val_loss: 0.4344 - val_accuracy: 0.8440\n",
      "Epoch 55/70\n",
      "645/645 [==============================] - ETA: 0s - loss: 0.3023 - accuracy: 0.8893\n",
      "Epoch 55: val_accuracy did not improve from 0.84398\n",
      "645/645 [==============================] - 26s 41ms/step - loss: 0.3023 - accuracy: 0.8893 - val_loss: 0.4434 - val_accuracy: 0.8402\n",
      "Epoch 56/70\n",
      "645/645 [==============================] - ETA: 0s - loss: 0.3035 - accuracy: 0.8908\n",
      "Epoch 56: val_accuracy did not improve from 0.84398\n",
      "645/645 [==============================] - 26s 40ms/step - loss: 0.3035 - accuracy: 0.8908 - val_loss: 0.4339 - val_accuracy: 0.8430\n",
      "Epoch 57/70\n",
      "645/645 [==============================] - ETA: 0s - loss: 0.3047 - accuracy: 0.8873\n",
      "Epoch 57: val_accuracy did not improve from 0.84398\n",
      "645/645 [==============================] - 27s 41ms/step - loss: 0.3047 - accuracy: 0.8873 - val_loss: 0.4476 - val_accuracy: 0.8427\n",
      "Epoch 58/70\n",
      "644/645 [============================>.] - ETA: 0s - loss: 0.3044 - accuracy: 0.8875\n",
      "Epoch 58: val_accuracy improved from 0.84398 to 0.84413, saving model to best_model1.hdf5\n",
      "645/645 [==============================] - 26s 41ms/step - loss: 0.3044 - accuracy: 0.8875 - val_loss: 0.4377 - val_accuracy: 0.8441\n",
      "Epoch 59/70\n",
      "645/645 [==============================] - ETA: 0s - loss: 0.3022 - accuracy: 0.8907\n",
      "Epoch 59: val_accuracy did not improve from 0.84413\n",
      "645/645 [==============================] - 27s 41ms/step - loss: 0.3022 - accuracy: 0.8907 - val_loss: 0.4417 - val_accuracy: 0.8418\n",
      "Epoch 60/70\n",
      "644/645 [============================>.] - ETA: 0s - loss: 0.3007 - accuracy: 0.8908\n",
      "Epoch 60: val_accuracy did not improve from 0.84413\n",
      "645/645 [==============================] - 27s 41ms/step - loss: 0.3007 - accuracy: 0.8908 - val_loss: 0.4437 - val_accuracy: 0.8425\n",
      "Epoch 61/70\n",
      "645/645 [==============================] - ETA: 0s - loss: 0.2968 - accuracy: 0.8918\n",
      "Epoch 61: val_accuracy did not improve from 0.84413\n",
      "645/645 [==============================] - 26s 41ms/step - loss: 0.2968 - accuracy: 0.8918 - val_loss: 0.4465 - val_accuracy: 0.8412\n",
      "Epoch 62/70\n",
      "645/645 [==============================] - ETA: 0s - loss: 0.2963 - accuracy: 0.8938\n",
      "Epoch 62: val_accuracy did not improve from 0.84413\n",
      "645/645 [==============================] - 27s 41ms/step - loss: 0.2963 - accuracy: 0.8938 - val_loss: 0.4421 - val_accuracy: 0.8417\n",
      "Epoch 63/70\n",
      "644/645 [============================>.] - ETA: 0s - loss: 0.2979 - accuracy: 0.8931\n",
      "Epoch 63: val_accuracy did not improve from 0.84413\n",
      "645/645 [==============================] - 26s 40ms/step - loss: 0.2980 - accuracy: 0.8931 - val_loss: 0.4384 - val_accuracy: 0.8419\n",
      "Epoch 64/70\n",
      "645/645 [==============================] - ETA: 0s - loss: 0.2967 - accuracy: 0.8937\n",
      "Epoch 64: val_accuracy improved from 0.84413 to 0.84442, saving model to best_model1.hdf5\n",
      "645/645 [==============================] - 26s 40ms/step - loss: 0.2967 - accuracy: 0.8937 - val_loss: 0.4438 - val_accuracy: 0.8444\n",
      "Epoch 65/70\n",
      "644/645 [============================>.] - ETA: 0s - loss: 0.2960 - accuracy: 0.8922\n",
      "Epoch 65: val_accuracy did not improve from 0.84442\n",
      "645/645 [==============================] - 26s 40ms/step - loss: 0.2960 - accuracy: 0.8921 - val_loss: 0.4451 - val_accuracy: 0.8395\n",
      "Epoch 66/70\n",
      "645/645 [==============================] - ETA: 0s - loss: 0.2949 - accuracy: 0.8942\n",
      "Epoch 66: val_accuracy did not improve from 0.84442\n",
      "645/645 [==============================] - 26s 40ms/step - loss: 0.2949 - accuracy: 0.8942 - val_loss: 0.4448 - val_accuracy: 0.8418\n",
      "Epoch 67/70\n",
      "644/645 [============================>.] - ETA: 0s - loss: 0.2944 - accuracy: 0.8936\n",
      "Epoch 67: val_accuracy did not improve from 0.84442\n",
      "645/645 [==============================] - 26s 40ms/step - loss: 0.2944 - accuracy: 0.8936 - val_loss: 0.4436 - val_accuracy: 0.8422\n",
      "Epoch 68/70\n",
      "645/645 [==============================] - ETA: 0s - loss: 0.2905 - accuracy: 0.8950\n",
      "Epoch 68: val_accuracy did not improve from 0.84442\n",
      "645/645 [==============================] - 27s 41ms/step - loss: 0.2905 - accuracy: 0.8950 - val_loss: 0.4516 - val_accuracy: 0.8409\n",
      "Epoch 69/70\n",
      "645/645 [==============================] - ETA: 0s - loss: 0.2895 - accuracy: 0.8946\n",
      "Epoch 69: val_accuracy did not improve from 0.84442\n",
      "645/645 [==============================] - 27s 41ms/step - loss: 0.2895 - accuracy: 0.8946 - val_loss: 0.4419 - val_accuracy: 0.8415\n",
      "Epoch 70/70\n",
      "644/645 [============================>.] - ETA: 0s - loss: 0.2912 - accuracy: 0.8966\n",
      "Epoch 70: val_accuracy did not improve from 0.84442\n",
      "645/645 [==============================] - 26s 41ms/step - loss: 0.2912 - accuracy: 0.8966 - val_loss: 0.4449 - val_accuracy: 0.8405\n"
     ]
    }
   ],
   "source": [
    "model1 = Sequential()\n",
    "model1.add(layers.Embedding(max_words, 20))\n",
    "model1.add(layers.LSTM(15, dropout=0.5))\n",
    "model1.add(layers.Dense(3, activation='softmax'))\n",
    "model1.compile(optimizer='rmsprop', loss='categorical_crossentropy', metrics=['accuracy'])\n",
    "checkpoint1 = ModelCheckpoint(\"best_model1.hdf5\", monitor='val_accuracy', verbose=1, save_best_only=True, mode='auto', period=1, save_weights_only=False)\n",
    "history1 = model1.fit(X_train, y_train, epochs=70, validation_data=(X_test, y_test), callbacks=[checkpoint1])"
   ]
  },
  {
   "cell_type": "code",
   "execution_count": 23,
   "id": "e3892f0f-eecb-423f-9a35-d136ffcbac72",
   "metadata": {
    "tags": []
   },
   "outputs": [
    {
     "name": "stdout",
     "output_type": "stream",
     "text": [
      "WARNING:tensorflow:`period` argument is deprecated. Please use `save_freq` to specify the frequency in number of batches seen.\n",
      "Epoch 1/70\n"
     ]
    },
    {
     "name": "stderr",
     "output_type": "stream",
     "text": [
      "2023-05-01 11:06:30.362251: I tensorflow/core/common_runtime/executor.cc:1197] [/device:CPU:0] (DEBUG INFO) Executor start aborting (this does not indicate an error and you can ignore this message): INVALID_ARGUMENT: You must feed a value for placeholder tensor 'gradients/split_2_grad/concat/split_2/split_dim' with dtype int32\n",
      "\t [[{{node gradients/split_2_grad/concat/split_2/split_dim}}]]\n",
      "2023-05-01 11:06:30.363201: I tensorflow/core/common_runtime/executor.cc:1197] [/device:CPU:0] (DEBUG INFO) Executor start aborting (this does not indicate an error and you can ignore this message): INVALID_ARGUMENT: You must feed a value for placeholder tensor 'gradients/split_grad/concat/split/split_dim' with dtype int32\n",
      "\t [[{{node gradients/split_grad/concat/split/split_dim}}]]\n",
      "2023-05-01 11:06:30.363857: I tensorflow/core/common_runtime/executor.cc:1197] [/device:CPU:0] (DEBUG INFO) Executor start aborting (this does not indicate an error and you can ignore this message): INVALID_ARGUMENT: You must feed a value for placeholder tensor 'gradients/split_1_grad/concat/split_1/split_dim' with dtype int32\n",
      "\t [[{{node gradients/split_1_grad/concat/split_1/split_dim}}]]\n",
      "2023-05-01 11:06:30.441811: I tensorflow/core/common_runtime/executor.cc:1197] [/device:CPU:0] (DEBUG INFO) Executor start aborting (this does not indicate an error and you can ignore this message): INVALID_ARGUMENT: You must feed a value for placeholder tensor 'gradients/ReverseV2_grad/ReverseV2/ReverseV2/axis' with dtype int32 and shape [1]\n",
      "\t [[{{node gradients/ReverseV2_grad/ReverseV2/ReverseV2/axis}}]]\n",
      "2023-05-01 11:06:30.466996: I tensorflow/core/common_runtime/executor.cc:1197] [/device:CPU:0] (DEBUG INFO) Executor start aborting (this does not indicate an error and you can ignore this message): INVALID_ARGUMENT: You must feed a value for placeholder tensor 'gradients/split_2_grad/concat/split_2/split_dim' with dtype int32\n",
      "\t [[{{node gradients/split_2_grad/concat/split_2/split_dim}}]]\n",
      "2023-05-01 11:06:30.467682: I tensorflow/core/common_runtime/executor.cc:1197] [/device:CPU:0] (DEBUG INFO) Executor start aborting (this does not indicate an error and you can ignore this message): INVALID_ARGUMENT: You must feed a value for placeholder tensor 'gradients/split_grad/concat/split/split_dim' with dtype int32\n",
      "\t [[{{node gradients/split_grad/concat/split/split_dim}}]]\n",
      "2023-05-01 11:06:30.468267: I tensorflow/core/common_runtime/executor.cc:1197] [/device:CPU:0] (DEBUG INFO) Executor start aborting (this does not indicate an error and you can ignore this message): INVALID_ARGUMENT: You must feed a value for placeholder tensor 'gradients/split_1_grad/concat/split_1/split_dim' with dtype int32\n",
      "\t [[{{node gradients/split_1_grad/concat/split_1/split_dim}}]]\n",
      "2023-05-01 11:06:30.641007: I tensorflow/core/common_runtime/executor.cc:1197] [/device:CPU:0] (DEBUG INFO) Executor start aborting (this does not indicate an error and you can ignore this message): INVALID_ARGUMENT: You must feed a value for placeholder tensor 'gradients/split_2_grad/concat/split_2/split_dim' with dtype int32\n",
      "\t [[{{node gradients/split_2_grad/concat/split_2/split_dim}}]]\n",
      "2023-05-01 11:06:30.642012: I tensorflow/core/common_runtime/executor.cc:1197] [/device:CPU:0] (DEBUG INFO) Executor start aborting (this does not indicate an error and you can ignore this message): INVALID_ARGUMENT: You must feed a value for placeholder tensor 'gradients/split_grad/concat/split/split_dim' with dtype int32\n",
      "\t [[{{node gradients/split_grad/concat/split/split_dim}}]]\n",
      "2023-05-01 11:06:30.642761: I tensorflow/core/common_runtime/executor.cc:1197] [/device:CPU:0] (DEBUG INFO) Executor start aborting (this does not indicate an error and you can ignore this message): INVALID_ARGUMENT: You must feed a value for placeholder tensor 'gradients/split_1_grad/concat/split_1/split_dim' with dtype int32\n",
      "\t [[{{node gradients/split_1_grad/concat/split_1/split_dim}}]]\n",
      "2023-05-01 11:06:30.731731: I tensorflow/core/common_runtime/executor.cc:1197] [/device:CPU:0] (DEBUG INFO) Executor start aborting (this does not indicate an error and you can ignore this message): INVALID_ARGUMENT: You must feed a value for placeholder tensor 'gradients/ReverseV2_grad/ReverseV2/ReverseV2/axis' with dtype int32 and shape [1]\n",
      "\t [[{{node gradients/ReverseV2_grad/ReverseV2/ReverseV2/axis}}]]\n",
      "2023-05-01 11:06:30.761476: I tensorflow/core/common_runtime/executor.cc:1197] [/device:CPU:0] (DEBUG INFO) Executor start aborting (this does not indicate an error and you can ignore this message): INVALID_ARGUMENT: You must feed a value for placeholder tensor 'gradients/split_2_grad/concat/split_2/split_dim' with dtype int32\n",
      "\t [[{{node gradients/split_2_grad/concat/split_2/split_dim}}]]\n",
      "2023-05-01 11:06:30.762263: I tensorflow/core/common_runtime/executor.cc:1197] [/device:CPU:0] (DEBUG INFO) Executor start aborting (this does not indicate an error and you can ignore this message): INVALID_ARGUMENT: You must feed a value for placeholder tensor 'gradients/split_grad/concat/split/split_dim' with dtype int32\n",
      "\t [[{{node gradients/split_grad/concat/split/split_dim}}]]\n",
      "2023-05-01 11:06:30.762921: I tensorflow/core/common_runtime/executor.cc:1197] [/device:CPU:0] (DEBUG INFO) Executor start aborting (this does not indicate an error and you can ignore this message): INVALID_ARGUMENT: You must feed a value for placeholder tensor 'gradients/split_1_grad/concat/split_1/split_dim' with dtype int32\n",
      "\t [[{{node gradients/split_1_grad/concat/split_1/split_dim}}]]\n",
      "2023-05-01 11:06:31.027890: I tensorflow/core/common_runtime/executor.cc:1197] [/device:CPU:0] (DEBUG INFO) Executor start aborting (this does not indicate an error and you can ignore this message): INVALID_ARGUMENT: You must feed a value for placeholder tensor 'gradients/ReverseV2_grad/ReverseV2/ReverseV2/axis' with dtype int32 and shape [1]\n",
      "\t [[{{node gradients/ReverseV2_grad/ReverseV2/ReverseV2/axis}}]]\n",
      "2023-05-01 11:06:31.238862: I tensorflow/core/common_runtime/executor.cc:1197] [/device:CPU:0] (DEBUG INFO) Executor start aborting (this does not indicate an error and you can ignore this message): INVALID_ARGUMENT: You must feed a value for placeholder tensor 'gradients/split_2_grad/concat/split_2/split_dim' with dtype int32\n",
      "\t [[{{node gradients/split_2_grad/concat/split_2/split_dim}}]]\n",
      "2023-05-01 11:06:31.240270: I tensorflow/core/common_runtime/executor.cc:1197] [/device:CPU:0] (DEBUG INFO) Executor start aborting (this does not indicate an error and you can ignore this message): INVALID_ARGUMENT: You must feed a value for placeholder tensor 'gradients/split_grad/concat/split/split_dim' with dtype int32\n",
      "\t [[{{node gradients/split_grad/concat/split/split_dim}}]]\n",
      "2023-05-01 11:06:31.241138: I tensorflow/core/common_runtime/executor.cc:1197] [/device:CPU:0] (DEBUG INFO) Executor start aborting (this does not indicate an error and you can ignore this message): INVALID_ARGUMENT: You must feed a value for placeholder tensor 'gradients/split_1_grad/concat/split_1/split_dim' with dtype int32\n",
      "\t [[{{node gradients/split_1_grad/concat/split_1/split_dim}}]]\n",
      "2023-05-01 11:06:31.335824: I tensorflow/core/common_runtime/executor.cc:1197] [/device:CPU:0] (DEBUG INFO) Executor start aborting (this does not indicate an error and you can ignore this message): INVALID_ARGUMENT: You must feed a value for placeholder tensor 'gradients/ReverseV2_grad/ReverseV2/ReverseV2/axis' with dtype int32 and shape [1]\n",
      "\t [[{{node gradients/ReverseV2_grad/ReverseV2/ReverseV2/axis}}]]\n",
      "2023-05-01 11:06:31.362316: I tensorflow/core/common_runtime/executor.cc:1197] [/device:CPU:0] (DEBUG INFO) Executor start aborting (this does not indicate an error and you can ignore this message): INVALID_ARGUMENT: You must feed a value for placeholder tensor 'gradients/split_2_grad/concat/split_2/split_dim' with dtype int32\n",
      "\t [[{{node gradients/split_2_grad/concat/split_2/split_dim}}]]\n",
      "2023-05-01 11:06:31.363042: I tensorflow/core/common_runtime/executor.cc:1197] [/device:CPU:0] (DEBUG INFO) Executor start aborting (this does not indicate an error and you can ignore this message): INVALID_ARGUMENT: You must feed a value for placeholder tensor 'gradients/split_grad/concat/split/split_dim' with dtype int32\n",
      "\t [[{{node gradients/split_grad/concat/split/split_dim}}]]\n",
      "2023-05-01 11:06:31.363680: I tensorflow/core/common_runtime/executor.cc:1197] [/device:CPU:0] (DEBUG INFO) Executor start aborting (this does not indicate an error and you can ignore this message): INVALID_ARGUMENT: You must feed a value for placeholder tensor 'gradients/split_1_grad/concat/split_1/split_dim' with dtype int32\n",
      "\t [[{{node gradients/split_1_grad/concat/split_1/split_dim}}]]\n",
      "2023-05-01 11:06:31.635490: I tensorflow/core/common_runtime/executor.cc:1197] [/device:CPU:0] (DEBUG INFO) Executor start aborting (this does not indicate an error and you can ignore this message): INVALID_ARGUMENT: You must feed a value for placeholder tensor 'gradients/ReverseV2_grad/ReverseV2/ReverseV2/axis' with dtype int32 and shape [1]\n",
      "\t [[{{node gradients/ReverseV2_grad/ReverseV2/ReverseV2/axis}}]]\n"
     ]
    },
    {
     "name": "stdout",
     "output_type": "stream",
     "text": [
      "644/645 [============================>.] - ETA: 0s - loss: 0.7892 - accuracy: 0.6579"
     ]
    },
    {
     "name": "stderr",
     "output_type": "stream",
     "text": [
      "2023-05-01 11:06:58.236665: I tensorflow/core/common_runtime/executor.cc:1197] [/device:CPU:0] (DEBUG INFO) Executor start aborting (this does not indicate an error and you can ignore this message): INVALID_ARGUMENT: You must feed a value for placeholder tensor 'gradients/split_2_grad/concat/split_2/split_dim' with dtype int32\n",
      "\t [[{{node gradients/split_2_grad/concat/split_2/split_dim}}]]\n",
      "2023-05-01 11:06:58.237715: I tensorflow/core/common_runtime/executor.cc:1197] [/device:CPU:0] (DEBUG INFO) Executor start aborting (this does not indicate an error and you can ignore this message): INVALID_ARGUMENT: You must feed a value for placeholder tensor 'gradients/split_grad/concat/split/split_dim' with dtype int32\n",
      "\t [[{{node gradients/split_grad/concat/split/split_dim}}]]\n",
      "2023-05-01 11:06:58.238726: I tensorflow/core/common_runtime/executor.cc:1197] [/device:CPU:0] (DEBUG INFO) Executor start aborting (this does not indicate an error and you can ignore this message): INVALID_ARGUMENT: You must feed a value for placeholder tensor 'gradients/split_1_grad/concat/split_1/split_dim' with dtype int32\n",
      "\t [[{{node gradients/split_1_grad/concat/split_1/split_dim}}]]\n",
      "2023-05-01 11:06:58.333241: I tensorflow/core/common_runtime/executor.cc:1197] [/device:CPU:0] (DEBUG INFO) Executor start aborting (this does not indicate an error and you can ignore this message): INVALID_ARGUMENT: You must feed a value for placeholder tensor 'gradients/ReverseV2_grad/ReverseV2/ReverseV2/axis' with dtype int32 and shape [1]\n",
      "\t [[{{node gradients/ReverseV2_grad/ReverseV2/ReverseV2/axis}}]]\n",
      "2023-05-01 11:06:58.362463: I tensorflow/core/common_runtime/executor.cc:1197] [/device:CPU:0] (DEBUG INFO) Executor start aborting (this does not indicate an error and you can ignore this message): INVALID_ARGUMENT: You must feed a value for placeholder tensor 'gradients/split_2_grad/concat/split_2/split_dim' with dtype int32\n",
      "\t [[{{node gradients/split_2_grad/concat/split_2/split_dim}}]]\n",
      "2023-05-01 11:06:58.363411: I tensorflow/core/common_runtime/executor.cc:1197] [/device:CPU:0] (DEBUG INFO) Executor start aborting (this does not indicate an error and you can ignore this message): INVALID_ARGUMENT: You must feed a value for placeholder tensor 'gradients/split_grad/concat/split/split_dim' with dtype int32\n",
      "\t [[{{node gradients/split_grad/concat/split/split_dim}}]]\n",
      "2023-05-01 11:06:58.364116: I tensorflow/core/common_runtime/executor.cc:1197] [/device:CPU:0] (DEBUG INFO) Executor start aborting (this does not indicate an error and you can ignore this message): INVALID_ARGUMENT: You must feed a value for placeholder tensor 'gradients/split_1_grad/concat/split_1/split_dim' with dtype int32\n",
      "\t [[{{node gradients/split_1_grad/concat/split_1/split_dim}}]]\n"
     ]
    },
    {
     "name": "stdout",
     "output_type": "stream",
     "text": [
      "\n",
      "Epoch 1: val_accuracy improved from -inf to 0.74385, saving model to best_model2.hdf5\n",
      "645/645 [==============================] - 30s 44ms/step - loss: 0.7891 - accuracy: 0.6579 - val_loss: 0.6310 - val_accuracy: 0.7439\n",
      "Epoch 2/70\n",
      "645/645 [==============================] - ETA: 0s - loss: 0.5790 - accuracy: 0.7674\n",
      "Epoch 2: val_accuracy improved from 0.74385 to 0.77179, saving model to best_model2.hdf5\n",
      "645/645 [==============================] - 27s 43ms/step - loss: 0.5790 - accuracy: 0.7674 - val_loss: 0.5500 - val_accuracy: 0.7718\n",
      "Epoch 3/70\n",
      "645/645 [==============================] - ETA: 0s - loss: 0.5065 - accuracy: 0.8010\n",
      "Epoch 3: val_accuracy improved from 0.77179 to 0.80032, saving model to best_model2.hdf5\n",
      "645/645 [==============================] - 28s 43ms/step - loss: 0.5065 - accuracy: 0.8010 - val_loss: 0.5055 - val_accuracy: 0.8003\n",
      "Epoch 4/70\n",
      "644/645 [============================>.] - ETA: 0s - loss: 0.4715 - accuracy: 0.8197\n",
      "Epoch 4: val_accuracy improved from 0.80032 to 0.81735, saving model to best_model2.hdf5\n",
      "645/645 [==============================] - 28s 43ms/step - loss: 0.4715 - accuracy: 0.8197 - val_loss: 0.4776 - val_accuracy: 0.8173\n",
      "Epoch 5/70\n",
      "645/645 [==============================] - ETA: 0s - loss: 0.4527 - accuracy: 0.8274\n",
      "Epoch 5: val_accuracy improved from 0.81735 to 0.82099, saving model to best_model2.hdf5\n",
      "645/645 [==============================] - 28s 43ms/step - loss: 0.4527 - accuracy: 0.8274 - val_loss: 0.4664 - val_accuracy: 0.8210\n",
      "Epoch 6/70\n",
      "644/645 [============================>.] - ETA: 0s - loss: 0.4328 - accuracy: 0.8372\n",
      "Epoch 6: val_accuracy did not improve from 0.82099\n",
      "645/645 [==============================] - 28s 43ms/step - loss: 0.4328 - accuracy: 0.8372 - val_loss: 0.4573 - val_accuracy: 0.8192\n",
      "Epoch 7/70\n",
      "644/645 [============================>.] - ETA: 0s - loss: 0.4202 - accuracy: 0.8419\n",
      "Epoch 7: val_accuracy did not improve from 0.82099\n",
      "645/645 [==============================] - 27s 43ms/step - loss: 0.4203 - accuracy: 0.8419 - val_loss: 0.4644 - val_accuracy: 0.8136\n",
      "Epoch 8/70\n",
      "644/645 [============================>.] - ETA: 0s - loss: 0.4092 - accuracy: 0.8463\n",
      "Epoch 8: val_accuracy did not improve from 0.82099\n",
      "645/645 [==============================] - 28s 43ms/step - loss: 0.4093 - accuracy: 0.8462 - val_loss: 0.4589 - val_accuracy: 0.8192\n",
      "Epoch 9/70\n",
      "644/645 [============================>.] - ETA: 0s - loss: 0.3991 - accuracy: 0.8506\n",
      "Epoch 9: val_accuracy improved from 0.82099 to 0.83117, saving model to best_model2.hdf5\n",
      "645/645 [==============================] - 29s 45ms/step - loss: 0.3993 - accuracy: 0.8506 - val_loss: 0.4418 - val_accuracy: 0.8312\n",
      "Epoch 10/70\n",
      "645/645 [==============================] - ETA: 0s - loss: 0.3921 - accuracy: 0.8535\n",
      "Epoch 10: val_accuracy did not improve from 0.83117\n",
      "645/645 [==============================] - 28s 43ms/step - loss: 0.3921 - accuracy: 0.8535 - val_loss: 0.4383 - val_accuracy: 0.8293\n",
      "Epoch 11/70\n",
      "644/645 [============================>.] - ETA: 0s - loss: 0.3863 - accuracy: 0.8548\n",
      "Epoch 11: val_accuracy improved from 0.83117 to 0.83307, saving model to best_model2.hdf5\n",
      "645/645 [==============================] - 27s 43ms/step - loss: 0.3862 - accuracy: 0.8548 - val_loss: 0.4341 - val_accuracy: 0.8331\n",
      "Epoch 12/70\n",
      "644/645 [============================>.] - ETA: 0s - loss: 0.3773 - accuracy: 0.8599\n",
      "Epoch 12: val_accuracy improved from 0.83307 to 0.83394, saving model to best_model2.hdf5\n",
      "645/645 [==============================] - 28s 43ms/step - loss: 0.3774 - accuracy: 0.8598 - val_loss: 0.4332 - val_accuracy: 0.8339\n",
      "Epoch 13/70\n",
      "645/645 [==============================] - ETA: 0s - loss: 0.3703 - accuracy: 0.8623\n",
      "Epoch 13: val_accuracy improved from 0.83394 to 0.83670, saving model to best_model2.hdf5\n",
      "645/645 [==============================] - 28s 43ms/step - loss: 0.3703 - accuracy: 0.8623 - val_loss: 0.4327 - val_accuracy: 0.8367\n",
      "Epoch 14/70\n",
      "644/645 [============================>.] - ETA: 0s - loss: 0.3663 - accuracy: 0.8638\n",
      "Epoch 14: val_accuracy did not improve from 0.83670\n",
      "645/645 [==============================] - 28s 43ms/step - loss: 0.3663 - accuracy: 0.8638 - val_loss: 0.4376 - val_accuracy: 0.8361\n",
      "Epoch 15/70\n",
      "645/645 [==============================] - ETA: 0s - loss: 0.3615 - accuracy: 0.8663\n",
      "Epoch 15: val_accuracy did not improve from 0.83670\n",
      "645/645 [==============================] - 28s 43ms/step - loss: 0.3615 - accuracy: 0.8663 - val_loss: 0.4252 - val_accuracy: 0.8348\n",
      "Epoch 16/70\n",
      "644/645 [============================>.] - ETA: 0s - loss: 0.3540 - accuracy: 0.8696\n",
      "Epoch 16: val_accuracy improved from 0.83670 to 0.83714, saving model to best_model2.hdf5\n",
      "645/645 [==============================] - 28s 43ms/step - loss: 0.3540 - accuracy: 0.8696 - val_loss: 0.4263 - val_accuracy: 0.8371\n",
      "Epoch 17/70\n",
      "644/645 [============================>.] - ETA: 0s - loss: 0.3517 - accuracy: 0.8705\n",
      "Epoch 17: val_accuracy did not improve from 0.83714\n",
      "645/645 [==============================] - 29s 46ms/step - loss: 0.3517 - accuracy: 0.8705 - val_loss: 0.4320 - val_accuracy: 0.8358\n",
      "Epoch 18/70\n",
      "645/645 [==============================] - ETA: 0s - loss: 0.3499 - accuracy: 0.8698\n",
      "Epoch 18: val_accuracy improved from 0.83714 to 0.83743, saving model to best_model2.hdf5\n",
      "645/645 [==============================] - 28s 43ms/step - loss: 0.3499 - accuracy: 0.8698 - val_loss: 0.4394 - val_accuracy: 0.8374\n",
      "Epoch 19/70\n",
      "645/645 [==============================] - ETA: 0s - loss: 0.3464 - accuracy: 0.8737\n",
      "Epoch 19: val_accuracy improved from 0.83743 to 0.83801, saving model to best_model2.hdf5\n",
      "645/645 [==============================] - 28s 43ms/step - loss: 0.3464 - accuracy: 0.8737 - val_loss: 0.4277 - val_accuracy: 0.8380\n",
      "Epoch 20/70\n",
      "645/645 [==============================] - ETA: 0s - loss: 0.3450 - accuracy: 0.8731\n",
      "Epoch 20: val_accuracy did not improve from 0.83801\n",
      "645/645 [==============================] - 28s 43ms/step - loss: 0.3450 - accuracy: 0.8731 - val_loss: 0.4240 - val_accuracy: 0.8379\n",
      "Epoch 21/70\n",
      "645/645 [==============================] - ETA: 0s - loss: 0.3429 - accuracy: 0.8733\n",
      "Epoch 21: val_accuracy improved from 0.83801 to 0.84194, saving model to best_model2.hdf5\n",
      "645/645 [==============================] - 28s 43ms/step - loss: 0.3429 - accuracy: 0.8733 - val_loss: 0.4200 - val_accuracy: 0.8419\n",
      "Epoch 22/70\n",
      "645/645 [==============================] - ETA: 0s - loss: 0.3406 - accuracy: 0.8723\n",
      "Epoch 22: val_accuracy did not improve from 0.84194\n",
      "645/645 [==============================] - 28s 43ms/step - loss: 0.3406 - accuracy: 0.8723 - val_loss: 0.4276 - val_accuracy: 0.8406\n",
      "Epoch 23/70\n",
      "645/645 [==============================] - ETA: 0s - loss: 0.3360 - accuracy: 0.8735\n",
      "Epoch 23: val_accuracy improved from 0.84194 to 0.84209, saving model to best_model2.hdf5\n",
      "645/645 [==============================] - 28s 43ms/step - loss: 0.3360 - accuracy: 0.8735 - val_loss: 0.4224 - val_accuracy: 0.8421\n",
      "Epoch 24/70\n",
      "645/645 [==============================] - ETA: 0s - loss: 0.3353 - accuracy: 0.8774\n",
      "Epoch 24: val_accuracy did not improve from 0.84209\n",
      "645/645 [==============================] - 27s 42ms/step - loss: 0.3353 - accuracy: 0.8774 - val_loss: 0.4255 - val_accuracy: 0.8402\n",
      "Epoch 25/70\n",
      "645/645 [==============================] - ETA: 0s - loss: 0.3332 - accuracy: 0.8761\n",
      "Epoch 25: val_accuracy did not improve from 0.84209\n",
      "645/645 [==============================] - 27s 42ms/step - loss: 0.3332 - accuracy: 0.8761 - val_loss: 0.4242 - val_accuracy: 0.8392\n",
      "Epoch 26/70\n",
      "644/645 [============================>.] - ETA: 0s - loss: 0.3316 - accuracy: 0.8782\n",
      "Epoch 26: val_accuracy did not improve from 0.84209\n",
      "645/645 [==============================] - 27s 42ms/step - loss: 0.3316 - accuracy: 0.8781 - val_loss: 0.4247 - val_accuracy: 0.8387\n",
      "Epoch 27/70\n",
      "644/645 [============================>.] - ETA: 0s - loss: 0.3274 - accuracy: 0.8789\n",
      "Epoch 27: val_accuracy did not improve from 0.84209\n",
      "645/645 [==============================] - 27s 43ms/step - loss: 0.3274 - accuracy: 0.8789 - val_loss: 0.4254 - val_accuracy: 0.8421\n",
      "Epoch 28/70\n",
      "644/645 [============================>.] - ETA: 0s - loss: 0.3233 - accuracy: 0.8806\n",
      "Epoch 28: val_accuracy improved from 0.84209 to 0.84224, saving model to best_model2.hdf5\n",
      "645/645 [==============================] - 28s 43ms/step - loss: 0.3233 - accuracy: 0.8806 - val_loss: 0.4211 - val_accuracy: 0.8422\n",
      "Epoch 29/70\n",
      "644/645 [============================>.] - ETA: 0s - loss: 0.3187 - accuracy: 0.8826\n",
      "Epoch 29: val_accuracy improved from 0.84224 to 0.84384, saving model to best_model2.hdf5\n",
      "645/645 [==============================] - 28s 44ms/step - loss: 0.3186 - accuracy: 0.8826 - val_loss: 0.4238 - val_accuracy: 0.8438\n",
      "Epoch 30/70\n",
      "644/645 [============================>.] - ETA: 0s - loss: 0.3203 - accuracy: 0.8817\n",
      "Epoch 30: val_accuracy did not improve from 0.84384\n",
      "645/645 [==============================] - 28s 43ms/step - loss: 0.3203 - accuracy: 0.8817 - val_loss: 0.4226 - val_accuracy: 0.8411\n",
      "Epoch 31/70\n",
      "644/645 [============================>.] - ETA: 0s - loss: 0.3176 - accuracy: 0.8832\n",
      "Epoch 31: val_accuracy did not improve from 0.84384\n",
      "645/645 [==============================] - 28s 43ms/step - loss: 0.3177 - accuracy: 0.8832 - val_loss: 0.4275 - val_accuracy: 0.8412\n",
      "Epoch 32/70\n",
      "644/645 [============================>.] - ETA: 0s - loss: 0.3168 - accuracy: 0.8841\n",
      "Epoch 32: val_accuracy did not improve from 0.84384\n",
      "645/645 [==============================] - 29s 45ms/step - loss: 0.3168 - accuracy: 0.8841 - val_loss: 0.4243 - val_accuracy: 0.8402\n",
      "Epoch 33/70\n",
      "644/645 [============================>.] - ETA: 0s - loss: 0.3152 - accuracy: 0.8835\n",
      "Epoch 33: val_accuracy did not improve from 0.84384\n",
      "645/645 [==============================] - 28s 44ms/step - loss: 0.3152 - accuracy: 0.8836 - val_loss: 0.4282 - val_accuracy: 0.8419\n",
      "Epoch 34/70\n",
      "644/645 [============================>.] - ETA: 0s - loss: 0.3097 - accuracy: 0.8865\n",
      "Epoch 34: val_accuracy did not improve from 0.84384\n",
      "645/645 [==============================] - 28s 43ms/step - loss: 0.3096 - accuracy: 0.8866 - val_loss: 0.4270 - val_accuracy: 0.8405\n",
      "Epoch 35/70\n",
      "644/645 [============================>.] - ETA: 0s - loss: 0.3119 - accuracy: 0.8863\n",
      "Epoch 35: val_accuracy did not improve from 0.84384\n",
      "645/645 [==============================] - 28s 43ms/step - loss: 0.3119 - accuracy: 0.8863 - val_loss: 0.4268 - val_accuracy: 0.8425\n",
      "Epoch 36/70\n",
      "645/645 [==============================] - ETA: 0s - loss: 0.3059 - accuracy: 0.8893\n",
      "Epoch 36: val_accuracy did not improve from 0.84384\n",
      "645/645 [==============================] - 27s 42ms/step - loss: 0.3059 - accuracy: 0.8893 - val_loss: 0.4307 - val_accuracy: 0.8401\n",
      "Epoch 37/70\n",
      "644/645 [============================>.] - ETA: 0s - loss: 0.3043 - accuracy: 0.8904\n",
      "Epoch 37: val_accuracy did not improve from 0.84384\n",
      "645/645 [==============================] - 27s 42ms/step - loss: 0.3042 - accuracy: 0.8904 - val_loss: 0.4224 - val_accuracy: 0.8414\n",
      "Epoch 38/70\n",
      "645/645 [==============================] - ETA: 0s - loss: 0.3037 - accuracy: 0.8882\n",
      "Epoch 38: val_accuracy did not improve from 0.84384\n",
      "645/645 [==============================] - 27s 43ms/step - loss: 0.3037 - accuracy: 0.8882 - val_loss: 0.4309 - val_accuracy: 0.8398\n",
      "Epoch 39/70\n",
      "645/645 [==============================] - ETA: 0s - loss: 0.3002 - accuracy: 0.8916\n",
      "Epoch 39: val_accuracy did not improve from 0.84384\n",
      "645/645 [==============================] - 28s 43ms/step - loss: 0.3002 - accuracy: 0.8916 - val_loss: 0.4409 - val_accuracy: 0.8418\n",
      "Epoch 40/70\n",
      "644/645 [============================>.] - ETA: 0s - loss: 0.2992 - accuracy: 0.8916\n",
      "Epoch 40: val_accuracy did not improve from 0.84384\n",
      "645/645 [==============================] - 27s 42ms/step - loss: 0.2993 - accuracy: 0.8916 - val_loss: 0.4281 - val_accuracy: 0.8421\n",
      "Epoch 41/70\n",
      "645/645 [==============================] - ETA: 0s - loss: 0.2953 - accuracy: 0.8926\n",
      "Epoch 41: val_accuracy did not improve from 0.84384\n",
      "645/645 [==============================] - 28s 43ms/step - loss: 0.2953 - accuracy: 0.8926 - val_loss: 0.4308 - val_accuracy: 0.8380\n",
      "Epoch 42/70\n",
      "645/645 [==============================] - ETA: 0s - loss: 0.2973 - accuracy: 0.8923\n",
      "Epoch 42: val_accuracy did not improve from 0.84384\n",
      "645/645 [==============================] - 28s 43ms/step - loss: 0.2973 - accuracy: 0.8923 - val_loss: 0.4306 - val_accuracy: 0.8411\n",
      "Epoch 43/70\n",
      "645/645 [==============================] - ETA: 0s - loss: 0.2985 - accuracy: 0.8919\n",
      "Epoch 43: val_accuracy did not improve from 0.84384\n",
      "645/645 [==============================] - 27s 42ms/step - loss: 0.2985 - accuracy: 0.8919 - val_loss: 0.4291 - val_accuracy: 0.8403\n",
      "Epoch 44/70\n",
      "644/645 [============================>.] - ETA: 0s - loss: 0.2907 - accuracy: 0.8954\n",
      "Epoch 44: val_accuracy did not improve from 0.84384\n",
      "645/645 [==============================] - 28s 43ms/step - loss: 0.2907 - accuracy: 0.8954 - val_loss: 0.4356 - val_accuracy: 0.8412\n",
      "Epoch 45/70\n",
      "644/645 [============================>.] - ETA: 0s - loss: 0.2913 - accuracy: 0.8938\n",
      "Epoch 45: val_accuracy did not improve from 0.84384\n",
      "645/645 [==============================] - 27s 43ms/step - loss: 0.2913 - accuracy: 0.8938 - val_loss: 0.4399 - val_accuracy: 0.8425\n",
      "Epoch 46/70\n",
      "645/645 [==============================] - ETA: 0s - loss: 0.2900 - accuracy: 0.8954\n",
      "Epoch 46: val_accuracy did not improve from 0.84384\n",
      "645/645 [==============================] - 28s 44ms/step - loss: 0.2900 - accuracy: 0.8954 - val_loss: 0.4411 - val_accuracy: 0.8430\n",
      "Epoch 47/70\n",
      "644/645 [============================>.] - ETA: 0s - loss: 0.2888 - accuracy: 0.8960\n",
      "Epoch 47: val_accuracy improved from 0.84384 to 0.84442, saving model to best_model2.hdf5\n",
      "645/645 [==============================] - 29s 44ms/step - loss: 0.2887 - accuracy: 0.8960 - val_loss: 0.4269 - val_accuracy: 0.8444\n",
      "Epoch 48/70\n",
      "645/645 [==============================] - ETA: 0s - loss: 0.2867 - accuracy: 0.8974\n",
      "Epoch 48: val_accuracy did not improve from 0.84442\n",
      "645/645 [==============================] - 28s 43ms/step - loss: 0.2867 - accuracy: 0.8974 - val_loss: 0.4333 - val_accuracy: 0.8422\n",
      "Epoch 49/70\n",
      "645/645 [==============================] - ETA: 0s - loss: 0.2868 - accuracy: 0.8961\n",
      "Epoch 49: val_accuracy did not improve from 0.84442\n",
      "645/645 [==============================] - 27s 43ms/step - loss: 0.2868 - accuracy: 0.8961 - val_loss: 0.4358 - val_accuracy: 0.8435\n",
      "Epoch 50/70\n",
      "645/645 [==============================] - ETA: 0s - loss: 0.2853 - accuracy: 0.8966\n",
      "Epoch 50: val_accuracy improved from 0.84442 to 0.84486, saving model to best_model2.hdf5\n",
      "645/645 [==============================] - 28s 43ms/step - loss: 0.2853 - accuracy: 0.8966 - val_loss: 0.4381 - val_accuracy: 0.8449\n",
      "Epoch 51/70\n",
      "644/645 [============================>.] - ETA: 0s - loss: 0.2824 - accuracy: 0.8991\n",
      "Epoch 51: val_accuracy did not improve from 0.84486\n",
      "645/645 [==============================] - 28s 43ms/step - loss: 0.2824 - accuracy: 0.8991 - val_loss: 0.4336 - val_accuracy: 0.8419\n",
      "Epoch 52/70\n",
      "644/645 [============================>.] - ETA: 0s - loss: 0.2824 - accuracy: 0.8970\n",
      "Epoch 52: val_accuracy did not improve from 0.84486\n",
      "645/645 [==============================] - 28s 43ms/step - loss: 0.2823 - accuracy: 0.8970 - val_loss: 0.4434 - val_accuracy: 0.8390\n",
      "Epoch 53/70\n",
      "645/645 [==============================] - ETA: 0s - loss: 0.2798 - accuracy: 0.8995\n",
      "Epoch 53: val_accuracy did not improve from 0.84486\n",
      "645/645 [==============================] - 28s 43ms/step - loss: 0.2798 - accuracy: 0.8995 - val_loss: 0.4452 - val_accuracy: 0.8409\n",
      "Epoch 54/70\n",
      "645/645 [==============================] - ETA: 0s - loss: 0.2794 - accuracy: 0.8996\n",
      "Epoch 54: val_accuracy did not improve from 0.84486\n",
      "645/645 [==============================] - 28s 43ms/step - loss: 0.2794 - accuracy: 0.8996 - val_loss: 0.4412 - val_accuracy: 0.8379\n",
      "Epoch 55/70\n",
      "644/645 [============================>.] - ETA: 0s - loss: 0.2747 - accuracy: 0.9007\n",
      "Epoch 55: val_accuracy did not improve from 0.84486\n",
      "645/645 [==============================] - 28s 43ms/step - loss: 0.2747 - accuracy: 0.9007 - val_loss: 0.4391 - val_accuracy: 0.8408\n",
      "Epoch 56/70\n",
      "645/645 [==============================] - ETA: 0s - loss: 0.2767 - accuracy: 0.8994\n",
      "Epoch 56: val_accuracy did not improve from 0.84486\n",
      "645/645 [==============================] - 28s 43ms/step - loss: 0.2767 - accuracy: 0.8994 - val_loss: 0.4348 - val_accuracy: 0.8427\n",
      "Epoch 57/70\n",
      "645/645 [==============================] - ETA: 0s - loss: 0.2763 - accuracy: 0.8998\n",
      "Epoch 57: val_accuracy did not improve from 0.84486\n",
      "645/645 [==============================] - 28s 43ms/step - loss: 0.2763 - accuracy: 0.8998 - val_loss: 0.4428 - val_accuracy: 0.8434\n",
      "Epoch 58/70\n",
      "645/645 [==============================] - ETA: 0s - loss: 0.2749 - accuracy: 0.9001\n",
      "Epoch 58: val_accuracy did not improve from 0.84486\n",
      "645/645 [==============================] - 28s 43ms/step - loss: 0.2749 - accuracy: 0.9001 - val_loss: 0.4438 - val_accuracy: 0.8415\n",
      "Epoch 59/70\n",
      "644/645 [============================>.] - ETA: 0s - loss: 0.2733 - accuracy: 0.9030\n",
      "Epoch 59: val_accuracy did not improve from 0.84486\n",
      "645/645 [==============================] - 28s 43ms/step - loss: 0.2732 - accuracy: 0.9030 - val_loss: 0.4410 - val_accuracy: 0.8433\n",
      "Epoch 60/70\n",
      "645/645 [==============================] - ETA: 0s - loss: 0.2706 - accuracy: 0.9023\n",
      "Epoch 60: val_accuracy did not improve from 0.84486\n",
      "645/645 [==============================] - 28s 43ms/step - loss: 0.2706 - accuracy: 0.9023 - val_loss: 0.4482 - val_accuracy: 0.8434\n",
      "Epoch 61/70\n",
      "644/645 [============================>.] - ETA: 0s - loss: 0.2679 - accuracy: 0.9047\n",
      "Epoch 61: val_accuracy did not improve from 0.84486\n",
      "645/645 [==============================] - 28s 43ms/step - loss: 0.2679 - accuracy: 0.9047 - val_loss: 0.4450 - val_accuracy: 0.8433\n",
      "Epoch 62/70\n",
      "644/645 [============================>.] - ETA: 0s - loss: 0.2723 - accuracy: 0.9020\n",
      "Epoch 62: val_accuracy did not improve from 0.84486\n",
      "645/645 [==============================] - 28s 43ms/step - loss: 0.2723 - accuracy: 0.9020 - val_loss: 0.4387 - val_accuracy: 0.8430\n",
      "Epoch 63/70\n",
      "645/645 [==============================] - ETA: 0s - loss: 0.2680 - accuracy: 0.9045\n",
      "Epoch 63: val_accuracy improved from 0.84486 to 0.84573, saving model to best_model2.hdf5\n",
      "645/645 [==============================] - 27s 42ms/step - loss: 0.2680 - accuracy: 0.9045 - val_loss: 0.4446 - val_accuracy: 0.8457\n",
      "Epoch 64/70\n",
      "644/645 [============================>.] - ETA: 0s - loss: 0.2670 - accuracy: 0.9072\n",
      "Epoch 64: val_accuracy did not improve from 0.84573\n",
      "645/645 [==============================] - 28s 43ms/step - loss: 0.2669 - accuracy: 0.9072 - val_loss: 0.4454 - val_accuracy: 0.8387\n",
      "Epoch 65/70\n",
      "645/645 [==============================] - ETA: 0s - loss: 0.2670 - accuracy: 0.9033\n",
      "Epoch 65: val_accuracy did not improve from 0.84573\n",
      "645/645 [==============================] - 27s 43ms/step - loss: 0.2670 - accuracy: 0.9033 - val_loss: 0.4474 - val_accuracy: 0.8431\n",
      "Epoch 66/70\n",
      "644/645 [============================>.] - ETA: 0s - loss: 0.2654 - accuracy: 0.9059\n",
      "Epoch 66: val_accuracy did not improve from 0.84573\n",
      "645/645 [==============================] - 28s 43ms/step - loss: 0.2654 - accuracy: 0.9059 - val_loss: 0.4505 - val_accuracy: 0.8451\n",
      "Epoch 67/70\n",
      "644/645 [============================>.] - ETA: 0s - loss: 0.2633 - accuracy: 0.9070\n",
      "Epoch 67: val_accuracy did not improve from 0.84573\n",
      "645/645 [==============================] - 27s 42ms/step - loss: 0.2633 - accuracy: 0.9070 - val_loss: 0.4434 - val_accuracy: 0.8421\n",
      "Epoch 68/70\n",
      "644/645 [============================>.] - ETA: 0s - loss: 0.2617 - accuracy: 0.9049\n",
      "Epoch 68: val_accuracy did not improve from 0.84573\n",
      "645/645 [==============================] - 28s 43ms/step - loss: 0.2617 - accuracy: 0.9049 - val_loss: 0.4433 - val_accuracy: 0.8411\n",
      "Epoch 69/70\n",
      "644/645 [============================>.] - ETA: 0s - loss: 0.2625 - accuracy: 0.9052\n",
      "Epoch 69: val_accuracy did not improve from 0.84573\n",
      "645/645 [==============================] - 27s 43ms/step - loss: 0.2625 - accuracy: 0.9052 - val_loss: 0.4428 - val_accuracy: 0.8434\n",
      "Epoch 70/70\n",
      "645/645 [==============================] - ETA: 0s - loss: 0.2626 - accuracy: 0.9074\n",
      "Epoch 70: val_accuracy did not improve from 0.84573\n",
      "645/645 [==============================] - 27s 42ms/step - loss: 0.2626 - accuracy: 0.9074 - val_loss: 0.4473 - val_accuracy: 0.8427\n"
     ]
    }
   ],
   "source": [
    "model2 = Sequential()\n",
    "model2.add(layers.Embedding(max_words, 40, input_length=max_len))\n",
    "model2.add(layers.Bidirectional(layers.LSTM(20, dropout=0.6)))\n",
    "model2.add(layers.Dense(3, activation='softmax'))\n",
    "model2.compile(optimizer='rmsprop', loss='categorical_crossentropy', metrics=['accuracy'])\n",
    "checkpoint2 = ModelCheckpoint(\"best_model2.hdf5\", monitor='val_accuracy', verbose=1, save_best_only=True, mode='auto', period=1, save_weights_only=False)\n",
    "history2 = model2.fit(X_train, y_train, epochs=70, validation_data=(X_test, y_test), callbacks=[checkpoint2])"
   ]
  },
  {
   "cell_type": "code",
   "execution_count": 24,
   "id": "dde8cb13-3a3d-4dad-b3c5-70be48e717fa",
   "metadata": {
    "tags": []
   },
   "outputs": [
    {
     "name": "stdout",
     "output_type": "stream",
     "text": [
      "WARNING:tensorflow:`period` argument is deprecated. Please use `save_freq` to specify the frequency in number of batches seen.\n",
      "Epoch 1/70\n",
      "630/645 [============================>.] - ETA: 0s - loss: 1.0575 - acc: 0.5366WARNING:tensorflow:Can save best model only with val_accuracy available, skipping.\n",
      "645/645 [==============================] - 3s 4ms/step - loss: 1.0540 - acc: 0.5384 - val_loss: 0.9175 - val_acc: 0.5980\n",
      "Epoch 2/70\n",
      "639/645 [============================>.] - ETA: 0s - loss: 0.8824 - acc: 0.6055WARNING:tensorflow:Can save best model only with val_accuracy available, skipping.\n",
      "645/645 [==============================] - 3s 4ms/step - loss: 0.8826 - acc: 0.6053 - val_loss: 0.8746 - val_acc: 0.6203\n",
      "Epoch 3/70\n",
      "636/645 [============================>.] - ETA: 0s - loss: 0.8454 - acc: 0.6199WARNING:tensorflow:Can save best model only with val_accuracy available, skipping.\n",
      "645/645 [==============================] - 2s 4ms/step - loss: 0.8454 - acc: 0.6200 - val_loss: 0.8680 - val_acc: 0.6116\n",
      "Epoch 4/70\n",
      "631/645 [============================>.] - ETA: 0s - loss: 0.8166 - acc: 0.6391WARNING:tensorflow:Can save best model only with val_accuracy available, skipping.\n",
      "645/645 [==============================] - 3s 4ms/step - loss: 0.8160 - acc: 0.6395 - val_loss: 0.8147 - val_acc: 0.6609\n",
      "Epoch 5/70\n",
      "638/645 [============================>.] - ETA: 0s - loss: 0.7854 - acc: 0.6930WARNING:tensorflow:Can save best model only with val_accuracy available, skipping.\n",
      "645/645 [==============================] - 3s 4ms/step - loss: 0.7856 - acc: 0.6933 - val_loss: 0.7889 - val_acc: 0.7299\n",
      "Epoch 6/70\n",
      "632/645 [============================>.] - ETA: 0s - loss: 0.7571 - acc: 0.7419WARNING:tensorflow:Can save best model only with val_accuracy available, skipping.\n",
      "645/645 [==============================] - 3s 4ms/step - loss: 0.7563 - acc: 0.7425 - val_loss: 0.7842 - val_acc: 0.7158\n",
      "Epoch 7/70\n",
      "634/645 [============================>.] - ETA: 0s - loss: 0.7302 - acc: 0.7589WARNING:tensorflow:Can save best model only with val_accuracy available, skipping.\n",
      "645/645 [==============================] - 3s 4ms/step - loss: 0.7295 - acc: 0.7597 - val_loss: 0.7913 - val_acc: 0.7335\n",
      "Epoch 8/70\n",
      "632/645 [============================>.] - ETA: 0s - loss: 0.6665 - acc: 0.7907WARNING:tensorflow:Can save best model only with val_accuracy available, skipping.\n",
      "645/645 [==============================] - 2s 4ms/step - loss: 0.6672 - acc: 0.7903 - val_loss: 0.6830 - val_acc: 0.7628\n",
      "Epoch 9/70\n",
      "633/645 [============================>.] - ETA: 0s - loss: 0.5874 - acc: 0.8140WARNING:tensorflow:Can save best model only with val_accuracy available, skipping.\n",
      "645/645 [==============================] - 2s 4ms/step - loss: 0.5873 - acc: 0.8140 - val_loss: 0.5987 - val_acc: 0.7951\n",
      "Epoch 10/70\n",
      "640/645 [============================>.] - ETA: 0s - loss: 0.5330 - acc: 0.8283WARNING:tensorflow:Can save best model only with val_accuracy available, skipping.\n",
      "645/645 [==============================] - 3s 4ms/step - loss: 0.5328 - acc: 0.8285 - val_loss: 0.5635 - val_acc: 0.8082\n",
      "Epoch 11/70\n",
      "636/645 [============================>.] - ETA: 0s - loss: 0.5070 - acc: 0.8373WARNING:tensorflow:Can save best model only with val_accuracy available, skipping.\n",
      "645/645 [==============================] - 3s 4ms/step - loss: 0.5057 - acc: 0.8375 - val_loss: 0.5450 - val_acc: 0.8206\n",
      "Epoch 12/70\n",
      "639/645 [============================>.] - ETA: 0s - loss: 0.4886 - acc: 0.8462WARNING:tensorflow:Can save best model only with val_accuracy available, skipping.\n",
      "645/645 [==============================] - 2s 4ms/step - loss: 0.4891 - acc: 0.8459 - val_loss: 0.5287 - val_acc: 0.8248\n",
      "Epoch 13/70\n",
      "641/645 [============================>.] - ETA: 0s - loss: 0.4772 - acc: 0.8523WARNING:tensorflow:Can save best model only with val_accuracy available, skipping.\n",
      "645/645 [==============================] - 3s 4ms/step - loss: 0.4770 - acc: 0.8525 - val_loss: 0.5300 - val_acc: 0.8232\n",
      "Epoch 14/70\n",
      "636/645 [============================>.] - ETA: 0s - loss: 0.4669 - acc: 0.8557WARNING:tensorflow:Can save best model only with val_accuracy available, skipping.\n",
      "645/645 [==============================] - 3s 4ms/step - loss: 0.4666 - acc: 0.8558 - val_loss: 0.5288 - val_acc: 0.8229\n",
      "Epoch 15/70\n",
      "634/645 [============================>.] - ETA: 0s - loss: 0.4584 - acc: 0.8587WARNING:tensorflow:Can save best model only with val_accuracy available, skipping.\n",
      "645/645 [==============================] - 3s 4ms/step - loss: 0.4580 - acc: 0.8588 - val_loss: 0.5133 - val_acc: 0.8316\n",
      "Epoch 16/70\n",
      "636/645 [============================>.] - ETA: 0s - loss: 0.4513 - acc: 0.8627WARNING:tensorflow:Can save best model only with val_accuracy available, skipping.\n",
      "645/645 [==============================] - 3s 4ms/step - loss: 0.4499 - acc: 0.8633 - val_loss: 0.5264 - val_acc: 0.8287\n",
      "Epoch 17/70\n",
      "638/645 [============================>.] - ETA: 0s - loss: 0.4426 - acc: 0.8636WARNING:tensorflow:Can save best model only with val_accuracy available, skipping.\n",
      "645/645 [==============================] - 3s 4ms/step - loss: 0.4430 - acc: 0.8634 - val_loss: 0.5179 - val_acc: 0.8169\n",
      "Epoch 18/70\n",
      "635/645 [============================>.] - ETA: 0s - loss: 0.4384 - acc: 0.8654WARNING:tensorflow:Can save best model only with val_accuracy available, skipping.\n",
      "645/645 [==============================] - 3s 4ms/step - loss: 0.4380 - acc: 0.8656 - val_loss: 0.5090 - val_acc: 0.8334\n",
      "Epoch 19/70\n",
      "639/645 [============================>.] - ETA: 0s - loss: 0.4320 - acc: 0.8690WARNING:tensorflow:Can save best model only with val_accuracy available, skipping.\n",
      "645/645 [==============================] - 3s 4ms/step - loss: 0.4326 - acc: 0.8688 - val_loss: 0.5114 - val_acc: 0.8304\n",
      "Epoch 20/70\n",
      "631/645 [============================>.] - ETA: 0s - loss: 0.4275 - acc: 0.8706WARNING:tensorflow:Can save best model only with val_accuracy available, skipping.\n",
      "645/645 [==============================] - 2s 4ms/step - loss: 0.4271 - acc: 0.8706 - val_loss: 0.5128 - val_acc: 0.8284\n",
      "Epoch 21/70\n",
      "640/645 [============================>.] - ETA: 0s - loss: 0.4228 - acc: 0.8710WARNING:tensorflow:Can save best model only with val_accuracy available, skipping.\n",
      "645/645 [==============================] - 3s 4ms/step - loss: 0.4229 - acc: 0.8710 - val_loss: 0.5071 - val_acc: 0.8339\n",
      "Epoch 22/70\n",
      "632/645 [============================>.] - ETA: 0s - loss: 0.4172 - acc: 0.8749WARNING:tensorflow:Can save best model only with val_accuracy available, skipping.\n",
      "645/645 [==============================] - 3s 4ms/step - loss: 0.4186 - acc: 0.8740 - val_loss: 0.5150 - val_acc: 0.8331\n",
      "Epoch 23/70\n",
      "638/645 [============================>.] - ETA: 0s - loss: 0.4151 - acc: 0.8745WARNING:tensorflow:Can save best model only with val_accuracy available, skipping.\n",
      "645/645 [==============================] - 3s 4ms/step - loss: 0.4146 - acc: 0.8746 - val_loss: 0.5370 - val_acc: 0.8294\n",
      "Epoch 24/70\n",
      "639/645 [============================>.] - ETA: 0s - loss: 0.4119 - acc: 0.8762WARNING:tensorflow:Can save best model only with val_accuracy available, skipping.\n",
      "645/645 [==============================] - 3s 4ms/step - loss: 0.4116 - acc: 0.8762 - val_loss: 0.4968 - val_acc: 0.8374\n",
      "Epoch 25/70\n",
      "643/645 [============================>.] - ETA: 0s - loss: 0.4079 - acc: 0.8763WARNING:tensorflow:Can save best model only with val_accuracy available, skipping.\n",
      "645/645 [==============================] - 3s 4ms/step - loss: 0.4080 - acc: 0.8762 - val_loss: 0.5047 - val_acc: 0.8348\n",
      "Epoch 26/70\n",
      "632/645 [============================>.] - ETA: 0s - loss: 0.4041 - acc: 0.8789WARNING:tensorflow:Can save best model only with val_accuracy available, skipping.\n",
      "645/645 [==============================] - 3s 4ms/step - loss: 0.4047 - acc: 0.8787 - val_loss: 0.4987 - val_acc: 0.8354\n",
      "Epoch 27/70\n",
      "638/645 [============================>.] - ETA: 0s - loss: 0.4013 - acc: 0.8797WARNING:tensorflow:Can save best model only with val_accuracy available, skipping.\n",
      "645/645 [==============================] - 3s 4ms/step - loss: 0.4012 - acc: 0.8796 - val_loss: 0.4990 - val_acc: 0.8355\n",
      "Epoch 28/70\n",
      "643/645 [============================>.] - ETA: 0s - loss: 0.3986 - acc: 0.8818WARNING:tensorflow:Can save best model only with val_accuracy available, skipping.\n",
      "645/645 [==============================] - 3s 4ms/step - loss: 0.3985 - acc: 0.8818 - val_loss: 0.4942 - val_acc: 0.8371\n",
      "Epoch 29/70\n",
      "644/645 [============================>.] - ETA: 0s - loss: 0.3949 - acc: 0.8805WARNING:tensorflow:Can save best model only with val_accuracy available, skipping.\n",
      "645/645 [==============================] - 3s 4ms/step - loss: 0.3949 - acc: 0.8805 - val_loss: 0.4997 - val_acc: 0.8374\n",
      "Epoch 30/70\n",
      "634/645 [============================>.] - ETA: 0s - loss: 0.3911 - acc: 0.8821WARNING:tensorflow:Can save best model only with val_accuracy available, skipping.\n",
      "645/645 [==============================] - 3s 4ms/step - loss: 0.3922 - acc: 0.8818 - val_loss: 0.5126 - val_acc: 0.8347\n",
      "Epoch 31/70\n",
      "644/645 [============================>.] - ETA: 0s - loss: 0.3894 - acc: 0.8829WARNING:tensorflow:Can save best model only with val_accuracy available, skipping.\n",
      "645/645 [==============================] - 3s 4ms/step - loss: 0.3894 - acc: 0.8829 - val_loss: 0.4990 - val_acc: 0.8361\n",
      "Epoch 32/70\n",
      "640/645 [============================>.] - ETA: 0s - loss: 0.3858 - acc: 0.8827WARNING:tensorflow:Can save best model only with val_accuracy available, skipping.\n",
      "645/645 [==============================] - 3s 4ms/step - loss: 0.3856 - acc: 0.8827 - val_loss: 0.5013 - val_acc: 0.8358\n",
      "Epoch 33/70\n",
      "640/645 [============================>.] - ETA: 0s - loss: 0.3825 - acc: 0.8849WARNING:tensorflow:Can save best model only with val_accuracy available, skipping.\n",
      "645/645 [==============================] - 3s 4ms/step - loss: 0.3829 - acc: 0.8847 - val_loss: 0.5027 - val_acc: 0.8354\n",
      "Epoch 34/70\n",
      "631/645 [============================>.] - ETA: 0s - loss: 0.3809 - acc: 0.8862WARNING:tensorflow:Can save best model only with val_accuracy available, skipping.\n",
      "645/645 [==============================] - 3s 4ms/step - loss: 0.3801 - acc: 0.8862 - val_loss: 0.4984 - val_acc: 0.8379\n",
      "Epoch 35/70\n",
      "632/645 [============================>.] - ETA: 0s - loss: 0.3771 - acc: 0.8877WARNING:tensorflow:Can save best model only with val_accuracy available, skipping.\n",
      "645/645 [==============================] - 3s 4ms/step - loss: 0.3781 - acc: 0.8871 - val_loss: 0.5046 - val_acc: 0.8322\n",
      "Epoch 36/70\n",
      "633/645 [============================>.] - ETA: 0s - loss: 0.3746 - acc: 0.8869WARNING:tensorflow:Can save best model only with val_accuracy available, skipping.\n",
      "645/645 [==============================] - 3s 4ms/step - loss: 0.3750 - acc: 0.8873 - val_loss: 0.5030 - val_acc: 0.8357\n",
      "Epoch 37/70\n",
      "637/645 [============================>.] - ETA: 0s - loss: 0.3728 - acc: 0.8880WARNING:tensorflow:Can save best model only with val_accuracy available, skipping.\n",
      "645/645 [==============================] - 3s 4ms/step - loss: 0.3722 - acc: 0.8884 - val_loss: 0.5016 - val_acc: 0.8351\n",
      "Epoch 38/70\n",
      "635/645 [============================>.] - ETA: 0s - loss: 0.3711 - acc: 0.8901WARNING:tensorflow:Can save best model only with val_accuracy available, skipping.\n",
      "645/645 [==============================] - 3s 4ms/step - loss: 0.3703 - acc: 0.8904 - val_loss: 0.5056 - val_acc: 0.8331\n",
      "Epoch 39/70\n",
      "644/645 [============================>.] - ETA: 0s - loss: 0.3678 - acc: 0.8920WARNING:tensorflow:Can save best model only with val_accuracy available, skipping.\n",
      "645/645 [==============================] - 3s 4ms/step - loss: 0.3678 - acc: 0.8920 - val_loss: 0.5046 - val_acc: 0.8390\n",
      "Epoch 40/70\n",
      "640/645 [============================>.] - ETA: 0s - loss: 0.3656 - acc: 0.8926WARNING:tensorflow:Can save best model only with val_accuracy available, skipping.\n",
      "645/645 [==============================] - 3s 4ms/step - loss: 0.3654 - acc: 0.8926 - val_loss: 0.5054 - val_acc: 0.8392\n",
      "Epoch 41/70\n",
      "637/645 [============================>.] - ETA: 0s - loss: 0.3617 - acc: 0.8950WARNING:tensorflow:Can save best model only with val_accuracy available, skipping.\n",
      "645/645 [==============================] - 3s 4ms/step - loss: 0.3624 - acc: 0.8948 - val_loss: 0.5014 - val_acc: 0.8369\n",
      "Epoch 42/70\n",
      "637/645 [============================>.] - ETA: 0s - loss: 0.3612 - acc: 0.8937WARNING:tensorflow:Can save best model only with val_accuracy available, skipping.\n",
      "645/645 [==============================] - 3s 4ms/step - loss: 0.3607 - acc: 0.8941 - val_loss: 0.5027 - val_acc: 0.8382\n",
      "Epoch 43/70\n",
      "634/645 [============================>.] - ETA: 0s - loss: 0.3579 - acc: 0.8964WARNING:tensorflow:Can save best model only with val_accuracy available, skipping.\n",
      "645/645 [==============================] - 3s 4ms/step - loss: 0.3582 - acc: 0.8963 - val_loss: 0.5091 - val_acc: 0.8376\n",
      "Epoch 44/70\n",
      "643/645 [============================>.] - ETA: 0s - loss: 0.3561 - acc: 0.8974WARNING:tensorflow:Can save best model only with val_accuracy available, skipping.\n",
      "645/645 [==============================] - 3s 4ms/step - loss: 0.3559 - acc: 0.8974 - val_loss: 0.5167 - val_acc: 0.8373\n",
      "Epoch 45/70\n",
      "641/645 [============================>.] - ETA: 0s - loss: 0.3549 - acc: 0.8982WARNING:tensorflow:Can save best model only with val_accuracy available, skipping.\n",
      "645/645 [==============================] - 3s 4ms/step - loss: 0.3545 - acc: 0.8983 - val_loss: 0.5252 - val_acc: 0.8262\n",
      "Epoch 46/70\n",
      "641/645 [============================>.] - ETA: 0s - loss: 0.3522 - acc: 0.8985WARNING:tensorflow:Can save best model only with val_accuracy available, skipping.\n",
      "645/645 [==============================] - 3s 4ms/step - loss: 0.3519 - acc: 0.8986 - val_loss: 0.5095 - val_acc: 0.8361\n",
      "Epoch 47/70\n",
      "631/645 [============================>.] - ETA: 0s - loss: 0.3479 - acc: 0.9021WARNING:tensorflow:Can save best model only with val_accuracy available, skipping.\n",
      "645/645 [==============================] - 3s 4ms/step - loss: 0.3492 - acc: 0.9018 - val_loss: 0.5228 - val_acc: 0.8357\n",
      "Epoch 48/70\n",
      "644/645 [============================>.] - ETA: 0s - loss: 0.3475 - acc: 0.9014WARNING:tensorflow:Can save best model only with val_accuracy available, skipping.\n",
      "645/645 [==============================] - 3s 4ms/step - loss: 0.3475 - acc: 0.9014 - val_loss: 0.5108 - val_acc: 0.8352\n",
      "Epoch 49/70\n",
      "634/645 [============================>.] - ETA: 0s - loss: 0.3440 - acc: 0.9025WARNING:tensorflow:Can save best model only with val_accuracy available, skipping.\n",
      "645/645 [==============================] - 3s 4ms/step - loss: 0.3446 - acc: 0.9018 - val_loss: 0.5128 - val_acc: 0.8383\n",
      "Epoch 50/70\n",
      "639/645 [============================>.] - ETA: 0s - loss: 0.3433 - acc: 0.9042WARNING:tensorflow:Can save best model only with val_accuracy available, skipping.\n",
      "645/645 [==============================] - 3s 5ms/step - loss: 0.3430 - acc: 0.9043 - val_loss: 0.5318 - val_acc: 0.8251\n",
      "Epoch 51/70\n",
      "638/645 [============================>.] - ETA: 0s - loss: 0.3423 - acc: 0.9042WARNING:tensorflow:Can save best model only with val_accuracy available, skipping.\n",
      "645/645 [==============================] - 3s 4ms/step - loss: 0.3419 - acc: 0.9043 - val_loss: 0.5232 - val_acc: 0.8319\n",
      "Epoch 52/70\n",
      "641/645 [============================>.] - ETA: 0s - loss: 0.3392 - acc: 0.9076WARNING:tensorflow:Can save best model only with val_accuracy available, skipping.\n",
      "645/645 [==============================] - 3s 4ms/step - loss: 0.3392 - acc: 0.9076 - val_loss: 0.5206 - val_acc: 0.8344\n",
      "Epoch 53/70\n",
      "633/645 [============================>.] - ETA: 0s - loss: 0.3374 - acc: 0.9066WARNING:tensorflow:Can save best model only with val_accuracy available, skipping.\n",
      "645/645 [==============================] - 3s 4ms/step - loss: 0.3372 - acc: 0.9066 - val_loss: 0.5414 - val_acc: 0.8220\n",
      "Epoch 54/70\n",
      "642/645 [============================>.] - ETA: 0s - loss: 0.3357 - acc: 0.9083WARNING:tensorflow:Can save best model only with val_accuracy available, skipping.\n",
      "645/645 [==============================] - 3s 4ms/step - loss: 0.3359 - acc: 0.9082 - val_loss: 0.5202 - val_acc: 0.8334\n",
      "Epoch 55/70\n",
      "640/645 [============================>.] - ETA: 0s - loss: 0.3341 - acc: 0.9083WARNING:tensorflow:Can save best model only with val_accuracy available, skipping.\n",
      "645/645 [==============================] - 3s 4ms/step - loss: 0.3339 - acc: 0.9085 - val_loss: 0.5231 - val_acc: 0.8299\n",
      "Epoch 56/70\n",
      "644/645 [============================>.] - ETA: 0s - loss: 0.3318 - acc: 0.9108WARNING:tensorflow:Can save best model only with val_accuracy available, skipping.\n",
      "645/645 [==============================] - 3s 4ms/step - loss: 0.3318 - acc: 0.9108 - val_loss: 0.5291 - val_acc: 0.8360\n",
      "Epoch 57/70\n",
      "643/645 [============================>.] - ETA: 0s - loss: 0.3301 - acc: 0.9104WARNING:tensorflow:Can save best model only with val_accuracy available, skipping.\n",
      "645/645 [==============================] - 3s 4ms/step - loss: 0.3299 - acc: 0.9105 - val_loss: 0.5367 - val_acc: 0.8354\n",
      "Epoch 58/70\n",
      "632/645 [============================>.] - ETA: 0s - loss: 0.3278 - acc: 0.9125WARNING:tensorflow:Can save best model only with val_accuracy available, skipping.\n",
      "645/645 [==============================] - 2s 4ms/step - loss: 0.3271 - acc: 0.9125 - val_loss: 0.5642 - val_acc: 0.8201\n",
      "Epoch 59/70\n",
      "640/645 [============================>.] - ETA: 0s - loss: 0.3266 - acc: 0.9123WARNING:tensorflow:Can save best model only with val_accuracy available, skipping.\n",
      "645/645 [==============================] - 3s 4ms/step - loss: 0.3270 - acc: 0.9121 - val_loss: 0.5475 - val_acc: 0.8283\n",
      "Epoch 60/70\n",
      "635/645 [============================>.] - ETA: 0s - loss: 0.3242 - acc: 0.9133WARNING:tensorflow:Can save best model only with val_accuracy available, skipping.\n",
      "645/645 [==============================] - 3s 4ms/step - loss: 0.3241 - acc: 0.9134 - val_loss: 0.5465 - val_acc: 0.8374\n",
      "Epoch 61/70\n",
      "633/645 [============================>.] - ETA: 0s - loss: 0.3235 - acc: 0.9132WARNING:tensorflow:Can save best model only with val_accuracy available, skipping.\n",
      "645/645 [==============================] - 3s 4ms/step - loss: 0.3234 - acc: 0.9133 - val_loss: 0.5304 - val_acc: 0.8319\n",
      "Epoch 62/70\n",
      "643/645 [============================>.] - ETA: 0s - loss: 0.3210 - acc: 0.9155WARNING:tensorflow:Can save best model only with val_accuracy available, skipping.\n",
      "645/645 [==============================] - 3s 4ms/step - loss: 0.3209 - acc: 0.9155 - val_loss: 0.5418 - val_acc: 0.8262\n",
      "Epoch 63/70\n",
      "640/645 [============================>.] - ETA: 0s - loss: 0.3193 - acc: 0.9153WARNING:tensorflow:Can save best model only with val_accuracy available, skipping.\n",
      "645/645 [==============================] - 3s 5ms/step - loss: 0.3195 - acc: 0.9152 - val_loss: 0.5304 - val_acc: 0.8374\n",
      "Epoch 64/70\n",
      "641/645 [============================>.] - ETA: 0s - loss: 0.3175 - acc: 0.9144WARNING:tensorflow:Can save best model only with val_accuracy available, skipping.\n",
      "645/645 [==============================] - 3s 4ms/step - loss: 0.3173 - acc: 0.9145 - val_loss: 0.5364 - val_acc: 0.8331\n",
      "Epoch 65/70\n",
      "643/645 [============================>.] - ETA: 0s - loss: 0.3159 - acc: 0.9165WARNING:tensorflow:Can save best model only with val_accuracy available, skipping.\n",
      "645/645 [==============================] - 3s 4ms/step - loss: 0.3164 - acc: 0.9164 - val_loss: 0.5368 - val_acc: 0.8363\n",
      "Epoch 66/70\n",
      "645/645 [==============================] - ETA: 0s - loss: 0.3145 - acc: 0.9175WARNING:tensorflow:Can save best model only with val_accuracy available, skipping.\n",
      "645/645 [==============================] - 3s 4ms/step - loss: 0.3145 - acc: 0.9175 - val_loss: 0.5568 - val_acc: 0.8261\n",
      "Epoch 67/70\n",
      "633/645 [============================>.] - ETA: 0s - loss: 0.3130 - acc: 0.9180WARNING:tensorflow:Can save best model only with val_accuracy available, skipping.\n",
      "645/645 [==============================] - 3s 4ms/step - loss: 0.3127 - acc: 0.9181 - val_loss: 0.5475 - val_acc: 0.8345\n",
      "Epoch 68/70\n",
      "643/645 [============================>.] - ETA: 0s - loss: 0.3113 - acc: 0.9192WARNING:tensorflow:Can save best model only with val_accuracy available, skipping.\n",
      "645/645 [==============================] - 3s 4ms/step - loss: 0.3114 - acc: 0.9192 - val_loss: 0.5475 - val_acc: 0.8277\n",
      "Epoch 69/70\n",
      "639/645 [============================>.] - ETA: 0s - loss: 0.3097 - acc: 0.9188WARNING:tensorflow:Can save best model only with val_accuracy available, skipping.\n",
      "645/645 [==============================] - 3s 4ms/step - loss: 0.3098 - acc: 0.9188 - val_loss: 0.5599 - val_acc: 0.8248\n",
      "Epoch 70/70\n",
      "631/645 [============================>.] - ETA: 0s - loss: 0.3078 - acc: 0.9197WARNING:tensorflow:Can save best model only with val_accuracy available, skipping.\n",
      "645/645 [==============================] - 3s 4ms/step - loss: 0.3080 - acc: 0.9199 - val_loss: 0.5432 - val_acc: 0.8374\n"
     ]
    }
   ],
   "source": [
    "model3 = Sequential()\n",
    "model3.add(layers.Embedding(max_words, 40, input_length=max_len))\n",
    "model3.add(layers.Conv1D(20, 6, activation='relu', kernel_regularizer=regularizers.l1_l2(l1=2e-3, l2=2e-3), bias_regularizer=regularizers.l2(2e-3)))\n",
    "model3.add(layers.MaxPooling1D(5))\n",
    "model3.add(layers.Conv1D(20, 6, activation='relu', kernel_regularizer=regularizers.l1_l2(l1=2e-3, l2=2e-3), bias_regularizer=regularizers.l2(2e-3)))\n",
    "model3.add(layers.GlobalMaxPooling1D())\n",
    "model3.add(layers.Dense(3, activation='softmax'))\n",
    "model3.compile(optimizer='rmsprop', loss='categorical_crossentropy', metrics=['acc'])\n",
    "checkpoint3 = ModelCheckpoint(\"best_model3.hdf5\", monitor='val_accuracy', verbose=1, save_best_only=True, mode='auto', period=1, save_weights_only=False)\n",
    "history3 = model3.fit(X_train, y_train, epochs=70, validation_data=(X_test, y_test), callbacks=[checkpoint3])"
   ]
  },
  {
   "cell_type": "code",
   "execution_count": 25,
   "id": "44793077-22f8-4724-895a-840c814b85d3",
   "metadata": {
    "tags": []
   },
   "outputs": [
    {
     "name": "stderr",
     "output_type": "stream",
     "text": [
      "2023-05-01 11:41:56.419798: I tensorflow/core/common_runtime/executor.cc:1197] [/device:CPU:0] (DEBUG INFO) Executor start aborting (this does not indicate an error and you can ignore this message): INVALID_ARGUMENT: You must feed a value for placeholder tensor 'gradients/split_2_grad/concat/split_2/split_dim' with dtype int32\n",
      "\t [[{{node gradients/split_2_grad/concat/split_2/split_dim}}]]\n",
      "2023-05-01 11:41:56.420729: I tensorflow/core/common_runtime/executor.cc:1197] [/device:CPU:0] (DEBUG INFO) Executor start aborting (this does not indicate an error and you can ignore this message): INVALID_ARGUMENT: You must feed a value for placeholder tensor 'gradients/split_grad/concat/split/split_dim' with dtype int32\n",
      "\t [[{{node gradients/split_grad/concat/split/split_dim}}]]\n",
      "2023-05-01 11:41:56.421546: I tensorflow/core/common_runtime/executor.cc:1197] [/device:CPU:0] (DEBUG INFO) Executor start aborting (this does not indicate an error and you can ignore this message): INVALID_ARGUMENT: You must feed a value for placeholder tensor 'gradients/split_1_grad/concat/split_1/split_dim' with dtype int32\n",
      "\t [[{{node gradients/split_1_grad/concat/split_1/split_dim}}]]\n",
      "2023-05-01 11:41:56.503608: I tensorflow/core/common_runtime/executor.cc:1197] [/device:CPU:0] (DEBUG INFO) Executor start aborting (this does not indicate an error and you can ignore this message): INVALID_ARGUMENT: You must feed a value for placeholder tensor 'gradients/ReverseV2_grad/ReverseV2/ReverseV2/axis' with dtype int32 and shape [1]\n",
      "\t [[{{node gradients/ReverseV2_grad/ReverseV2/ReverseV2/axis}}]]\n",
      "2023-05-01 11:41:56.674538: I tensorflow/core/common_runtime/executor.cc:1197] [/device:CPU:0] (DEBUG INFO) Executor start aborting (this does not indicate an error and you can ignore this message): INVALID_ARGUMENT: You must feed a value for placeholder tensor 'gradients/split_2_grad/concat/split_2/split_dim' with dtype int32\n",
      "\t [[{{node gradients/split_2_grad/concat/split_2/split_dim}}]]\n",
      "2023-05-01 11:41:56.675672: I tensorflow/core/common_runtime/executor.cc:1197] [/device:CPU:0] (DEBUG INFO) Executor start aborting (this does not indicate an error and you can ignore this message): INVALID_ARGUMENT: You must feed a value for placeholder tensor 'gradients/split_grad/concat/split/split_dim' with dtype int32\n",
      "\t [[{{node gradients/split_grad/concat/split/split_dim}}]]\n",
      "2023-05-01 11:41:56.676478: I tensorflow/core/common_runtime/executor.cc:1197] [/device:CPU:0] (DEBUG INFO) Executor start aborting (this does not indicate an error and you can ignore this message): INVALID_ARGUMENT: You must feed a value for placeholder tensor 'gradients/split_1_grad/concat/split_1/split_dim' with dtype int32\n",
      "\t [[{{node gradients/split_1_grad/concat/split_1/split_dim}}]]\n"
     ]
    }
   ],
   "source": [
    "best_model = keras.models.load_model(\"best_model2.hdf5\")"
   ]
  },
  {
   "cell_type": "code",
   "execution_count": 26,
   "id": "8e3de8e3-1f7c-46d3-a66a-885eae3d1c73",
   "metadata": {
    "tags": []
   },
   "outputs": [
    {
     "name": "stderr",
     "output_type": "stream",
     "text": [
      "2023-05-01 11:41:56.862761: I tensorflow/core/common_runtime/executor.cc:1197] [/device:CPU:0] (DEBUG INFO) Executor start aborting (this does not indicate an error and you can ignore this message): INVALID_ARGUMENT: You must feed a value for placeholder tensor 'gradients/split_2_grad/concat/split_2/split_dim' with dtype int32\n",
      "\t [[{{node gradients/split_2_grad/concat/split_2/split_dim}}]]\n",
      "2023-05-01 11:41:56.864196: I tensorflow/core/common_runtime/executor.cc:1197] [/device:CPU:0] (DEBUG INFO) Executor start aborting (this does not indicate an error and you can ignore this message): INVALID_ARGUMENT: You must feed a value for placeholder tensor 'gradients/split_grad/concat/split/split_dim' with dtype int32\n",
      "\t [[{{node gradients/split_grad/concat/split/split_dim}}]]\n",
      "2023-05-01 11:41:56.864994: I tensorflow/core/common_runtime/executor.cc:1197] [/device:CPU:0] (DEBUG INFO) Executor start aborting (this does not indicate an error and you can ignore this message): INVALID_ARGUMENT: You must feed a value for placeholder tensor 'gradients/split_1_grad/concat/split_1/split_dim' with dtype int32\n",
      "\t [[{{node gradients/split_1_grad/concat/split_1/split_dim}}]]\n",
      "2023-05-01 11:41:56.954960: I tensorflow/core/common_runtime/executor.cc:1197] [/device:CPU:0] (DEBUG INFO) Executor start aborting (this does not indicate an error and you can ignore this message): INVALID_ARGUMENT: You must feed a value for placeholder tensor 'gradients/ReverseV2_grad/ReverseV2/ReverseV2/axis' with dtype int32 and shape [1]\n",
      "\t [[{{node gradients/ReverseV2_grad/ReverseV2/ReverseV2/axis}}]]\n",
      "2023-05-01 11:41:56.981862: I tensorflow/core/common_runtime/executor.cc:1197] [/device:CPU:0] (DEBUG INFO) Executor start aborting (this does not indicate an error and you can ignore this message): INVALID_ARGUMENT: You must feed a value for placeholder tensor 'gradients/split_2_grad/concat/split_2/split_dim' with dtype int32\n",
      "\t [[{{node gradients/split_2_grad/concat/split_2/split_dim}}]]\n",
      "2023-05-01 11:41:56.982617: I tensorflow/core/common_runtime/executor.cc:1197] [/device:CPU:0] (DEBUG INFO) Executor start aborting (this does not indicate an error and you can ignore this message): INVALID_ARGUMENT: You must feed a value for placeholder tensor 'gradients/split_grad/concat/split/split_dim' with dtype int32\n",
      "\t [[{{node gradients/split_grad/concat/split/split_dim}}]]\n",
      "2023-05-01 11:41:56.983343: I tensorflow/core/common_runtime/executor.cc:1197] [/device:CPU:0] (DEBUG INFO) Executor start aborting (this does not indicate an error and you can ignore this message): INVALID_ARGUMENT: You must feed a value for placeholder tensor 'gradients/split_1_grad/concat/split_1/split_dim' with dtype int32\n",
      "\t [[{{node gradients/split_1_grad/concat/split_1/split_dim}}]]\n"
     ]
    },
    {
     "name": "stdout",
     "output_type": "stream",
     "text": [
      "215/215 - 2s - loss: 0.4446 - accuracy: 0.8457 - 2s/epoch - 11ms/step\n",
      "Model accuracy:  0.8457283973693848\n"
     ]
    }
   ],
   "source": [
    "test_loss, test_accuracy = best_model.evaluate(X_test, y_test, verbose=2)\n",
    "print('Model accuracy: ', test_accuracy)"
   ]
  },
  {
   "cell_type": "code",
   "execution_count": 27,
   "id": "c207f73f-caa5-4984-9d17-80d0e9a3e189",
   "metadata": {
    "tags": []
   },
   "outputs": [
    {
     "name": "stderr",
     "output_type": "stream",
     "text": [
      "2023-05-01 11:41:59.224564: I tensorflow/core/common_runtime/executor.cc:1197] [/device:CPU:0] (DEBUG INFO) Executor start aborting (this does not indicate an error and you can ignore this message): INVALID_ARGUMENT: You must feed a value for placeholder tensor 'gradients/split_2_grad/concat/split_2/split_dim' with dtype int32\n",
      "\t [[{{node gradients/split_2_grad/concat/split_2/split_dim}}]]\n",
      "2023-05-01 11:41:59.225304: I tensorflow/core/common_runtime/executor.cc:1197] [/device:CPU:0] (DEBUG INFO) Executor start aborting (this does not indicate an error and you can ignore this message): INVALID_ARGUMENT: You must feed a value for placeholder tensor 'gradients/split_grad/concat/split/split_dim' with dtype int32\n",
      "\t [[{{node gradients/split_grad/concat/split/split_dim}}]]\n",
      "2023-05-01 11:41:59.226219: I tensorflow/core/common_runtime/executor.cc:1197] [/device:CPU:0] (DEBUG INFO) Executor start aborting (this does not indicate an error and you can ignore this message): INVALID_ARGUMENT: You must feed a value for placeholder tensor 'gradients/split_1_grad/concat/split_1/split_dim' with dtype int32\n",
      "\t [[{{node gradients/split_1_grad/concat/split_1/split_dim}}]]\n",
      "2023-05-01 11:41:59.306849: I tensorflow/core/common_runtime/executor.cc:1197] [/device:CPU:0] (DEBUG INFO) Executor start aborting (this does not indicate an error and you can ignore this message): INVALID_ARGUMENT: You must feed a value for placeholder tensor 'gradients/ReverseV2_grad/ReverseV2/ReverseV2/axis' with dtype int32 and shape [1]\n",
      "\t [[{{node gradients/ReverseV2_grad/ReverseV2/ReverseV2/axis}}]]\n",
      "2023-05-01 11:41:59.331721: I tensorflow/core/common_runtime/executor.cc:1197] [/device:CPU:0] (DEBUG INFO) Executor start aborting (this does not indicate an error and you can ignore this message): INVALID_ARGUMENT: You must feed a value for placeholder tensor 'gradients/split_2_grad/concat/split_2/split_dim' with dtype int32\n",
      "\t [[{{node gradients/split_2_grad/concat/split_2/split_dim}}]]\n",
      "2023-05-01 11:41:59.332495: I tensorflow/core/common_runtime/executor.cc:1197] [/device:CPU:0] (DEBUG INFO) Executor start aborting (this does not indicate an error and you can ignore this message): INVALID_ARGUMENT: You must feed a value for placeholder tensor 'gradients/split_grad/concat/split/split_dim' with dtype int32\n",
      "\t [[{{node gradients/split_grad/concat/split/split_dim}}]]\n",
      "2023-05-01 11:41:59.333188: I tensorflow/core/common_runtime/executor.cc:1197] [/device:CPU:0] (DEBUG INFO) Executor start aborting (this does not indicate an error and you can ignore this message): INVALID_ARGUMENT: You must feed a value for placeholder tensor 'gradients/split_1_grad/concat/split_1/split_dim' with dtype int32\n",
      "\t [[{{node gradients/split_1_grad/concat/split_1/split_dim}}]]\n"
     ]
    },
    {
     "name": "stdout",
     "output_type": "stream",
     "text": [
      "215/215 [==============================] - 2s 9ms/step\n"
     ]
    }
   ],
   "source": [
    "predictions = best_model.predict(X_test)"
   ]
  },
  {
   "cell_type": "code",
   "execution_count": 28,
   "id": "27f8f419-db22-4639-92bf-3db9d7ee7c13",
   "metadata": {
    "tags": []
   },
   "outputs": [],
   "source": [
    "matrix = confusion_matrix(y_test.argmax(axis=1), np.around(predictions, decimals=0).argmax(axis=1))"
   ]
  },
  {
   "cell_type": "code",
   "execution_count": 29,
   "id": "0f15af58-fa99-4335-a6ec-17c9eaa11627",
   "metadata": {
    "tags": []
   },
   "outputs": [
    {
     "data": {
      "text/plain": [
       "<Figure size 1500x1500 with 0 Axes>"
      ]
     },
     "execution_count": 29,
     "metadata": {},
     "output_type": "execute_result"
    },
    {
     "data": {
      "text/plain": [
       "<Figure size 1500x1500 with 0 Axes>"
      ]
     },
     "metadata": {},
     "output_type": "display_data"
    }
   ],
   "source": [
    "conf_matrix = pd.DataFrame(matrix, index=['Neutral', 'Negative', 'Positive'], columns=['Neutral', 'Negative', 'Positive']).to_numpy()\n",
    "\n",
    "conf_matrix = conf_matrix.astype('float') / conf_matrix.sum(axis=1)[:, np.newaxis]\n",
    "plt.figure(figsize=(15, 15))"
   ]
  },
  {
   "cell_type": "code",
   "execution_count": 30,
   "id": "8533400c-ca86-44b2-b68d-cbcbe46f1698",
   "metadata": {
    "tags": []
   },
   "outputs": [
    {
     "data": {
      "text/plain": [
       "<Axes: >"
      ]
     },
     "execution_count": 30,
     "metadata": {},
     "output_type": "execute_result"
    },
    {
     "data": {
      "image/png": "[encoded data removed]",
      "text/plain": [
       "<Figure size 640x480 with 2 Axes>"
      ]
     },
     "metadata": {},
     "output_type": "display_data"
    }
   ],
   "source": [
    "sns.heatmap(conf_matrix, annot=True, annot_kws={\"size\": 15})"
   ]
  },
  {
   "cell_type": "code",
   "execution_count": 31,
   "id": "705bf017-c771-42d1-8a5f-84d19e1c83e3",
   "metadata": {
    "tags": []
   },
   "outputs": [
    {
     "name": "stdout",
     "output_type": "stream",
     "text": [
      "1/1 [==============================] - 0s 21ms/step\n"
     ]
    },
    {
     "data": {
      "text/plain": [
       "'Neutral'"
      ]
     },
     "execution_count": 31,
     "metadata": {},
     "output_type": "execute_result"
    }
   ],
   "source": [
    "sentiment = ['Neutral', 'Negative', 'Positive']\n",
    "sequence = tokenizer.texts_to_sequences([\"\"\"\n",
    "Research Statement\n",
    "Zhangchunsheng\n",
    "Research background\n",
    "I was educated at Sichuan University, majoring in Mechanical Design, Manufacture, and Automatization from 2008 to 2012. But after my graduation, I became more and more interested in computer science and artificial intelligence, and I quit my first job as an automotive engineer at FAW(First Automobile Works) and made up my mind to find a job in computer science and artificial intelligence.\n",
    "\n",
    "In 2016, I got my first programming job in Beijing. In 2018, I joined Bytedance Co., Ltd. and have been working for almost five years since then. I'm familiar with C/C++, GO, Python, PHP, Node.js, and many other programming languages. I can get familiar with any programming language or software framework in a week.\n",
    "\n",
    "During Bytedance, I mainly constructed a CI/CD platform called Bits. Now, the Bits platform has fully supported the mobile app CI/CD process in ByteDance. The whole mobile app CI/CD process, from the developer's first line of code to the delivery of the app to AppStore, is completed through this platform. In constructing platform functions, I mainly develop and maintain the platform's core process and mid-term planning. I currently host our group's agile process stand-up meeting, regularly assigning tasks, checking progress, and reporting timely follow-ups and results.\n",
    "\n",
    "I am very interested in scientific research but have little research experience. However, I think I have a characteristic no one can compare to. I have high execution ability and will stick to the goal once I set it. I believe scientific research should also need this ability.\n",
    "Research interests\n",
    "I don't have a profound understanding of cutting-edge computer science and artificial intelligence, but I think natural language processing, computer vision, and multimodal machine learning are challenging and essential.\n",
    "\n",
    "Although our computer vision is relatively mature, it is still far from biological intelligence. Although computer vision can distinguish people, dogs, and cats, this differs from what humans do in the real world. The computer trains the model through a large amount of data and pictures, then learns to distinguish these. But humans are different. After a child sees a cat, he knows it is a cat and will never misjudge it. If the computer has seen a biological dog and a toy dog that looks alike, it is likely to misjudge them since their images are similar. A child will never mistake a biological dog and a toy dog.\n",
    "\n",
    "The same is true for natural language processing. Although the current ChatGPT is very popular, it does not reason and induct like a human. My colleagues and I have run some tests on ChatGPT. We asked it to establish a regular expression from some English sentences. It is straightforward for people to recognize the pattern. The difficulty lies in generating the regular expression for humans. But ChatGPT still couldn't induct the correct rules after several rounds of questioning. ChatGPT is more like an intelligent search engine. It is just like a child who has learned a lot of knowledge. If you ask him what he has learned, he will quickly come up with the answer, but there seem to be some deficiencies in reasoning and inducting.\n",
    "\n",
    "For multimodal machine learning, I think this is closer to reality. Because it is difficult to understand the meaning of words, sounds, or images alone, even for humans. A classic example is \"Story of Stone Grotto Poet Eating Lions.\" All the Chinese characters in this short article are read in Chinese \"shi.\" You don't know what he is talking about if you don't read the text. So I think what can be applied to people's daily lives should probably be multimodal machine learning.\n",
    "Research plan\n",
    "I think when we use a lot of data to train the model, we are already far from the mechanism of our actual brain. A child doesn't need hundreds or thousands of photos to identify a cat. I wonder if we can use a small number of samples for model training. Just imagine, if we want to make an artificial intelligence that can reason independently, it will face the same complex world as humans. We can't fill it with all possible data and pictures from the moment it is created and let it carry out model training. There are always some scenes that it has never met before. The correct approach should be to let it learn these things through a small amount of training. This is what we should do, and it is also how to make AI closer to humans.\n",
    "\n",
    "\"\"\"])\n",
    "test = pad_sequences(sequence, maxlen=max_len)\n",
    "sentiment[np.around(best_model.predict(test), decimals=0).argmax(axis=1)[0]]"
   ]
  },
  {
   "cell_type": "code",
   "execution_count": null,
   "id": "c20f5d7c-73c7-4188-8a96-0773567e96db",
   "metadata": {},
   "outputs": [],
   "source": []
  }
 ],
 "metadata": {
  "kernelspec": {
   "display_name": "Python 3 (ipykernel)",
   "language": "python",
   "name": "python3"
  },
  "language_info": {
   "codemirror_mode": {
    "name": "ipython",
    "version": 3
   },
   "file_extension": ".py",
   "mimetype": "text/x-python",
   "name": "python",
   "nbconvert_exporter": "python",
   "pygments_lexer": "ipython3",
   "version": "3.9.16"
  }
 },
 "nbformat": 4,
 "nbformat_minor": 5
}
